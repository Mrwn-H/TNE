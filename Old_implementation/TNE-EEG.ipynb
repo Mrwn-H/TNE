{
 "cells": [
  {
   "cell_type": "code",
   "execution_count": 112,
   "id": "9c8dd3dd-405c-4938-9cf5-e82e29e443c0",
   "metadata": {},
   "outputs": [],
   "source": [
    "import matplotlib.pyplot as plt\n",
    "import numpy as np\n",
    "import pyxdf\n",
    "import mne\n",
    "import pandas as pd\n",
    "\n",
    "from matplotlib.colors import TwoSlopeNorm\n",
    "import seaborn as sns\n",
    "from mne.datasets import eegbci\n",
    "from mne.io import concatenate_raws, read_raw_edf\n",
    "from mne.time_frequency import tfr_multitaper\n",
    "from mne.stats import permutation_cluster_1samp_test as pcluster_test\n",
    "\n",
    "%matplotlib widget"
   ]
  },
  {
   "cell_type": "code",
   "execution_count": 123,
   "id": "85dde916-1fa4-41aa-8778-2664faf3bddb",
   "metadata": {},
   "outputs": [],
   "source": [
    "def get_index_of_stream_type(streams, type):\n",
    "    \"\"\"\n",
    "    type = 'EEG', 'TargetID'\n",
    "    return the index of the stream corresponding to the wanted type\n",
    "    types : 'EEG', 'Markers', 'Unity.Property', 'Unity.Marker'(2 different),\n",
    "    \"\"\"\n",
    "    if type == 'EEG': name = 'eegoSports 000'\n",
    "    \n",
    "    elif type == 'TargetID': name = 'MI trial marker'\n",
    "    else :\n",
    "        raise NameError(\n",
    "            f\"given type '{type}' is not an argument. Accepted types are 'EEG' and 'TargetID'\"\n",
    "        )\n",
    "    for i in range(len(streams)):\n",
    "        if streams[i]['info']['name'][0][:14] == name:\n",
    "            return i\n",
    "\n",
    "    raise NameError(\n",
    "         f\"given type '{type}' cannot be found in any of the streams\"\n",
    "    )"
   ]
  },
  {
   "cell_type": "code",
   "execution_count": 124,
   "id": "7668371f-8c84-460d-a077-46699a32a39b",
   "metadata": {},
   "outputs": [],
   "source": [
    "def get_raw_data(EEG):\n",
    "    data = streams[EEG][\"time_series\"].copy().T  * 1e-6\n",
    "    sfreq = float(streams[EEG][\"info\"][\"nominal_srate\"][0])\n",
    "    ch_types = ['eeg'] * 64 + ['misc'] + ['bio']\n",
    "    info_passive = mne.create_info(channel_label, sfreq, ch_types)\n",
    "    raw_passive = mne.io.RawArray(data, info_passive) \n",
    "    print(\"\\n  \\n  Raw data information \\n \\n \", raw_passive.info)\n",
    "    raw_passive.info['bads'].extend(['M1', 'M2'])\n",
    "    raw_passive.plot(scalings=0.00013); \n",
    "    return raw_passive"
   ]
  },
  {
   "cell_type": "code",
   "execution_count": 125,
   "id": "b7fd7fda-b5a6-4d9a-8ad7-22aa2d1287d3",
   "metadata": {},
   "outputs": [],
   "source": [
    "def preproc_eeg(raw_passive, freq_low, freq_high, car = True):\n",
    "    raw_passive_filtered = raw_passive.filter(l_freq=freq_low, h_freq=freq_high)\n",
    "    if car:\n",
    "        raw_passive_filtered, data_ref = mne.set_eeg_reference(raw_passive_filtered, ref_channels = 'average', copy = True)\n",
    "    raw_passive_filtered.plot();\n",
    "    print(\"\\n \\n  Filtered data information \\n \\n \", raw_passive_filtered.info)\n",
    "    return raw_passive_filtered"
   ]
  },
  {
   "cell_type": "code",
   "execution_count": 126,
   "id": "aef16532-a4cf-4e10-b1c5-1722f61a0e5f",
   "metadata": {},
   "outputs": [],
   "source": [
    "def get_epochs(streams, EEG, tiral_id, filtered_data, time_offset, duration):\n",
    "    reset_time = streams[EEG]['time_stamps'][0]\n",
    "    trial_time = streams[trial_id]['time_stamps'] - reset_time\n",
    "    targets = np.array(streams[trial_id]['time_series']).squeeze()\n",
    "    annotations = mne.Annotations(onset = trial_time, duration = 0., description = targets)\n",
    "    data_annotated = filtered_data.copy().set_annotations(annotations)\n",
    "    events_p01, event_id_p01 = mne.events_from_annotations(data_annotated)\n",
    "    epochs_p01 = mne.Epochs(filtered_data, events_p01, event_id_p01, tmin=-time_offset, tmax = duration, baseline = (-time_offset,0), reject=dict(eeg=400e-6), preload=True)\n",
    "    epochs_p01['2'].plot(events=events_p01, event_id=event_id_p01); \n",
    "    epochs_p01['5'].plot(events=events_p01, event_id=event_id_p01); \n",
    "    epochs_p01['8'].plot(events=events_p01, event_id=event_id_p01); "
   ]
  },
  {
   "cell_type": "code",
   "execution_count": 127,
   "id": "2491cce1-3679-42ce-8a51-41e459dfd7e7",
   "metadata": {},
   "outputs": [],
   "source": [
    "GROUP_REALISTIC_ARM = 'DATA/Group_Realistic_Arm/'\n",
    "SUBJECT = 'S01/'\n",
    "BASELINE_EO = 'sub-S01_eegBaselineOE.xdf'\n",
    "BASELINE_EC = 'sub-S01_eegBaselineCE.xdf'\n",
    "MI_PRE = 'sub-S01_MIpre.xdf'\n",
    "PO_BLOCK1 = 'sub_S01_PO_Block1.xdf'\n",
    "PO_BLOCK2 = 'sub_S01_PO_Block2.xdf'\n",
    "MI_POST = 'sub_S01_MIpost.xdf'\n",
    "EEG_MONTAGE = 'DATA/montage_perfect.csv'\n",
    "bandpass_cutoff_low = 1.5\n",
    "bandpass_cutoff_high = 40\n",
    "time_offset = 1\n",
    "duration = 5"
   ]
  },
  {
   "cell_type": "code",
   "execution_count": 128,
   "id": "02e201aa-279a-442c-889e-1fb2752e2c66",
   "metadata": {},
   "outputs": [
    {
     "name": "stderr",
     "output_type": "stream",
     "text": [
      "Stream 2: Calculated effective sampling rate 15487.4682 Hz is different from specified rate 500.0000 Hz.\n",
      "Stream 1: Calculated effective sampling rate 5192.4444 Hz is different from specified rate 500.0000 Hz.\n"
     ]
    },
    {
     "ename": "NameError",
     "evalue": "given type 'TargetID' cannot be found in any of the streams",
     "output_type": "error",
     "traceback": [
      "\u001b[0;31m---------------------------------------------------------------------------\u001b[0m",
      "\u001b[0;31mNameError\u001b[0m                                 Traceback (most recent call last)",
      "Input \u001b[0;32mIn [128]\u001b[0m, in \u001b[0;36m<cell line: 5>\u001b[0;34m()\u001b[0m\n\u001b[1;32m      3\u001b[0m streams, header \u001b[38;5;241m=\u001b[39m pyxdf\u001b[38;5;241m.\u001b[39mload_xdf(file_name)\n\u001b[1;32m      4\u001b[0m EEG \u001b[38;5;241m=\u001b[39m get_index_of_stream_type(streams, \u001b[38;5;28mtype\u001b[39m\u001b[38;5;241m=\u001b[39m\u001b[38;5;124m'\u001b[39m\u001b[38;5;124mEEG\u001b[39m\u001b[38;5;124m'\u001b[39m)\n\u001b[0;32m----> 5\u001b[0m trial_id \u001b[38;5;241m=\u001b[39m \u001b[43mget_index_of_stream_type\u001b[49m\u001b[43m(\u001b[49m\u001b[43mstreams\u001b[49m\u001b[43m,\u001b[49m\u001b[43m \u001b[49m\u001b[38;5;124;43m'\u001b[39;49m\u001b[38;5;124;43mTargetID\u001b[39;49m\u001b[38;5;124;43m'\u001b[39;49m\u001b[43m)\u001b[49m\n\u001b[1;32m      7\u001b[0m montage_label \u001b[38;5;241m=\u001b[39m pd\u001b[38;5;241m.\u001b[39mread_csv(EEG_MONTAGE)\n\u001b[1;32m      8\u001b[0m channel_label \u001b[38;5;241m=\u001b[39m montage_label[\u001b[38;5;124m'\u001b[39m\u001b[38;5;124mch_name\u001b[39m\u001b[38;5;124m'\u001b[39m]\u001b[38;5;241m.\u001b[39mtolist()\n",
      "Input \u001b[0;32mIn [123]\u001b[0m, in \u001b[0;36mget_index_of_stream_type\u001b[0;34m(streams, type)\u001b[0m\n\u001b[1;32m     15\u001b[0m     \u001b[38;5;28;01mif\u001b[39;00m streams[i][\u001b[38;5;124m'\u001b[39m\u001b[38;5;124minfo\u001b[39m\u001b[38;5;124m'\u001b[39m][\u001b[38;5;124m'\u001b[39m\u001b[38;5;124mname\u001b[39m\u001b[38;5;124m'\u001b[39m][\u001b[38;5;241m0\u001b[39m][:\u001b[38;5;241m14\u001b[39m] \u001b[38;5;241m==\u001b[39m name:\n\u001b[1;32m     16\u001b[0m         \u001b[38;5;28;01mreturn\u001b[39;00m i\n\u001b[0;32m---> 18\u001b[0m \u001b[38;5;28;01mraise\u001b[39;00m \u001b[38;5;167;01mNameError\u001b[39;00m(\n\u001b[1;32m     19\u001b[0m      \u001b[38;5;124mf\u001b[39m\u001b[38;5;124m\"\u001b[39m\u001b[38;5;124mgiven type \u001b[39m\u001b[38;5;124m'\u001b[39m\u001b[38;5;132;01m{\u001b[39;00m\u001b[38;5;28mtype\u001b[39m\u001b[38;5;132;01m}\u001b[39;00m\u001b[38;5;124m'\u001b[39m\u001b[38;5;124m cannot be found in any of the streams\u001b[39m\u001b[38;5;124m\"\u001b[39m\n\u001b[1;32m     20\u001b[0m )\n",
      "\u001b[0;31mNameError\u001b[0m: given type 'TargetID' cannot be found in any of the streams"
     ]
    }
   ],
   "source": [
    "file_name = GROUP_REALISTIC_ARM+SUBJECT+MI_PRE\n",
    "\n",
    "streams, header = pyxdf.load_xdf(file_name)\n",
    "EEG = get_index_of_stream_type(streams, type='EEG')\n",
    "trial_id = get_index_of_stream_type(streams, 'TargetID')\n",
    "\n",
    "montage_label = pd.read_csv(EEG_MONTAGE)\n",
    "channel_label = montage_label['ch_name'].tolist()\n",
    "channel_label.append('Trigger')\n",
    "channel_label.append('GSR')\n",
    "\n",
    "raw_data = get_raw_data(EEG, EEG_MONTAGE)\n",
    "\n",
    "filtered_data = preproc_eeg(raw_data, bandpass_cutoff_low, bandpass_cutoff_high)\n",
    "\n",
    "epochs = get_epochs(streams, EEG, trial_id, filtered_data, time_offset, duration)\n"
   ]
  },
  {
   "cell_type": "code",
   "execution_count": null,
   "id": "4f946e3d-0119-469f-992d-74465ac8fff1",
   "metadata": {},
   "outputs": [],
   "source": []
  }
 ],
 "metadata": {
  "kernelspec": {
   "display_name": "Python 3.9.13 ('ada')",
   "language": "python",
   "name": "python3"
  },
  "language_info": {
   "codemirror_mode": {
    "name": "ipython",
    "version": 3
   },
   "file_extension": ".py",
   "mimetype": "text/x-python",
   "name": "python",
   "nbconvert_exporter": "python",
   "pygments_lexer": "ipython3",
   "version": "3.9.13"
  },
  "vscode": {
   "interpreter": {
    "hash": "e6954f8447f328eb21d84ba857ff1b217dfcdb9196a4b7918e4b4184a5655b34"
   }
  }
 },
 "nbformat": 4,
 "nbformat_minor": 5
}
