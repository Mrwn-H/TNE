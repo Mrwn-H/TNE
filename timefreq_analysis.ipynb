{
 "cells": [
  {
   "attachments": {},
   "cell_type": "markdown",
   "metadata": {},
   "source": [
    "# Time-Frequency Analysis 2."
   ]
  },
  {
   "cell_type": "code",
   "execution_count": 1,
   "metadata": {},
   "outputs": [],
   "source": [
    "import matplotlib.pyplot as plt\n",
    "import numpy as np\n",
    "import pyxdf\n",
    "import mne\n",
    "import pandas as pd\n",
    "import copy\n",
    "\n",
    "from matplotlib.colors import TwoSlopeNorm\n",
    "import seaborn as sns\n",
    "from mne.datasets import eegbci\n",
    "from mne.io import concatenate_raws, read_raw_edf\n",
    "from mne.time_frequency import tfr_multitaper\n",
    "from mne.stats import permutation_cluster_1samp_test as pcluster_test\n",
    "import helpers\n",
    "from helpers import *\n",
    "import importlib\n",
    "import scipy\n",
    "from scipy import signal\n",
    "from scipy import stats\n",
    "from statsmodels.nonparametric.smoothers_lowess import lowess\n",
    "from operator import itemgetter\n",
    "from skfeature.function.similarity_based import fisher_score\n",
    "%matplotlib inline\n"
   ]
  },
  {
   "cell_type": "code",
   "execution_count": 2,
   "metadata": {},
   "outputs": [],
   "source": [
    "%gui qt"
   ]
  },
  {
   "attachments": {},
   "cell_type": "markdown",
   "metadata": {},
   "source": [
    "### Local Constants"
   ]
  },
  {
   "cell_type": "code",
   "execution_count": 3,
   "metadata": {},
   "outputs": [],
   "source": [
    "EVENTS_IDS = {\n",
    "    'MI' : ['Left','Right','Third'],\n",
    "    'PO' : [2,5,8]\n",
    "}\n",
    "filters = {\n",
    "    \"theta\":[4,8],\n",
    "    \"alpha\":[8,12],\n",
    "    \"beta\":[12,35],\n",
    "    \"gamma\":[35,130],\n",
    "}"
   ]
  },
  {
   "attachments": {},
   "cell_type": "markdown",
   "metadata": {},
   "source": [
    "### Local Functions"
   ]
  },
  {
   "cell_type": "code",
   "execution_count": 4,
   "metadata": {},
   "outputs": [],
   "source": [
    "def moving_average(a, n=3) :\n",
    "    ret = np.cumsum(a, dtype=float)\n",
    "    ret[n:] = ret[n:] - ret[:-n]\n",
    "    return ret[n - 1:] / n\n",
    "\n",
    "def get_evoked(EEG_dict,method='mean'):\n",
    "    evoked_dict = dict()\n",
    "    eeg_montage = mne.channels.read_custom_montage(MONTAGE)\n",
    "    for condition in list(EEG_dict.keys()):\n",
    "        epochs = EEG_dict[condition]['epochs']\n",
    "        if epochs != None:\n",
    "            event_type = [key for key in list(EVENTS_IDS.keys()) if key in condition][0];\n",
    "            events = EVENTS_IDS[event_type]\n",
    "            evoked = dict()\n",
    "            for event in events:\n",
    "                evoked_event = epochs[event].average(method=method)\n",
    "                evoked_event.info.set_montage(eeg_montage)\n",
    "                evoked[event] = evoked_event\n",
    "\n",
    "            evoked_dict[condition] = evoked\n",
    "    \n",
    "    return evoked_dict\n",
    "\n",
    "def get_ERDS_old(EEG_dict_epoched):\n",
    "    \n",
    "    freqs = np.arange(1, 40)  # frequencies from 2-35Hz\n",
    "    vmin, vmax = -1, 1.5  # set min and max ERDS values in plot\n",
    "    baseline = (-2, 0)  # baseline interval (in s)\n",
    "    cnorm = TwoSlopeNorm(vmin=vmin, vcenter=0, vmax=vmax)  # min, center & max ERDS\n",
    "\n",
    "    kwargs = dict(n_permutations=100, step_down_p=0.05, seed=1,\n",
    "                buffer_size=None, out_type='mask')  # for cluster test\n",
    "    tmin, tmax = -2, 7\n",
    "\n",
    "    conditions = list(EEG_dict_epoched.keys())\n",
    "\n",
    "    subject_ID = conditions[0].split('-')[1].split('_')[0]\n",
    "    \n",
    "    if int(subject_ID[1:3]) < 11:\n",
    "        grp = \"Group_Realistic_Arm\"\n",
    "    else:\n",
    "        grp = \"Group_Realistic_Arm_Tactile\"\n",
    "            \n",
    "    path = \"Data/\" + grp + \"/\" + subject_ID + \"/\" + \"ERDS/\"\n",
    "    isExist = os.path.exists(path)\n",
    "\n",
    "    if not isExist:\n",
    "        os.makedirs(path)\n",
    "\n",
    "    for condition in conditions:\n",
    "\n",
    "        if EEG_dict_epoched[condition]['epochs'] != None:\n",
    "            epochs_MI = EEG_dict_epoched[condition]['epochs'].copy().pick_channels(['C1', 'C2', 'C3', 'CZ', 'C4', 'C5', 'C6'])\n",
    "            tfr = tfr_multitaper(epochs_MI , freqs=freqs, n_cycles=freqs, use_fft=True,\n",
    "                            return_itc=False, average=False, decim=2)\n",
    "            tfr.crop(-2, 7).apply_baseline(baseline, mode=\"percent\")\n",
    "            df = tfr.to_data_frame(time_format = None, long_format = True)\n",
    "            freq_bounds = {'_': 0,\n",
    "                    'delta': 3,\n",
    "                    'theta': 7,\n",
    "                    'alpha': 13,\n",
    "                    'beta': 30,\n",
    "                    'gamma' : 140}\n",
    "            df['band'] = pd.cut(df['freq'], list(freq_bounds.values()),\n",
    "                            labels=list(freq_bounds)[1:])\n",
    "            # Filter to retain only relevant frequency bands:\n",
    "            freq_bands_of_interest = ['alpha', 'beta','theta','gamma']\n",
    "            df = df[df.band.isin(freq_bands_of_interest)]\n",
    "            df['band'] = df['band'].cat.remove_unused_categories()\n",
    "            df['channel'] = df['channel'].cat.reorder_categories(('C1', 'C2', 'C3', 'C4', 'C5', 'C6'),\n",
    "                                                            ordered=True)\n",
    "            g = sns.FacetGrid(df, row='band', col='channel', margin_titles=True)\n",
    "            g.map(sns.lineplot, 'time', 'value', 'condition', n_boot=10)\n",
    "            axline_kw = dict(color='black', linestyle='dashed', linewidth=0.5, alpha=0.5)\n",
    "            g.map(plt.axhline, y=0, **axline_kw)\n",
    "            g.map(plt.axvline, x=0, **axline_kw)\n",
    "            g.set(ylim=(-2, 6))\n",
    "            g.set_axis_labels(\"Time (s)\", \"ERDS (%)\")\n",
    "            g.set_titles(col_template=\"{col_name}\", row_template=\"{row_name}\")\n",
    "            g.add_legend(ncol=2, loc='lower center')\n",
    "            g.fig.subplots_adjust(left=0.1, right=0.9, top=0.9, bottom=0.08)\n",
    "            g.savefig(path+condition)\n",
    "        \n",
    "def misc():\n",
    "    EEG_dict_corrected = {}\n",
    "    ICA_dict = {}\n",
    "    EEG_dict_2 = EEG_dict\n",
    "\n",
    "    for condition in list(EEG_dict.keys()):\n",
    "        ICA_dict[condition] = mne.preprocessing.read_ica(path+'/ICA_data/'+condition+'_ica')\n",
    "        \n",
    "    EEG_dict,EEG_dict_corrected = apply_ica(EEG_dict,ICA_dict)\n",
    "        \n",
    "    for condition in list(EEG_dict.keys()):\n",
    "        signal = EEG_dict_corrected[condition]['signal']\n",
    "        signal, ref_data = mne.set_eeg_reference(signal, ref_channels='average', copy=True)\n",
    "        EEG_dict_corrected[condition]['signal'] = signal\n",
    "\n",
    "\n",
    "    EEG_dict_epoched = get_epochs(EEG_dict_corrected,EVENTS_dict)\n",
    "    #save_fif(EEG_dict_epoched)\n",
    "\n",
    "def filter_dict(EEG_dict,filter):\n",
    "\n",
    "    EGG_dict_filt = copy.deepcopy(EEG_dict)\n",
    "\n",
    "    for condition in list(EEG_dict.keys()):\n",
    "        signal = EEG_dict[condition]['signal'].copy().filter(filter[0],filter[1])\n",
    "        EGG_dict_filt[condition]['signal'] = signal\n",
    "\n",
    "    return EGG_dict_filt\n",
    "\n",
    "\n",
    "\n",
    "def eeg_square(EEG_dict):\n",
    "    new_dict = copy.deepcopy(EEG_dict)\n",
    "\n",
    "    for condition in list(new_dict.keys()):\n",
    "        signal = new_dict[condition]['signal'].copy()\n",
    "        new_eeg = mne.io.RawArray(np.square(signal.get_data()),signal.info)\n",
    "        new_dict[condition]['signal'] = new_eeg\n",
    "    return new_dict\n",
    "\n",
    "def pfurt_erds(EEG_dict_filtered,EVENTS_dict):\n",
    "    bands = list(EEG_dict_filtered.keys())\n",
    "    new_dict = copy.deepcopy(EEG_dict_filtered)\n",
    "    for band in bands:\n",
    "        current_eeg_dict = new_dict[band]\n",
    "        current_eeg_dict = eeg_square(current_eeg_dict)\n",
    "        current_eeg_dict = get_epochs(current_eeg_dict,EVENTS_dict)\n",
    "        new_dict[band] = current_eeg_dict\n",
    "        \n",
    "    return new_dict\n",
    "\n",
    "def plot_ERDS(EEG_dict,baseline,freqs_test,errorbar='ci',t_check=False):\n",
    "\n",
    "    freqs = np.arange(1, 40)  # frequencies from 2-35Hz\n",
    "    vmin, vmax = -1, 1.5  # set min and max ERDS values in plot\n",
    "    cnorm = TwoSlopeNorm(vmin=vmin, vcenter=0, vmax=vmax)  # min, center & max ERDS\n",
    "\n",
    "    kwargs = dict(n_permutations=100, step_down_p=0.05, seed=1,\n",
    "                buffer_size=None, out_type='mask')  # for cluster test\n",
    "    tmin, tmax = -2, 7\n",
    "\n",
    "    conditions = list(EEG_dict.keys())\n",
    "    '''\n",
    "    MIPOST = [x for x in conditions if 'MIpost' in x][0]\n",
    "    MIPRE = [x for x in conditions if 'MIpre' in x][0]\n",
    "    '''\n",
    "    #working_EEG = get_epochs(select_keys(EEG_dict,[MIPOST,MIPRE]),EVENTS_dict)\n",
    "    #evoked_dict = get_evoked(working_EEG)\n",
    "    t_test_dict = {}\n",
    "    channels = ['C5','C3', 'CZ', 'C4','C6']\n",
    "    \n",
    "    save_path = get_subject_path(EEG_dict) + '/ERDS'\n",
    "    isExist = os.path.exists(save_path)\n",
    "    if not isExist:\n",
    "        os.makedirs(save_path)\n",
    "\n",
    "    for cond in conditions:\n",
    "        epochs_MI = EEG_dict[cond]['epochs'].copy()\n",
    "        epochs_MI.load_data()\n",
    "        #epochs_MI.subtract_evoked()\n",
    "        epochs_MI.resample(500)\n",
    "        bads = epochs_MI.info['bads']\n",
    "        current_chs = []\n",
    "        [current_chs.append(x) for x in channels if x not in bads]\n",
    "        epochs_MI.pick_channels(current_chs)\n",
    "        \n",
    "        tfr = tfr_multitaper(epochs_MI , freqs=freqs, n_cycles=freqs, use_fft=True,\n",
    "                        return_itc=False, average=False, decim=2)\n",
    "        tfr.crop(tmin, tmax).apply_baseline(baseline, mode=\"percent\")\n",
    "\n",
    "        if t_check:\n",
    "            t_test_dict[cond] = t_test_3(tfr,freqs_test)\n",
    "            \n",
    "        df = tfr.to_data_frame(time_format = None, long_format = True)\n",
    "        # Map to frequency bands:\n",
    "        freq_bounds = {'_': 0,\n",
    "                    'delta': 3,\n",
    "                    'theta': 7,\n",
    "                    'alpha': 12,\n",
    "                    'beta': 34,\n",
    "                    'gamma' : 140}\n",
    "        df['band'] = pd.cut(df['freq'], list(freq_bounds.values()),\n",
    "                            labels=list(freq_bounds)[1:])\n",
    "        # Filter to retain only relevant frequency bands:\n",
    "        freq_bands_of_interest = ['theta','alpha','beta','gamma']\n",
    "        df = df[df.band.isin(freq_bands_of_interest)]\n",
    "        df['band'] = df['band'].cat.remove_unused_categories()\n",
    "        df['channel'] = df['channel'].cat.reorder_categories(current_chs,\n",
    "                                                        ordered=True)\n",
    "        g = sns.FacetGrid(df, row='band', col='channel', margin_titles=True)\n",
    "        g.map(sns.lineplot, 'time', 'value', 'condition', n_boot=10,errorbar=errorbar)\n",
    "        axline_kw = dict(color='black', linestyle='dashed', linewidth=0.5, alpha=0.5)\n",
    "        g.map(plt.axhline, y=0, **axline_kw)\n",
    "        g.map(plt.axvline, x=baseline[1], **axline_kw)\n",
    "        g.set(ylim=(-2, 6))\n",
    "        g.set_axis_labels(\"Time (s)\", \"ERDS (%)\")\n",
    "        g.set_titles(col_template=\"{col_name}\", row_template=\"{row_name}\")\n",
    "        g.add_legend(ncol=2, loc='lower center')\n",
    "        g.fig.subplots_adjust(left=0.1, right=0.9, top=0.9, bottom=0.08)\n",
    "        g.fig.suptitle(cond, fontsize=10)\n",
    "        plt.show()\n",
    "    \n",
    "        g.savefig(save_path+'/'+cond+'_ERDS.png')\n",
    "        del epochs_MI\n",
    "    return t_test_dict\n",
    "    \n",
    "def the_erds_maker(EEG_dict,EVENTS_dict,filters):\n",
    "    conditions = list(EEG_dict.keys())\n",
    "    bands = list(filters.keys())\n",
    "    channels = ['C5','C3','CZ','C4','C6']\n",
    "    MIPOST = [x for x in conditions if 'MIpost' in x][0]\n",
    "    MIPRE = [x for x in conditions if 'MIpre' in x][0]\n",
    "    plt.figure()\n",
    "    fig , axs = plt.subplots(len(bands),len(channels))\n",
    "    for band_idx,band in enumerate(bands):\n",
    "        fmin = filters[band][0]\n",
    "        fmax = filters[band][1]\n",
    "        new_dict = copy.deepcopy(EEG_dict)\n",
    "        for cond in list(new_dict.keys()):\n",
    "            new_dict[cond]['signal'] = new_dict[cond]['signal'].copy().filter(fmin,fmax)\n",
    "            signal = new_dict[cond]['signal'] \n",
    "            data = signal.get_data()\n",
    "            time = signal.times.copy()\n",
    "            for i in range(data.shape[0]):\n",
    "\n",
    "                data[i] = filtered = lowess(data[i], time, is_sorted=True, frac=0.025, it=0)\n",
    "\n",
    "            new_dict[cond]['signal'] = mne.io.RawArray(np.square(data),signal.info)\n",
    "        new_eeg = get_epochs(new_dict,EVENTS_dict)\n",
    "        for cond in list(new_eeg.keys()):\n",
    "            epoch = new_eeg[cond]['epochs']\n",
    "            epoch.load_data()\n",
    "            epoch.subtract_evoked()\n",
    "            epoch.resample(500)\n",
    "            #new_eeg[cond]['epochs'] = epoch.apply_hilbert(envelope=True)\n",
    "        evoked = get_evoked(new_eeg)\n",
    "            \n",
    "        colors = {'Left':'blue',\n",
    "                'Right':'orange',\n",
    "                'Third':'green'\n",
    "                }\n",
    "            \n",
    "        for k,ch in enumerate(channels):\n",
    "            axs[band_idx,k].set_title(ch)\n",
    "            for j,trial in enumerate(list(evoked[MIPOST])):\n",
    "                current_evoked = evoked[MIPOST][trial].copy()\n",
    "                avg = current_evoked.data[current_evoked.ch_names.index(ch)]\n",
    "                gfp = mne.baseline.rescale(avg, current_evoked.times, baseline=(-2, 0),mode='percent', copy=True);\n",
    "                filtered = lowess(gfp, current_evoked.times, is_sorted=True, frac=0.025, it=0)\n",
    "\n",
    "                axs[band_idx,k].plot(current_evoked.times,filtered[:,1],color=colors[trial],label=trial)\n",
    "                axs[band_idx,k].grid(True)\n",
    "            axs[band_idx,k].axvline(x = 0, color = 'black',linestyle=\"--\", label = 'trial onset')\n",
    "            axs[band_idx,k].legend()\n",
    "        del epoch\n",
    "        del evoked\n",
    "        del current_evoked\n",
    "    fig.tight_layout()\n",
    "    fig.set_figwidth(30)\n",
    "    fig.set_figheight(50)\n",
    "    plt.show()\n",
    "    return\n",
    "\n",
    "def smooth(signal,time):\n",
    "    filtered = lowess(signal, time, is_sorted=True, frac=0.025, it=0)\n",
    "    return filtered[:,1]\n",
    "\n",
    "def t_test(signal_dict):\n",
    "    sensors = list(signal_dict.keys())\n",
    "    t_test_keys = ['Right_vs_Left','Right_vs_Third','Left_vs_Third']\n",
    "    val_dict = {}\n",
    "    for sensor in sensors:\n",
    "        signals = signal_dict[sensor]\n",
    "        conditions = list(signals.keys())\n",
    "        val_dict[sensor] = {}\n",
    "        for key in t_test_keys:\n",
    "            current_conds = [x for x in conditions if x in key]\n",
    "            current_dict = select_keys(signals,current_conds)\n",
    "            signal_1, signal_2 = itemgetter(current_conds[0], current_conds[1])(current_dict)\n",
    "            value = scipy.stats.ttest_ind(signal_1, signal_2, axis=0, equal_var=True, nan_policy='propagate', permutations=None, random_state=None, alternative='two-sided', trim=0)\n",
    "            val_dict[sensor][key] = value[1]\n",
    "            \n",
    "    return val_dict\n",
    "\n",
    "def t_test_2(eeg_dict):\n",
    "    test_dict = {}\n",
    "    conditions = list(eeg_dict.keys())\n",
    "    channels = ['C5','C3','CZ','C4','C6']\n",
    "    t_test_keys = ['Right_vs_Left','Right_vs_Third','Left_vs_Third']\n",
    "    val_dict = {}\n",
    "    for condition in conditions:\n",
    "        test_dict[condition] = {}\n",
    "        epochs = eeg_dict[condition]['epochs'].copy()\n",
    "        for ch in channels:\n",
    "            \n",
    "            test_dict[condition][ch] = {}\n",
    "            \n",
    "            epoch_key = list(epochs.event_id.keys())\n",
    "            for key in t_test_keys:\n",
    "                \n",
    "                current_conds = [x for x in epoch_key if x in key]\n",
    "                signal_1 = epochs[current_conds[0]].get_data(picks=[ch])\n",
    "                signal_2 = epochs[current_conds[1]].get_data(picks=[ch])\n",
    "                n_times = signal_1.shape[-1]\n",
    "                comp = np.zeros((n_times,))\n",
    "                for n in range(n_times):\n",
    "                    value = scipy.stats.ttest_ind(signal_1[:,:,n], signal_2[:,:,n], axis=0, equal_var=True, nan_policy='propagate', permutations=None, random_state=None, alternative='two-sided', trim=0)\n",
    "                    comp[n] = value[1]/(2*n_times)\n",
    "                test_dict[condition][ch][key] = comp\n",
    "    return test_dict\n",
    "\n",
    "def t_test_3(tfr,freqs_dict):\n",
    "    freqs = list(freqs_dict.keys())\n",
    "    channels = tfr.ch_names\n",
    "    trials = list(tfr.event_id.keys())\n",
    "    values_dict = {}\n",
    "    t_test_keys = ['Right_vs_Left','Right_vs_Third','Left_vs_Third']\n",
    "    for freq in freqs:\n",
    "        values_dict[freq] = {}\n",
    "        freq_mask = (tfr.freqs >= freqs_dict[freq][0]) & (tfr.freqs <= freqs_dict[freq][1])\n",
    "        for ch in channels:\n",
    "            tfr_dict = {}\n",
    "            values_dict[freq][ch] = {}\n",
    "            for trial in trials:\n",
    "                current_tfr = tfr.copy().pick([ch])\n",
    "                selection = current_tfr[trial].data[:,:,freq_mask,:]\n",
    "                avg = np.mean(selection,axis=2)\n",
    "                tfr_dict[trial] = avg\n",
    "            for key in t_test_keys:\n",
    "                \n",
    "                current_conds = [x for x in trials if x in key]\n",
    "                signal_1 = tfr_dict[current_conds[0]]\n",
    "                signal_2 = tfr_dict[current_conds[1]]\n",
    "                n_times = signal_1.shape[-1]\n",
    "                comp = np.zeros((n_times,))\n",
    "                for n in range(n_times):\n",
    "                    value = scipy.stats.ttest_ind(signal_1[:,:,n], signal_2[:,:,n], axis=0, equal_var=True, nan_policy='propagate', permutations=None, random_state=None, alternative='two-sided', trim=0)\n",
    "                    comp[n] = value[1]/(2*n_times)\n",
    "                values_dict[freq][ch][key] = comp\n",
    "    return values_dict\n",
    "\n",
    "def apply_baseline(epoch,times,baseline):\n",
    "    gfp = mne.baseline.rescale(epoch, times, baseline=baseline,mode='percent', copy=True)\n",
    "    return gfp\n",
    "\n",
    "def get_power(signal):\n",
    "    power = np.mean(np.square(np.absolute(signal)))\n",
    "    return power\n",
    "\n",
    "def compute_f_score(inputs,labels):\n",
    "    # Compute the number of features and number of samples\n",
    "    n_samples = len(labels)\n",
    "    n_features = inputs.shape[1]\n",
    "\n",
    "    # Compute the number of classes\n",
    "    classes = np.unique(labels)\n",
    "    n_classes = len(classes)\n",
    "\n",
    "    # Compute feature mean\n",
    "    feature_mean = np.nanmean(inputs, axis=0)\n",
    "\n",
    "    # Compute mean and std for features class-wise\n",
    "    class_means = np.zeros((n_classes, num_features))\n",
    "    class_var = np.zeros((n_classes, num_features))\n",
    "\n",
    "    for i,c in enumerate(classes):\n",
    "        class_means[i] = np.nanmean(inputs[labels == c], axis=0)\n",
    "        class_var[i] = np.nanvar(inputs[labels == c], axis=0)\n",
    "    \n",
    "    f_scores = np.zeroes(n_features,1)\n",
    "\n",
    "    for n in n_features:\n",
    "        f_scores[n] = ((class_means[0]))\n",
    "def fisher_score_matrix(inputs, labels):\n",
    "    \"\"\"\n",
    "    Computes the Fisher score matrix given the inputs and labels.\n",
    "\n",
    "    Parameters:\n",
    "    inputs (numpy.ndarray): An array of input values.\n",
    "    labels (numpy.ndarray): An array of labels.\n",
    "\n",
    "    Returns:\n",
    "    fisher_score (numpy.ndarray): The Fisher score matrix.\n",
    "    \"\"\"\n",
    "    # Compute the number of features and number of samples\n",
    "    num_features = inputs.shape[1]\n",
    "    num_samples = inputs.shape[0]\n",
    "\n",
    "    # Compute the mean and standard deviation of the inputs\n",
    "    input_mean = np.nanmean(inputs, axis=0)\n",
    "    input_std = np.nanstd(inputs, axis=0)\n",
    "\n",
    "    # Standardize the inputs\n",
    "    inputs = (inputs - input_mean) / input_std\n",
    "\n",
    "    # Compute the class means\n",
    "    classes = np.unique(labels)\n",
    "    class_means = np.zeros((3, num_features))\n",
    "\n",
    "    for c in classes:\n",
    "        class_means[c-1] = np.nanmean(inputs[labels == c], axis=0)\n",
    "\n",
    "    # Compute feature mean\n",
    "    feature_mean = np.nanmean(inputs, axis=0)\n",
    "\n",
    "    # Compute the within-class scatter matrix\n",
    "    within_class_scatter = np.zeros((num_features, num_features))\n",
    "    for c in classes:\n",
    "        class_inputs = inputs[labels == c]\n",
    "        class_diff = class_inputs - class_means[c-1]\n",
    "        within_class_scatter += np.dot(class_diff.T, class_diff)\n",
    "\n",
    "    # Compute the between-class scatter matrix\n",
    "    between_class_scatter = np.zeros((num_features, num_features))\n",
    "    for c in classes:\n",
    "        between_class_scatter += (np.outer(class_means[c-1] - input_mean, class_means[c-1] - input_mean) * len(inputs[labels == c]))\n",
    "\n",
    "    # Compute the Fisher score matrix\n",
    "    fisher_score = np.dot(np.linalg.inv(within_class_scatter), between_class_scatter)\n",
    "\n",
    "    return fisher_score\n",
    "\n",
    "def fisher_analysis(EEG_dict,EVENTS_dict):\n",
    "    EEG_dict = get_epochs(EEG_dict,EVENTS_dict)\n",
    "    freqs = np.arange(4,41,2)\n",
    "\n",
    "    conditions = list(EEG_dict.keys())\n",
    "    save_path = get_subject_path(EEG_dict)\n",
    "    save_path = save_path + '/Fisher'\n",
    "    isExist = os.path.exists(save_path)\n",
    "    if not isExist:\n",
    "        os.makedirs(save_path)\n",
    "\n",
    "    for cond in conditions:\n",
    "        epochs = EEG_dict[cond]['epochs'].copy()\n",
    "        epochs.load_data()\n",
    "        epochs.crop(2,7)\n",
    "        epochs.resample(500)\n",
    "        picks = [ch for ch in epochs.ch_names if ch not in epochs.info['bads']]\n",
    "        fft = mne.time_frequency.psd_array_multitaper(epochs.get_data(picks=picks), epochs.info['sfreq'], fmin=0.0, fmax=40, bandwidth=2)\n",
    "        bandpower = fft[0]\n",
    "        current_freqs = fft[1]\n",
    "        IDs = np.where(np.in1d(current_freqs,freqs))\n",
    "        print(np.squeeze(bandpower[:,:,IDs]).shape)\n",
    "        bandpower = np.squeeze(bandpower[:,:,IDs])\n",
    "\n",
    "        x = np.squeeze(bandpower)\n",
    "        X = x.reshape(x.shape[0], x.shape[1]*x.shape[2])\n",
    "        print(X.shape)\n",
    "        y = epochs.events[:,2].copy()\n",
    "        print(y.shape)\n",
    "\n",
    "        inputs = X\n",
    "        labels = y    \n",
    "        # Compute the number of features and number of samples\n",
    "        n_samples = len(labels)\n",
    "        n_features = inputs.shape[1]\n",
    "\n",
    "        # Compute the number of classes\n",
    "        classes = np.unique(labels)\n",
    "        n_classes = len(classes)\n",
    "\n",
    "        # Compute feature mean\n",
    "        feature_mean = np.nanmean(inputs, axis=0)\n",
    "\n",
    "        # Compute mean and std for features class-wise\n",
    "        class_means = np.zeros((n_classes, n_features))\n",
    "        class_var = np.zeros((n_classes, n_features))\n",
    "\n",
    "        for i,c in enumerate(classes):\n",
    "            class_means[i] = np.nanmean(inputs[labels == c], axis=0)\n",
    "            class_var[i] = np.nanvar(inputs[labels == c], axis=0)\n",
    "            \n",
    "        f_scores = np.zeros((n_features,))\n",
    "        new_mean = class_means-feature_mean\n",
    "\n",
    "        for n in range(n_features):\n",
    "            f_scores[n] = np.sum(np.square(new_mean[:,n]))/np.sum(class_var[:,n])\n",
    "        f_scores = f_scores.reshape(x.shape[1],x.shape[2])\n",
    "\n",
    "        \n",
    "        g = sns.heatmap(f_scores,cmap = \"turbo\",xticklabels=freqs, yticklabels=picks)\n",
    "        plt.title('Heatmap of Flighr Dataset', fontsize = 20) # title with fontsize 20\n",
    "        plt.xlabel('Freqs [Hz]', fontsize = 15) # x-axis label with fontsize 15\n",
    "        plt.ylabel('Channels', fontsize = 15) # y-axis label with fontsize 15\n",
    "\n",
    "        plt.show()\n",
    "        figure = g.get_figure()    \n",
    "        figure.savefig(save_path+'/'+cond)\n",
    "\n",
    "\n",
    "def analysis(filters,subject_IDs):\n",
    "    for ID in subject_IDs:\n",
    "        EEG_dict_RAW,EEG_dict_corrected,EEG_dict_corrected_CAR,EEG_filtered,EVENTS_dict = get_subject(ID,mode='eye_blink')\n",
    "        working_EEG = get_epochs(EEG_dict_corrected_CAR,EVENTS_dict)\n",
    "        working_EEG = reject_bad_chs(working_EEG)\n",
    "        plot_ERDS(EEG_dict_corrected_CAR,(-2,0),filters,'se')\n",
    "\n",
    "def map_events(events,event_id):\n",
    "    trials = list(event_id.keys())\n",
    "    events = events[:,2]\n",
    "    res = pd.Series(events)\n",
    "    for trial in trials:\n",
    "        res[res==event_id[trial]] = trial\n",
    "    return res\n"
   ]
  },
  {
   "attachments": {},
   "cell_type": "markdown",
   "metadata": {},
   "source": [
    "## Get ERDS for all subjects"
   ]
  },
  {
   "cell_type": "code",
   "execution_count": null,
   "metadata": {},
   "outputs": [],
   "source": [
    "importlib.reload(helpers)\n",
    "importlib.reload(fisher_score)\n",
    "from helpers import *\n",
    "from skfeature.function.similarity_based import fisher_score"
   ]
  },
  {
   "cell_type": "code",
   "execution_count": null,
   "metadata": {},
   "outputs": [],
   "source": [
    "subjects_idx = np.arange(1,11)\n",
    "for idx in subjects_idx:\n",
    "    EEG_dict,EEG_dict_epoched = get_subject(idx)\n",
    "    get_ERDS(EEG_dict_epoched)"
   ]
  },
  {
   "cell_type": "code",
   "execution_count": 22,
   "metadata": {},
   "outputs": [
    {
     "name": "stdout",
     "output_type": "stream",
     "text": [
      "Processing: Data/Group_Realistic_Arm/S02\n"
     ]
    },
    {
     "name": "stderr",
     "output_type": "stream",
     "text": [
      "Stream 3: Calculated effective sampling rate 4369.2772 Hz is different from specified rate 500.0000 Hz.\n",
      "Stream 1: Calculated effective sampling rate 12901.4323 Hz is different from specified rate 500.0000 Hz.\n"
     ]
    },
    {
     "name": "stdout",
     "output_type": "stream",
     "text": [
      "Creating RawArray with float64 data, n_channels=64, n_times=1530474\n",
      "    Range : 0 ... 1530473 =      0.000 ...   765.236 secs\n",
      "Ready.\n",
      "Filtering raw data in 1 contiguous segment\n",
      "Setting up band-pass filter from 0.1 - 40 Hz\n",
      "\n",
      "FIR filter parameters\n",
      "---------------------\n",
      "Designing a one-pass, zero-phase, non-causal bandpass filter:\n",
      "- Windowed time-domain design (firwin) method\n",
      "- Hamming window with 0.0194 passband ripple and 53 dB stopband attenuation\n",
      "- Lower passband edge: 0.10\n",
      "- Lower transition bandwidth: 0.10 Hz (-6 dB cutoff frequency: 0.05 Hz)\n",
      "- Upper passband edge: 40.00 Hz\n",
      "- Upper transition bandwidth: 10.00 Hz (-6 dB cutoff frequency: 45.00 Hz)\n",
      "- Filter length: 66001 samples (33.001 sec)\n",
      "\n"
     ]
    },
    {
     "name": "stderr",
     "output_type": "stream",
     "text": [
      "[Parallel(n_jobs=1)]: Using backend SequentialBackend with 1 concurrent workers.\n",
      "[Parallel(n_jobs=1)]: Done   1 out of   1 | elapsed:    0.1s remaining:    0.0s\n",
      "[Parallel(n_jobs=1)]: Done   2 out of   2 | elapsed:    0.2s remaining:    0.0s\n",
      "[Parallel(n_jobs=1)]: Done   3 out of   3 | elapsed:    0.4s remaining:    0.0s\n",
      "[Parallel(n_jobs=1)]: Done   4 out of   4 | elapsed:    0.6s remaining:    0.0s\n",
      "[Parallel(n_jobs=1)]: Done  64 out of  64 | elapsed:   11.4s finished\n"
     ]
    },
    {
     "name": "stdout",
     "output_type": "stream",
     "text": [
      "Subject: sub-S02, EVENT: MI\n",
      "Used Annotations descriptions: ['Left', 'Right', 'Third']\n"
     ]
    },
    {
     "name": "stderr",
     "output_type": "stream",
     "text": [
      "Stream 1: Calculated effective sampling rate 4797.1930 Hz is different from specified rate 500.0000 Hz.\n",
      "Stream 3: Calculated effective sampling rate 14164.9345 Hz is different from specified rate 500.0000 Hz.\n"
     ]
    },
    {
     "name": "stdout",
     "output_type": "stream",
     "text": [
      "Creating RawArray with float64 data, n_channels=64, n_times=1292072\n",
      "    Range : 0 ... 1292071 =      0.000 ...   646.035 secs\n",
      "Ready.\n",
      "Filtering raw data in 1 contiguous segment\n",
      "Setting up band-pass filter from 0.1 - 40 Hz\n",
      "\n",
      "FIR filter parameters\n",
      "---------------------\n",
      "Designing a one-pass, zero-phase, non-causal bandpass filter:\n",
      "- Windowed time-domain design (firwin) method\n",
      "- Hamming window with 0.0194 passband ripple and 53 dB stopband attenuation\n",
      "- Lower passband edge: 0.10\n",
      "- Lower transition bandwidth: 0.10 Hz (-6 dB cutoff frequency: 0.05 Hz)\n",
      "- Upper passband edge: 40.00 Hz\n",
      "- Upper transition bandwidth: 10.00 Hz (-6 dB cutoff frequency: 45.00 Hz)\n",
      "- Filter length: 66001 samples (33.001 sec)\n",
      "\n"
     ]
    },
    {
     "name": "stderr",
     "output_type": "stream",
     "text": [
      "[Parallel(n_jobs=1)]: Using backend SequentialBackend with 1 concurrent workers.\n",
      "[Parallel(n_jobs=1)]: Done   1 out of   1 | elapsed:    0.1s remaining:    0.0s\n",
      "[Parallel(n_jobs=1)]: Done   2 out of   2 | elapsed:    0.2s remaining:    0.0s\n",
      "[Parallel(n_jobs=1)]: Done   3 out of   3 | elapsed:    0.4s remaining:    0.0s\n",
      "[Parallel(n_jobs=1)]: Done   4 out of   4 | elapsed:    0.5s remaining:    0.0s\n",
      "[Parallel(n_jobs=1)]: Done  64 out of  64 | elapsed:    9.5s finished\n"
     ]
    },
    {
     "name": "stdout",
     "output_type": "stream",
     "text": [
      "Subject: sub-S02, EVENT: MI\n",
      "Used Annotations descriptions: ['Left', 'Right', 'Third']\n",
      "Reading Data/Group_Realistic_Arm/S02/ICA_data/sub-S02_MIpost_ica ...\n",
      "Now restoring ICA solution ...\n",
      "Ready.\n",
      "Reading Data/Group_Realistic_Arm/S02/ICA_data/sub-S02_MIpre_ica ...\n",
      "Now restoring ICA solution ...\n",
      "Ready.\n"
     ]
    },
    {
     "name": "stderr",
     "output_type": "stream",
     "text": [
      "c:\\Users\\haiou\\Documents\\TNE\\Python\\helpers.py:308: RuntimeWarning: This filename (Data/Group_Realistic_Arm/S02/ICA_data/sub-S02_MIpost_ica) does not conform to MNE naming conventions. All ICA files should end with -ica.fif, -ica.fif.gz, _ica.fif or _ica.fif.gz\n",
      "  ICA_dict[condition] = mne.preprocessing.read_ica(path+'/ICA_data/'+condition+'_ica')\n",
      "c:\\Users\\haiou\\Documents\\TNE\\Python\\helpers.py:308: RuntimeWarning: This filename (Data/Group_Realistic_Arm/S02/ICA_data/sub-S02_MIpre_ica) does not conform to MNE naming conventions. All ICA files should end with -ica.fif, -ica.fif.gz, _ica.fif or _ica.fif.gz\n",
      "  ICA_dict[condition] = mne.preprocessing.read_ica(path+'/ICA_data/'+condition+'_ica')\n"
     ]
    },
    {
     "name": "stdout",
     "output_type": "stream",
     "text": [
      "Applying ICA to Raw instance\n",
      "    Transforming to ICA space (25 components)\n",
      "    Zeroing out 0 ICA components\n",
      "    Projecting back using 61 PCA components\n",
      "Applying ICA to Raw instance\n",
      "    Transforming to ICA space (25 components)\n",
      "    Zeroing out 1 ICA component\n",
      "    Projecting back using 61 PCA components\n",
      "EEG channel type selected for re-referencing\n",
      "Applying average reference.\n",
      "Applying a custom ('EEG',) reference.\n",
      "EEG channel type selected for re-referencing\n",
      "Applying average reference.\n",
      "Applying a custom ('EEG',) reference.\n"
     ]
    }
   ],
   "source": [
    "subject_ID = np.random.randint(1,20)\n",
    "EEG_dict_RAW,EEG_dict_corrected,EEG_dict_corrected_CAR,EEG_filtered,EVENTS_dict = get_subject(2,mode='eye_blink')\n",
    "conditions = list(EEG_dict_corrected.keys())\n",
    "MIPOST = [x for x in conditions if 'MIpost' in x][0]\n",
    "MIPRE = [x for x in conditions if 'MIpre' in x][0]"
   ]
  },
  {
   "cell_type": "code",
   "execution_count": null,
   "metadata": {},
   "outputs": [],
   "source": [
    "EEG_dict_corrected_CAR = get_epochs(EEG_dict_corrected_CAR,EVENTS_dict)"
   ]
  },
  {
   "cell_type": "code",
   "execution_count": 111,
   "metadata": {},
   "outputs": [],
   "source": [
    "epochs = EEG_dict_corrected_CAR[MIPRE]['epochs'].copy()\n",
    "n_epochs = epochs.events.shape[0]"
   ]
  },
  {
   "cell_type": "code",
   "execution_count": 119,
   "metadata": {},
   "outputs": [
    {
     "name": "stdout",
     "output_type": "stream",
     "text": [
      "Using data from preloaded Raw for 60 events and 20001 original time points ...\n",
      "0 bad epochs dropped\n",
      "Using data from preloaded Raw for 60 events and 20001 original time points ...\n",
      "    Rejecting  epoch based on EEG : ['C3', 'CZ', 'C4', 'CP5', 'CP1', 'CP2', 'CP6', 'C5', 'C2', 'CP4']\n",
      "    Rejecting  epoch based on EEG : ['C5']\n",
      "2 bad epochs dropped\n"
     ]
    }
   ],
   "source": [
    "Epoch_dict = reject_bad_chs(EEG_dict_corrected_CAR)"
   ]
  },
  {
   "cell_type": "code",
   "execution_count": 121,
   "metadata": {},
   "outputs": [
    {
     "name": "stdout",
     "output_type": "stream",
     "text": [
      "Using data from preloaded Raw for 60 events and 20001 original time points ...\n",
      "    Rejecting  epoch based on EEG : ['C3', 'CZ', 'C4', 'CP5', 'CP1', 'CP2', 'CP6', 'C5', 'C2', 'CP4']\n",
      "    Rejecting  epoch based on EEG : ['C5']\n",
      "2 bad epochs dropped\n",
      "Using data from preloaded Raw for 20 events and 20001 original time points ...\n"
     ]
    },
    {
     "data": {
      "image/png": "[encoded data removed]",
      "text/plain": [
       "<MNEBrowseFigure size 800x800 with 4 Axes>"
      ]
     },
     "metadata": {},
     "output_type": "display_data"
    },
    {
     "data": {
      "image/png": "[encoded data removed]",
      "text/plain": [
       "<MNEBrowseFigure size 800x800 with 4 Axes>"
      ]
     },
     "execution_count": 121,
     "metadata": {},
     "output_type": "execute_result"
    }
   ],
   "source": [
    "Epoch_dict[MIPRE]['epochs'].plot()"
   ]
  },
  {
   "attachments": {},
   "cell_type": "markdown",
   "metadata": {},
   "source": [
    "### Saving Bad Epochs"
   ]
  },
  {
   "cell_type": "code",
   "execution_count": 21,
   "metadata": {},
   "outputs": [],
   "source": [
    "%%capture\n",
    "for idx in range(1,21):\n",
    "    EEG_dict_RAW,EEG_dict_corrected,EEG_dict_corrected_CAR,EEG_filtered,EVENTS_dict = get_subject(idx)\n",
    "    EEG_dict = get_epochs(EEG_dict_corrected_CAR,EVENTS_dict)\n",
    "    save_bad_epochs(EEG_dict)"
   ]
  },
  {
   "attachments": {},
   "cell_type": "markdown",
   "metadata": {},
   "source": [
    "## Analysis"
   ]
  },
  {
   "cell_type": "code",
   "execution_count": null,
   "metadata": {},
   "outputs": [],
   "source": [
    "evoked_dict = get_evoked(working_EEG)"
   ]
  },
  {
   "attachments": {},
   "cell_type": "markdown",
   "metadata": {},
   "source": [
    "### Plotting of evoked responses"
   ]
  },
  {
   "cell_type": "code",
   "execution_count": null,
   "metadata": {},
   "outputs": [],
   "source": [
    "freqs = np.arange(1, 40)  # frequencies from 2-35Hz\n",
    "vmin, vmax = -1, 1.5  # set min and max ERDS values in plot\n",
    "baseline = (-2, 0)  # baseline interval (in s)\n",
    "cnorm = TwoSlopeNorm(vmin=vmin, vcenter=0, vmax=vmax)  # min, center & max ERDS\n",
    "\n",
    "kwargs = dict(n_permutations=100, step_down_p=0.05, seed=1,\n",
    "              buffer_size=None, out_type='mask')  # for cluster test\n",
    "tmin, tmax = -2, 7\n",
    "\n",
    "epochs_MI = working_EEG[MIPRE]['epochs'].copy()"
   ]
  },
  {
   "attachments": {},
   "cell_type": "markdown",
   "metadata": {},
   "source": [
    "### MI study"
   ]
  },
  {
   "cell_type": "code",
   "execution_count": null,
   "metadata": {},
   "outputs": [],
   "source": [
    "epochs_MI.copy().plot()"
   ]
  },
  {
   "cell_type": "code",
   "execution_count": null,
   "metadata": {},
   "outputs": [],
   "source": [
    "epochs_MI.load_data()\n",
    "epochs_MI.pick_channels(['C3', 'CZ', 'C4'])"
   ]
  },
  {
   "cell_type": "code",
   "execution_count": null,
   "metadata": {},
   "outputs": [],
   "source": [
    "tfr = tfr_multitaper(epochs_MI , freqs=freqs, n_cycles=freqs, use_fft=True,\n",
    "                     return_itc=False, average=False, decim=2)"
   ]
  },
  {
   "cell_type": "code",
   "execution_count": null,
   "metadata": {},
   "outputs": [],
   "source": []
  },
  {
   "cell_type": "code",
   "execution_count": null,
   "metadata": {},
   "outputs": [],
   "source": [
    "print(tfr_2)\n",
    "print(tfr_2.data.shape)\n",
    "print(tfr_2.info)"
   ]
  },
  {
   "cell_type": "code",
   "execution_count": null,
   "metadata": {},
   "outputs": [],
   "source": [
    "print(epochs_MI.event_id)\n",
    "print(epochs_MI[epochs_MI.events[:,2] == 1])"
   ]
  },
  {
   "cell_type": "code",
   "execution_count": null,
   "metadata": {},
   "outputs": [],
   "source": [
    "plt.plot(tfr.times,tfr.data[7,2,12,:])\n",
    "plt.show()"
   ]
  },
  {
   "cell_type": "code",
   "execution_count": null,
   "metadata": {},
   "outputs": [],
   "source": [
    "tfr.crop(-2, 7).apply_baseline(baseline, mode=\"percent\")"
   ]
  },
  {
   "cell_type": "code",
   "execution_count": null,
   "metadata": {},
   "outputs": [],
   "source": [
    "tfr.data.shape"
   ]
  },
  {
   "cell_type": "code",
   "execution_count": null,
   "metadata": {},
   "outputs": [],
   "source": []
  },
  {
   "cell_type": "code",
   "execution_count": null,
   "metadata": {},
   "outputs": [],
   "source": [
    "tfr?"
   ]
  },
  {
   "cell_type": "code",
   "execution_count": null,
   "metadata": {},
   "outputs": [],
   "source": [
    "plt.plot(tfr.times,tfr.data[8,0,12,:])\n",
    "plt.show()"
   ]
  },
  {
   "cell_type": "code",
   "execution_count": null,
   "metadata": {},
   "outputs": [],
   "source": [
    "tfr_ave = np.mean(tfr.data[epochs_MI.events[:,2] == 2],axis=0)"
   ]
  },
  {
   "cell_type": "code",
   "execution_count": null,
   "metadata": {},
   "outputs": [],
   "source": [
    "tfr_ave.shape"
   ]
  },
  {
   "cell_type": "code",
   "execution_count": null,
   "metadata": {},
   "outputs": [],
   "source": [
    "plt.plot(tfr.times,tfr_ave[2,25])\n",
    "plt.show()"
   ]
  },
  {
   "cell_type": "code",
   "execution_count": null,
   "metadata": {},
   "outputs": [],
   "source": [
    "df = tfr.to_data_frame(time_format = None, long_format = True)"
   ]
  },
  {
   "cell_type": "code",
   "execution_count": null,
   "metadata": {},
   "outputs": [],
   "source": [
    "df_saved = df.copy()"
   ]
  },
  {
   "cell_type": "code",
   "execution_count": null,
   "metadata": {},
   "outputs": [],
   "source": [
    "df.iloc[50060000]"
   ]
  },
  {
   "cell_type": "code",
   "execution_count": null,
   "metadata": {},
   "outputs": [],
   "source": [
    "# Map to frequency bands:\n",
    "freq_bounds = {'_': 0,\n",
    "               'delta': 3,\n",
    "               'theta': 7,\n",
    "               'alpha': 12,\n",
    "               'beta': 34,\n",
    "               'gamma' : 140}\n",
    "df['band'] = pd.cut(df['freq'], list(freq_bounds.values()),\n",
    "                    labels=list(freq_bounds)[1:])"
   ]
  },
  {
   "cell_type": "code",
   "execution_count": null,
   "metadata": {},
   "outputs": [],
   "source": [
    "df.head()"
   ]
  },
  {
   "cell_type": "code",
   "execution_count": null,
   "metadata": {},
   "outputs": [],
   "source": [
    "# Filter to retain only relevant frequency bands:\n",
    "freq_bands_of_interest = ['alpha', 'beta','theta','gamma']\n",
    "df = df[df.band.isin(freq_bands_of_interest)]\n",
    "df['band'] = df['band'].cat.remove_unused_categories()"
   ]
  },
  {
   "cell_type": "code",
   "execution_count": null,
   "metadata": {},
   "outputs": [],
   "source": [
    "df[df['band']=='theta'].iloc[0]"
   ]
  },
  {
   "cell_type": "code",
   "execution_count": null,
   "metadata": {},
   "outputs": [],
   "source": [
    "df['channel'] = df['channel'].cat.reorder_categories(('C3','CZ', 'C4'),\n",
    "                                                     ordered=True)"
   ]
  },
  {
   "cell_type": "code",
   "execution_count": null,
   "metadata": {},
   "outputs": [],
   "source": [
    "g = sns.FacetGrid(df, row='band', col='channel', margin_titles=True)\n",
    "g.map(sns.lineplot, 'time', 'value', 'condition', n_boot=10,)\n",
    "axline_kw = dict(color='black', linestyle='dashed', linewidth=0.5, alpha=0.5)\n",
    "g.map(plt.axhline, y=0, **axline_kw)\n",
    "g.map(plt.axvline, x=0, **axline_kw)\n",
    "g.set(ylim=(-2, 6))\n",
    "g.set_axis_labels(\"Time (s)\", \"ERDS (%)\")\n",
    "g.set_titles(col_template=\"{col_name}\", row_template=\"{row_name}\")\n",
    "g.add_legend(ncol=2, loc='lower center')\n",
    "g.fig.subplots_adjust(left=0.1, right=0.9, top=0.9, bottom=0.08)"
   ]
  },
  {
   "cell_type": "code",
   "execution_count": null,
   "metadata": {},
   "outputs": [],
   "source": [
    "plt.show()"
   ]
  },
  {
   "attachments": {},
   "cell_type": "markdown",
   "metadata": {},
   "source": [
    "### ERDS Map"
   ]
  },
  {
   "cell_type": "code",
   "execution_count": null,
   "metadata": {},
   "outputs": [],
   "source": [
    "vmin, vmax = -1, 1.5  # set min and max ERDS values in plot\n",
    "baseline = (-1.5, 0.5)  # baseline interval (in s)\n",
    "cnorm = TwoSlopeNorm(vmin=vmin, vcenter=0, vmax=vmax)  # min, center & max ERDS\n",
    "\n",
    "kwargs = dict(n_permutations=100, step_down_p=0.05, seed=1,\n",
    "              buffer_size=None, out_type='mask')  # for cluster test\n",
    "working_EEG = get_epochs(EEG_dict_corrected_CAR,EVENTS_dict)\n"
   ]
  },
  {
   "cell_type": "code",
   "execution_count": null,
   "metadata": {},
   "outputs": [],
   "source": [
    "eeg_montage = mne.channels.read_custom_montage(MONTAGE)\n",
    "epochs = working_EEG[MIPOST]['epochs'].copy()\n",
    "epochs.load_data()\n",
    "epochs.info.set_montage(eeg_montage)\n",
    "channels = ['C5','C3','CZ','C4','C6']\n",
    "epochs.pick_channels(channels)\n",
    "epochs.resample(500)\n",
    "freqs = np.arange(1.5, 40)\n",
    "tfr = tfr_multitaper(epochs, freqs=freqs, n_cycles=freqs, use_fft=True,\n",
    "                     return_itc=False, average=False, decim=2)\n",
    "tfr = tfr.crop(-2, 7).apply_baseline(baseline, mode=\"percent\")\n",
    "tfr.info.set_montage(mne.channels.read_custom_montage(MONTAGE))"
   ]
  },
  {
   "cell_type": "code",
   "execution_count": null,
   "metadata": {},
   "outputs": [],
   "source": [
    "tfr_ev = tfr['Right']\n",
    "tfr_ev.average('mean').plot(picks=['C3','C4'])"
   ]
  },
  {
   "cell_type": "code",
   "execution_count": null,
   "metadata": {},
   "outputs": [],
   "source": [
    "power = tfr['Right'].average(method='median')"
   ]
  },
  {
   "cell_type": "code",
   "execution_count": null,
   "metadata": {},
   "outputs": [],
   "source": [
    "fig, axis = plt.subplots(1, 3, figsize=(7, 4))\n",
    "power.plot_topomap(ch_type='eeg', tmin=0.5, tmax=1.5, fmin=4, fmax=7,\n",
    "                   baseline=baseline, mode='percent', axes=axis[0],\n",
    "                   show=False, contours=1)\n",
    "power.plot_topomap(ch_type='eeg', tmin=0.5, tmax=1.5, fmin=8, fmax=12,\n",
    "                   baseline=baseline, mode='percent', axes=axis[1],\n",
    "                    show=False, contours=1)\n",
    "power.plot_topomap(ch_type='eeg', tmin=0.5, tmax=1.5, fmin=15, fmax=30,\n",
    "                   baseline=baseline, mode='percent', axes=axis[2],\n",
    "                show=False, contours=1)\n",
    "mne.viz.tight_layout()\n",
    "plt.show()"
   ]
  },
  {
   "cell_type": "code",
   "execution_count": null,
   "metadata": {},
   "outputs": [],
   "source": [
    "epochs.pick_channels(['C3', 'CZ', 'C4'])\n",
    "freqs = np.arange(1.5, 40)\n",
    "tfr = tfr_multitaper(epochs, freqs=freqs, n_cycles=freqs, use_fft=True,\n",
    "                     return_itc=False, average=False, decim=2)\n",
    "\n",
    "tfr.crop(-2, 7).apply_baseline(baseline, mode=\"percent\")\n",
    "\n",
    "for event in list(tfr.event_id.keys()):\n",
    "    # select desired epochs for visualization\n",
    "    tfr_ev = tfr[event]\n",
    "    fig, axes = plt.subplots(1, 4, figsize=(12, 4),\n",
    "                             gridspec_kw={\"width_ratios\": [10, 10, 10, 1]})\n",
    "    for ch, ax in enumerate(axes[:-1]):  # for each channel\n",
    "        # positive clusters\n",
    "        _, c1, p1, _ = pcluster_test(tfr_ev.data[:, ch], tail=1, **kwargs)\n",
    "        # negative clusters\n",
    "        _, c2, p2, _ = pcluster_test(tfr_ev.data[:, ch], tail=-1, **kwargs)\n",
    "\n",
    "        # note that we keep clusters with p <= 0.05 from the combined clusters\n",
    "        # of two independent tests; in this example, we do not correct for\n",
    "        # these two comparisons\n",
    "        c = np.stack(c1 + c2, axis=2)  # combined clusters\n",
    "        p = np.concatenate((p1, p2))  # combined p-values\n",
    "        mask = c[..., p <= 0.05].any(axis=-1)\n",
    "\n",
    "        # plot TFR (ERDS map with masking)\n",
    "        tfr_ev.average(method='median').plot([ch], cmap=\"RdBu\", cnorm=cnorm, axes=ax,\n",
    "                              colorbar=False, show=False, mask=mask,\n",
    "                              mask_style=\"mask\")\n",
    "\n",
    "        ax.set_title(epochs.ch_names[ch], fontsize=10)\n",
    "        ax.axvline(0, linewidth=1, color=\"black\", linestyle=\":\")  # event\n",
    "        if ch != 0:\n",
    "            ax.set_ylabel(\"\")\n",
    "            ax.set_yticklabels(\"\")\n",
    "    fig.colorbar(axes[0].images[-1], cax=axes[-1]).ax.set_yscale(\"linear\")\n",
    "    fig.suptitle(f\"ERDS ({event})\")\n",
    "    plt.show()"
   ]
  },
  {
   "cell_type": "code",
   "execution_count": null,
   "metadata": {},
   "outputs": [],
   "source": [
    "df = tfr.to_data_frame(time_format = None, long_format = True)\n",
    "df.head()"
   ]
  },
  {
   "cell_type": "code",
   "execution_count": null,
   "metadata": {},
   "outputs": [],
   "source": [
    "# Map to frequency bands:\n",
    "freq_bounds = {'_': 0,\n",
    "               'delta': 3,\n",
    "               'theta': 7,\n",
    "               'alpha': 13,\n",
    "               'beta': 30,}\n",
    "df['band'] = pd.cut(df['freq'], list(freq_bounds.values()),\n",
    "                    labels=list(freq_bounds)[1:])"
   ]
  },
  {
   "cell_type": "code",
   "execution_count": null,
   "metadata": {},
   "outputs": [],
   "source": [
    "# Filter to retain only relevant frequency bands:\n",
    "freq_bands_of_interest = ['alpha', 'beta']\n",
    "df = df[df.band.isin(freq_bands_of_interest)]\n",
    "df['band'] = df['band'].cat.remove_unused_categories()"
   ]
  },
  {
   "cell_type": "code",
   "execution_count": null,
   "metadata": {},
   "outputs": [],
   "source": [
    "epochs = EEG_dict_epoched['sub-S05_MIpost']['epochs']\n",
    "epochs_right = epochs['Right']\n",
    "evoked_right = epochs_right.average()\n",
    "eeg_montage = mne.channels.read_custom_montage(MONTAGE)\n",
    "evoked_right.info.set_montage(eeg_montage)"
   ]
  },
  {
   "cell_type": "code",
   "execution_count": null,
   "metadata": {},
   "outputs": [],
   "source": [
    "events_type = ['Left','Right','Third']\n",
    "evoked = dict()\n",
    "for event in events_type:\n",
    "    evoked_event = epochs[event].average()\n",
    "    evoked_event.info.set_montage(eeg_montage)\n",
    "    evoked[event] = evoked_event"
   ]
  },
  {
   "cell_type": "code",
   "execution_count": null,
   "metadata": {},
   "outputs": [],
   "source": [
    "print(evoked_right.info.ch_names)"
   ]
  },
  {
   "cell_type": "code",
   "execution_count": null,
   "metadata": {},
   "outputs": [],
   "source": [
    "evoked['Third'].plot()"
   ]
  },
  {
   "cell_type": "code",
   "execution_count": null,
   "metadata": {},
   "outputs": [],
   "source": [
    "times = np.linspace(0, 7, 14)\n",
    "evoked_dict['sub-S12_MIpost_ses-S001_task-Default_run-001_eeg']['Left'].plot_topomap(ch_type='eeg', times=times, colorbar=True)"
   ]
  },
  {
   "cell_type": "code",
   "execution_count": null,
   "metadata": {},
   "outputs": [],
   "source": [
    "evoked_dict['sub-S05_MIpost']['Third'].plot_joint(exclude=[])"
   ]
  },
  {
   "cell_type": "code",
   "execution_count": null,
   "metadata": {},
   "outputs": [],
   "source": [
    "evoked_dict['sub-S05_MIpost']['Right'].plot_image()"
   ]
  },
  {
   "cell_type": "code",
   "execution_count": null,
   "metadata": {},
   "outputs": [],
   "source": [
    "mne.viz.plot_compare_evokeds(evoked_dict['sub-S04_MIpre'], picks='eeg', colors=dict(Left=0, Right=1,Third=3),\n",
    "                             linestyles=dict(Left='solid', Right='dashed',Third='--'),\n",
    "                             axes='topo', styles=dict(Left=dict(linewidth=1),\n",
    "                                                      Right=dict(linewidth=1),\n",
    "                                                      Third=dict(linewidth=1)))"
   ]
  },
  {
   "cell_type": "code",
   "execution_count": null,
   "metadata": {},
   "outputs": [],
   "source": [
    "mne.viz.plot_compare_evokeds(evoked,picks=['C2'])"
   ]
  },
  {
   "cell_type": "code",
   "execution_count": null,
   "metadata": {},
   "outputs": [],
   "source": [
    "evoked['Third'].plot(gfp='only')"
   ]
  },
  {
   "attachments": {},
   "cell_type": "markdown",
   "metadata": {},
   "source": [
    "### Explore event-related dynamics for specific frequency bands"
   ]
  },
  {
   "cell_type": "code",
   "execution_count": null,
   "metadata": {},
   "outputs": [],
   "source": [
    "from mne.baseline import rescale\n",
    "from mne.datasets import somato\n",
    "from mne.stats import bootstrap_confidence_interval"
   ]
  },
  {
   "cell_type": "code",
   "execution_count": null,
   "metadata": {},
   "outputs": [],
   "source": [
    "# let's explore some frequency bands\n",
    "iter_freqs = [\n",
    "    ('Theta', 4, 7),\n",
    "    ('Alpha', 8, 12),\n",
    "    ('Beta', 13, 25),\n",
    "    ('Gamma', 30, 45)\n",
    "]"
   ]
  },
  {
   "cell_type": "code",
   "execution_count": null,
   "metadata": {},
   "outputs": [],
   "source": [
    "EEG_dict['sub-S04_MIpost']['signal'].plot(scalings=0.0003)"
   ]
  },
  {
   "cell_type": "code",
   "execution_count": null,
   "metadata": {},
   "outputs": [],
   "source": [
    "working_EEG = copy.deepcopy(EEG_dict_corrected)"
   ]
  },
  {
   "cell_type": "code",
   "execution_count": null,
   "metadata": {},
   "outputs": [],
   "source": [
    "%%capture\n",
    "frequency_map = list()\n",
    "condition = 'sub-S04_MIpost'\n",
    "eeg_dict = select_keys(EEG_dict_corrected,{condition})\n",
    "for band, fmin, fmax in iter_freqs:\n",
    "    current_eeg = copy.deepcopy(eeg_dict)\n",
    "    # bandpass filter\n",
    "    current_eeg[condition]['signal'] = current_eeg[condition]['signal'].copy().filter(fmin, fmax, n_jobs=None,  # use more jobs to speed up.\n",
    "                                                                                    l_trans_bandwidth=1,  # make sure filter params are the same\n",
    "                                                                                    h_trans_bandwidth=1)  # in each band and skip \"auto\" option.\n",
    "\n",
    "    # epoch\n",
    "    current_eeg = get_epochs(current_eeg,EVENT_dict,False)\n",
    "    # remove evoked response\n",
    "    epochs = current_eeg[condition]['epochs'].copy()\n",
    "    epochs = epochs['Right']\n",
    "    epochs.load_data()\n",
    "    epochs.subtract_evoked()\n",
    "\n",
    "    # get analytic signal (envelope)\n",
    "    epochs.apply_hilbert(envelope=True)\n",
    "    frequency_map.append(((band, fmin, fmax), epochs.average()))\n"
   ]
  },
  {
   "cell_type": "code",
   "execution_count": null,
   "metadata": {},
   "outputs": [],
   "source": [
    "# Helper function for plotting spread\n",
    "def stat_fun(x):\n",
    "    \"\"\"Return sum of squares.\"\"\"\n",
    "    return np.sum(x ** 2, axis=0)\n",
    "\n",
    "\n",
    "# Plot\n",
    "fig, axes = plt.subplots(4, 1, figsize=(10, 7), sharex=True, sharey=True)\n",
    "colors = plt.colormaps['winter_r'](np.linspace(0, 1, 4))\n",
    "for ((freq_name, fmin, fmax), average), color, ax in zip(\n",
    "        frequency_map, colors, axes.ravel()[::-1]):\n",
    "    times = average.times * 1e3\n",
    "    gfp = np.sum(average.data ** 2, axis=0)\n",
    "    gfp = mne.baseline.rescale(gfp, times, baseline=(None, 0))\n",
    "    ax.plot(times, gfp, label=freq_name, color=color, linewidth=2.5)\n",
    "    ax.axhline(0, linestyle='--', color='grey', linewidth=2)\n",
    "    ci_low, ci_up = bootstrap_confidence_interval(average.data, random_state=0,\n",
    "                                                  stat_fun=stat_fun)\n",
    "    ci_low = rescale(ci_low, average.times, baseline=(None, 0))\n",
    "    ci_up = rescale(ci_up, average.times, baseline=(None, 0))\n",
    "    ax.fill_between(times, gfp + ci_up, gfp - ci_low, color=color, alpha=0.3)\n",
    "    ax.grid(True)\n",
    "    ax.set_ylabel('GFP')\n",
    "    ax.annotate('%s (%d-%dHz)' % (freq_name, fmin, fmax),\n",
    "                xy=(0.95, 0.8),\n",
    "                horizontalalignment='right',\n",
    "                xycoords='axes fraction')\n",
    "    ax.set_xlim(-1000, 3000)\n",
    "\n",
    "axes.ravel()[-1].set_xlabel('Time [ms]')"
   ]
  },
  {
   "cell_type": "code",
   "execution_count": null,
   "metadata": {},
   "outputs": [],
   "source": [
    "plt.show()"
   ]
  },
  {
   "attachments": {},
   "cell_type": "markdown",
   "metadata": {},
   "source": [
    "### Manual ERDS"
   ]
  },
  {
   "cell_type": "code",
   "execution_count": null,
   "metadata": {},
   "outputs": [],
   "source": [
    "eeg_dict = pfurt_erds(EEG_filtered,EVENTS_dict)"
   ]
  },
  {
   "cell_type": "code",
   "execution_count": null,
   "metadata": {},
   "outputs": [],
   "source": [
    "working_EEG = get_epochs(EEG_filtered['gamma'],EVENTS_dict)"
   ]
  },
  {
   "cell_type": "code",
   "execution_count": null,
   "metadata": {},
   "outputs": [],
   "source": [
    "conditions = list(EEG_dict_corrected.keys())\n",
    "MIPOST = [x for x in conditions if 'MIpost' in x][0]\n",
    "MIPRE = [x for x in conditions if 'MIpre' in x][0]\n",
    "working_EEG = get_epochs(select_keys(EEG_dict,{MIPOST,MIPRE}),EVENTS_dict)\n",
    "\n",
    "epochs = working_EEG[MIPOST]['epochs']\n",
    "epochs.load_data()\n",
    "epochs.pick_channels(['C3', 'CZ', 'C4'])"
   ]
  },
  {
   "cell_type": "code",
   "execution_count": null,
   "metadata": {},
   "outputs": [],
   "source": [
    "epochs = epochs['Right']"
   ]
  },
  {
   "cell_type": "code",
   "execution_count": null,
   "metadata": {},
   "outputs": [],
   "source": [
    "freqs = np.arange(2, 40)  # frequencies from 2-35Hz\n",
    "tfr = tfr_multitaper(epochs, freqs=freqs, n_cycles=freqs, use_fft=True,\n",
    "                     return_itc=False, average=True, decim=2)"
   ]
  },
  {
   "cell_type": "code",
   "execution_count": null,
   "metadata": {},
   "outputs": [],
   "source": [
    "tfr?"
   ]
  },
  {
   "cell_type": "code",
   "execution_count": null,
   "metadata": {},
   "outputs": [],
   "source": [
    "tfr.ch_names"
   ]
  },
  {
   "cell_type": "code",
   "execution_count": null,
   "metadata": {},
   "outputs": [],
   "source": [
    "tfr.event_id"
   ]
  },
  {
   "cell_type": "code",
   "execution_count": null,
   "metadata": {},
   "outputs": [],
   "source": [
    "tfr.events"
   ]
  },
  {
   "cell_type": "code",
   "execution_count": null,
   "metadata": {},
   "outputs": [],
   "source": [
    "tfr.freqs"
   ]
  },
  {
   "cell_type": "code",
   "execution_count": null,
   "metadata": {},
   "outputs": [],
   "source": [
    "plt.figure()\n",
    "plt.plot(tfr.times,tfr.data[0,8])\n",
    "plt.show()"
   ]
  },
  {
   "cell_type": "code",
   "execution_count": null,
   "metadata": {},
   "outputs": [],
   "source": [
    "tfr.data.shape"
   ]
  },
  {
   "cell_type": "code",
   "execution_count": null,
   "metadata": {},
   "outputs": [],
   "source": [
    "tfr.crop(-2,7).apply_baseline((-2,0), mode=\"percent\")"
   ]
  },
  {
   "cell_type": "code",
   "execution_count": null,
   "metadata": {},
   "outputs": [],
   "source": [
    "left_id = tfr.events[:,2] == 1\n",
    "right_id = tfr.events[:,2] == 2"
   ]
  },
  {
   "cell_type": "code",
   "execution_count": null,
   "metadata": {},
   "outputs": [],
   "source": [
    "plt.figure()\n",
    "plt.plot(tfr.times,tfr.data[2,10])\n",
    "plt.show()"
   ]
  },
  {
   "cell_type": "code",
   "execution_count": null,
   "metadata": {},
   "outputs": [],
   "source": [
    "working_EEG['sub-S16_MIpost_ses-S001_task-Default_run-001_eeg']['signal'].plot()"
   ]
  },
  {
   "cell_type": "code",
   "execution_count": null,
   "metadata": {},
   "outputs": [],
   "source": [
    "epochs = working_EEG[MIPOST]['epochs']\n",
    "epochs.load_data()\n",
    "# remove evoked response\n",
    "epochs.subtract_evoked()\n",
    "\n",
    "# get analytic signal (envelope)\n",
    "epochs.apply_hilbert(envelope=True)"
   ]
  },
  {
   "cell_type": "code",
   "execution_count": null,
   "metadata": {},
   "outputs": [],
   "source": [
    "print(epochs['Left'].pick_channels(['C4']).get_data())\n",
    "print(np.square(epochs['Left'].pick_channels(['C4']).get_data()))"
   ]
  },
  {
   "cell_type": "code",
   "execution_count": null,
   "metadata": {},
   "outputs": [],
   "source": [
    "epochs.get_data().shape"
   ]
  },
  {
   "cell_type": "code",
   "execution_count": null,
   "metadata": {},
   "outputs": [],
   "source": [
    "epochs.crop(-1.5,7)"
   ]
  },
  {
   "cell_type": "code",
   "execution_count": null,
   "metadata": {},
   "outputs": [],
   "source": [
    "average = np.mean(np.square(epochs['Left'].pick_channels(['C4']).get_data()),axis=0)\n",
    "times = epochs['Left'].times\n",
    "#gfp = np.sum(average.data ** 2, axis=0)\n",
    "gfp = mne.baseline.rescale(average, times, baseline=(-2, 0),mode='percent')\n",
    "plt.figure()\n",
    "plt.plot(times,gfp[0])\n",
    "plt.show()"
   ]
  },
  {
   "cell_type": "code",
   "execution_count": null,
   "metadata": {},
   "outputs": [],
   "source": [
    "print(gfp[0][1:len(gfp[0])-1])"
   ]
  },
  {
   "cell_type": "code",
   "execution_count": null,
   "metadata": {},
   "outputs": [],
   "source": [
    "average.plot()"
   ]
  },
  {
   "cell_type": "code",
   "execution_count": null,
   "metadata": {},
   "outputs": [],
   "source": [
    "del epochs"
   ]
  },
  {
   "cell_type": "code",
   "execution_count": null,
   "metadata": {},
   "outputs": [],
   "source": []
  },
  {
   "cell_type": "code",
   "execution_count": null,
   "metadata": {},
   "outputs": [],
   "source": [
    "eeg_dict = get_evoked(working_EEG)"
   ]
  },
  {
   "cell_type": "code",
   "execution_count": null,
   "metadata": {},
   "outputs": [],
   "source": [
    "average = eeg_dict['sub-S16_MIpost_ses-S001_task-Default_run-001_eeg']['Right']"
   ]
  },
  {
   "cell_type": "code",
   "execution_count": null,
   "metadata": {},
   "outputs": [],
   "source": [
    "average.pick_channels(['C4'])"
   ]
  },
  {
   "cell_type": "code",
   "execution_count": null,
   "metadata": {},
   "outputs": [],
   "source": [
    "average.plot()"
   ]
  },
  {
   "cell_type": "code",
   "execution_count": null,
   "metadata": {},
   "outputs": [],
   "source": [
    "times = average.times\n",
    "gfp = np.sum(average.data ** 2, axis=0)\n",
    "gfp = mne.baseline.rescale(gfp, times, baseline=(-2, 0),mode='percent', copy=True)"
   ]
  },
  {
   "cell_type": "code",
   "execution_count": null,
   "metadata": {},
   "outputs": [],
   "source": [
    "plt.plot(times,gfp)\n",
    "plt.show()"
   ]
  },
  {
   "cell_type": "code",
   "execution_count": null,
   "metadata": {},
   "outputs": [],
   "source": [
    "evoked_dict = get_evoked(working_EEG)"
   ]
  },
  {
   "cell_type": "code",
   "execution_count": null,
   "metadata": {},
   "outputs": [],
   "source": [
    "\n",
    "evoked_dict['sub-S16_MIpost_ses-S001_task-Default_run-001_eeg']['Right'].copy().plot(picks=['C3','CZ','C4'])"
   ]
  },
  {
   "cell_type": "code",
   "execution_count": null,
   "metadata": {},
   "outputs": [],
   "source": [
    "signal = EEG_dict_corrected['sub-S04_MIpost']['signal'].copy()"
   ]
  },
  {
   "cell_type": "code",
   "execution_count": null,
   "metadata": {},
   "outputs": [],
   "source": [
    "new_eeg = mne.io.RawArray(np.square(signal.get_data()),signal.info)"
   ]
  },
  {
   "cell_type": "code",
   "execution_count": null,
   "metadata": {},
   "outputs": [],
   "source": [
    "new_dict = copy.deepcopy(EEG_dict_corrected)\n",
    "new_dict = select_keys(new_dict,{'sub-S04_MIpost'})"
   ]
  },
  {
   "cell_type": "code",
   "execution_count": null,
   "metadata": {},
   "outputs": [],
   "source": [
    "new_dict['sub-S04_MIpost']['signal'] = new_eeg\n",
    "new_dict = get_epochs(new_dict,EVENT_dict,False)"
   ]
  },
  {
   "cell_type": "code",
   "execution_count": null,
   "metadata": {},
   "outputs": [],
   "source": [
    "evoked_dict = get_evoked(new_dict)"
   ]
  },
  {
   "cell_type": "code",
   "execution_count": null,
   "metadata": {},
   "outputs": [],
   "source": [
    "baseline = (-2, 0)\n",
    "evoked_right = evoked_dict['sub-S04_MIpost']['Right'].copy()\n",
    "evoked_right.apply_baseline(baseline)"
   ]
  },
  {
   "cell_type": "code",
   "execution_count": null,
   "metadata": {},
   "outputs": [],
   "source": [
    "evoked_right.plot(picks=['C3','C4'])"
   ]
  },
  {
   "cell_type": "code",
   "execution_count": null,
   "metadata": {},
   "outputs": [],
   "source": [
    "print(signal.get_data())"
   ]
  },
  {
   "cell_type": "code",
   "execution_count": null,
   "metadata": {},
   "outputs": [],
   "source": [
    "def get_power(EEG_dict):\n",
    "    new_dict = copy.deepcopy(EEG_dict)\n",
    "    for condition in list(EEG_dict.keys()):\n",
    "        new_dict[condition]['signal'] = "
   ]
  },
  {
   "attachments": {},
   "cell_type": "markdown",
   "metadata": {},
   "source": [
    "### Plot ERDS"
   ]
  },
  {
   "cell_type": "code",
   "execution_count": null,
   "metadata": {},
   "outputs": [],
   "source": [
    "t_test_dict = plot_ERDS(EEG_dict_corrected_CAR,EVENTS_dict,(-2,0),filters,('se',2))"
   ]
  },
  {
   "cell_type": "code",
   "execution_count": 191,
   "metadata": {},
   "outputs": [
    {
     "data": {
      "image/png": "[encoded data removed]",
      "text/plain": [
       "<Figure size 640x480 with 1 Axes>"
      ]
     },
     "metadata": {},
     "output_type": "display_data"
    }
   ],
   "source": [
    "fig = plt.figure()\n",
    "data = t_test_dict[MIPRE]['alpha']['C4']['Left_vs_Third']\n",
    "plt.plot(np.linspace(-2,7,data.shape[0]),data)\n",
    "plt.ylabel('p-value')\n",
    "plt.axhline(,linestyle='--',label=r'$\\alpha_{test}$')\n",
    "plt.legend()\n",
    "plt.show()"
   ]
  },
  {
   "cell_type": "code",
   "execution_count": null,
   "metadata": {},
   "outputs": [],
   "source": [
    "eeg = get_epochs(EEG_dict_corrected,EVENTS_dict,(-2,0))"
   ]
  },
  {
   "cell_type": "code",
   "execution_count": null,
   "metadata": {},
   "outputs": [],
   "source": [
    "raw = EEG_dict_corrected[MIPRE]['signal']"
   ]
  },
  {
   "cell_type": "code",
   "execution_count": null,
   "metadata": {},
   "outputs": [],
   "source": [
    "raw.times"
   ]
  },
  {
   "cell_type": "code",
   "execution_count": null,
   "metadata": {},
   "outputs": [],
   "source": [
    "raw.plot(duration = 100, start=47.2,scalings=1e-4)\n",
    "plt.show()"
   ]
  },
  {
   "cell_type": "code",
   "execution_count": null,
   "metadata": {},
   "outputs": [],
   "source": [
    "epoch = eeg['sub-S17_MIpre_ses-S001_task-Default_run-001_eeg']['epochs']\n",
    "epoch.plot(events=epoch.events, event_id=epoch.event_id,\n",
    "                    event_color=dict(Right='red', Left='blue',Third='green'),scalings=1e-4,n_epochs=11)\n",
    "plt.show()"
   ]
  },
  {
   "cell_type": "code",
   "execution_count": null,
   "metadata": {},
   "outputs": [],
   "source": [
    "epoch?"
   ]
  },
  {
   "cell_type": "code",
   "execution_count": null,
   "metadata": {},
   "outputs": [],
   "source": [
    "for ann in raw.annotations:\n",
    "    descr = ann['description']\n",
    "    start = ann['onset']\n",
    "    end = ann['onset'] + ann['duration']\n",
    "    print(\"'{}' goes from {} to {}\".format(descr, start, end))"
   ]
  },
  {
   "cell_type": "code",
   "execution_count": null,
   "metadata": {},
   "outputs": [],
   "source": [
    "EEG_dict_corrected['sub-S16_MIpost_ses-S001_task-Default_run-001_eeg']['signal']"
   ]
  },
  {
   "attachments": {},
   "cell_type": "markdown",
   "metadata": {},
   "source": [
    "#### ERDS plot for each subject"
   ]
  },
  {
   "cell_type": "code",
   "execution_count": 33,
   "metadata": {},
   "outputs": [
    {
     "ename": "TypeError",
     "evalue": "'NoneType' object is not subscriptable",
     "output_type": "error",
     "traceback": [
      "\u001b[1;31m---------------------------------------------------------------------------\u001b[0m",
      "\u001b[1;31mTypeError\u001b[0m                                 Traceback (most recent call last)",
      "Cell \u001b[1;32mIn[33], line 7\u001b[0m\n\u001b[0;32m      5\u001b[0m EEG_dict_RAW,EEG_dict_corrected,EEG_dict_corrected_CAR,EEG_filtered,EVENTS_dict \u001b[39m=\u001b[39m get_subject(idx,mode\u001b[39m=\u001b[39m\u001b[39m'\u001b[39m\u001b[39meye_blink\u001b[39m\u001b[39m'\u001b[39m)\n\u001b[0;32m      6\u001b[0m conditions \u001b[39m=\u001b[39m \u001b[39mlist\u001b[39m(EEG_dict_corrected\u001b[39m.\u001b[39mkeys())\n\u001b[1;32m----> 7\u001b[0m working_EEG \u001b[39m=\u001b[39m get_epochs(EEG_dict_corrected_CAR,EVENTS_dict)\n\u001b[0;32m      8\u001b[0m working_EEG \u001b[39m=\u001b[39m reject_bad_chs(working_EEG)\n\u001b[0;32m      9\u001b[0m plot_ERDS(working_EEG,(\u001b[39m-\u001b[39m\u001b[39m2\u001b[39m,\u001b[39m0\u001b[39m),filters,\u001b[39m'\u001b[39m\u001b[39mse\u001b[39m\u001b[39m'\u001b[39m)\n",
      "File \u001b[1;32mc:\\Users\\haiou\\Documents\\TNE\\Python\\helpers.py:267\u001b[0m, in \u001b[0;36mget_epochs\u001b[1;34m(EEG_dict, EVENTS_dict, baseline, shift)\u001b[0m\n\u001b[0;32m    265\u001b[0m tmin \u001b[39m=\u001b[39m \u001b[39m-\u001b[39m\u001b[39m2\u001b[39m\n\u001b[0;32m    266\u001b[0m tmax \u001b[39m=\u001b[39m \u001b[39m7\u001b[39m\n\u001b[1;32m--> 267\u001b[0m epochs \u001b[39m=\u001b[39m mne\u001b[39m.\u001b[39;49mEpochs(signal, eventss, event_idss, tmin \u001b[39m=\u001b[39;49m tmin \u001b[39m-\u001b[39;49m \u001b[39m0.5\u001b[39;49m, tmax \u001b[39m=\u001b[39;49m tmax \u001b[39m+\u001b[39;49m \u001b[39m0.5\u001b[39;49m, baseline\u001b[39m=\u001b[39;49mbaseline)\n\u001b[0;32m    268\u001b[0m reject \u001b[39m=\u001b[39m get_rejection_threshold(epochs)\n\u001b[0;32m    269\u001b[0m epochs \u001b[39m=\u001b[39m mne\u001b[39m.\u001b[39mEpochs(signal, eventss, event_idss, tmin \u001b[39m=\u001b[39m tmin \u001b[39m-\u001b[39m \u001b[39m0.5\u001b[39m, tmax \u001b[39m=\u001b[39m tmax \u001b[39m+\u001b[39m \u001b[39m0.5\u001b[39m, baseline\u001b[39m=\u001b[39mbaseline,reject\u001b[39m=\u001b[39mreject)\n",
      "File \u001b[1;32m<decorator-gen-278>:12\u001b[0m, in \u001b[0;36m__init__\u001b[1;34m(self, raw, events, event_id, tmin, tmax, baseline, picks, preload, reject, flat, proj, decim, reject_tmin, reject_tmax, detrend, on_missing, reject_by_annotation, metadata, event_repeated, verbose)\u001b[0m\n",
      "File \u001b[1;32mc:\\Users\\haiou\\python-env\\.venv\\env_TNE\\lib\\site-packages\\mne\\epochs.py:2636\u001b[0m, in \u001b[0;36mEpochs.__init__\u001b[1;34m(self, raw, events, event_id, tmin, tmax, baseline, picks, preload, reject, flat, proj, decim, reject_tmin, reject_tmax, detrend, on_missing, reject_by_annotation, metadata, event_repeated, verbose)\u001b[0m\n\u001b[0;32m   2633\u001b[0m raw_sfreq \u001b[39m=\u001b[39m raw\u001b[39m.\u001b[39minfo[\u001b[39m'\u001b[39m\u001b[39msfreq\u001b[39m\u001b[39m'\u001b[39m]\n\u001b[0;32m   2635\u001b[0m \u001b[39m# call BaseEpochs constructor\u001b[39;00m\n\u001b[1;32m-> 2636\u001b[0m \u001b[39msuper\u001b[39;49m(Epochs, \u001b[39mself\u001b[39;49m)\u001b[39m.\u001b[39;49m\u001b[39m__init__\u001b[39;49m(\n\u001b[0;32m   2637\u001b[0m     info, \u001b[39mNone\u001b[39;49;00m, events, event_id, tmin, tmax,\n\u001b[0;32m   2638\u001b[0m     metadata\u001b[39m=\u001b[39;49mmetadata, baseline\u001b[39m=\u001b[39;49mbaseline, raw\u001b[39m=\u001b[39;49mraw, picks\u001b[39m=\u001b[39;49mpicks,\n\u001b[0;32m   2639\u001b[0m     reject\u001b[39m=\u001b[39;49mreject, flat\u001b[39m=\u001b[39;49mflat, decim\u001b[39m=\u001b[39;49mdecim, reject_tmin\u001b[39m=\u001b[39;49mreject_tmin,\n\u001b[0;32m   2640\u001b[0m     reject_tmax\u001b[39m=\u001b[39;49mreject_tmax, detrend\u001b[39m=\u001b[39;49mdetrend,\n\u001b[0;32m   2641\u001b[0m     proj\u001b[39m=\u001b[39;49mproj, on_missing\u001b[39m=\u001b[39;49mon_missing, preload_at_end\u001b[39m=\u001b[39;49mpreload,\n\u001b[0;32m   2642\u001b[0m     event_repeated\u001b[39m=\u001b[39;49mevent_repeated, verbose\u001b[39m=\u001b[39;49mverbose,\n\u001b[0;32m   2643\u001b[0m     raw_sfreq\u001b[39m=\u001b[39;49mraw_sfreq, annotations\u001b[39m=\u001b[39;49mraw\u001b[39m.\u001b[39;49mannotations)\n",
      "File \u001b[1;32m<decorator-gen-264>:12\u001b[0m, in \u001b[0;36m__init__\u001b[1;34m(self, info, data, events, event_id, tmin, tmax, baseline, raw, picks, reject, flat, decim, reject_tmin, reject_tmax, detrend, proj, on_missing, preload_at_end, selection, drop_log, filename, metadata, event_repeated, raw_sfreq, annotations, verbose)\u001b[0m\n",
      "File \u001b[1;32mc:\\Users\\haiou\\python-env\\.venv\\env_TNE\\lib\\site-packages\\mne\\epochs.py:419\u001b[0m, in \u001b[0;36mBaseEpochs.__init__\u001b[1;34m(self, info, data, events, event_id, tmin, tmax, baseline, raw, picks, reject, flat, decim, reject_tmin, reject_tmax, detrend, proj, on_missing, preload_at_end, selection, drop_log, filename, metadata, event_repeated, raw_sfreq, annotations, verbose)\u001b[0m\n\u001b[0;32m    415\u001b[0m     \u001b[39mif\u001b[39;00m events_max \u001b[39m>\u001b[39m INT32_MAX:\n\u001b[0;32m    416\u001b[0m         \u001b[39mraise\u001b[39;00m \u001b[39mValueError\u001b[39;00m(\n\u001b[0;32m    417\u001b[0m             \u001b[39mf\u001b[39m\u001b[39m'\u001b[39m\u001b[39mevents array values must not exceed \u001b[39m\u001b[39m{\u001b[39;00mINT32_MAX\u001b[39m}\u001b[39;00m\u001b[39m, \u001b[39m\u001b[39m'\u001b[39m\n\u001b[0;32m    418\u001b[0m             \u001b[39mf\u001b[39m\u001b[39m'\u001b[39m\u001b[39mgot \u001b[39m\u001b[39m{\u001b[39;00mevents_max\u001b[39m}\u001b[39;00m\u001b[39m'\u001b[39m)\n\u001b[1;32m--> 419\u001b[0m event_id \u001b[39m=\u001b[39m _check_event_id(event_id, events)\n\u001b[0;32m    420\u001b[0m \u001b[39mself\u001b[39m\u001b[39m.\u001b[39mevent_id \u001b[39m=\u001b[39m event_id\n\u001b[0;32m    421\u001b[0m \u001b[39mdel\u001b[39;00m event_id\n",
      "File \u001b[1;32mc:\\Users\\haiou\\python-env\\.venv\\env_TNE\\lib\\site-packages\\mne\\utils\\check.py:197\u001b[0m, in \u001b[0;36m_check_event_id\u001b[1;34m(event_id, events)\u001b[0m\n\u001b[0;32m    195\u001b[0m \u001b[39m# check out event_id dict\u001b[39;00m\n\u001b[0;32m    196\u001b[0m \u001b[39mif\u001b[39;00m event_id \u001b[39mis\u001b[39;00m \u001b[39mNone\u001b[39;00m:  \u001b[39m# convert to int to make typing-checks happy\u001b[39;00m\n\u001b[1;32m--> 197\u001b[0m     event_id \u001b[39m=\u001b[39m \u001b[39mlist\u001b[39m(np\u001b[39m.\u001b[39munique(events[:, \u001b[39m2\u001b[39;49m]))\n\u001b[0;32m    198\u001b[0m \u001b[39mif\u001b[39;00m \u001b[39misinstance\u001b[39m(event_id, \u001b[39mdict\u001b[39m):\n\u001b[0;32m    199\u001b[0m     \u001b[39mfor\u001b[39;00m key \u001b[39min\u001b[39;00m event_id\u001b[39m.\u001b[39mkeys():\n",
      "\u001b[1;31mTypeError\u001b[0m: 'NoneType' object is not subscriptable"
     ]
    }
   ],
   "source": [
    "%%capture\n",
    "subject_ID = np.arange(4,21)\n",
    "last_id = 0\n",
    "\n",
    "for idx in subject_ID:\n",
    "    EEG_dict_RAW,EEG_dict_corrected,EEG_dict_corrected_CAR,EEG_filtered,EVENTS_dict = get_subject(idx,mode='eye_blink')\n",
    "    conditions = list(EEG_dict_corrected.keys())\n",
    "    working_EEG = get_epochs(EEG_dict_corrected_CAR,EVENTS_dict)\n",
    "    working_EEG = reject_bad_chs(working_EEG)\n",
    "    plot_ERDS(working_EEG,(-2,0),filters,'se')\n",
    "    last_id = idx"
   ]
  },
  {
   "cell_type": "code",
   "execution_count": 34,
   "metadata": {},
   "outputs": [
    {
     "data": {
      "text/plain": [
       "16"
      ]
     },
     "execution_count": 34,
     "metadata": {},
     "output_type": "execute_result"
    }
   ],
   "source": [
    "last_id"
   ]
  },
  {
   "cell_type": "code",
   "execution_count": 28,
   "metadata": {},
   "outputs": [
    {
     "ename": "ValueError",
     "evalue": "items in new_categories are not the same as in old categories",
     "output_type": "error",
     "traceback": [
      "\u001b[1;31m---------------------------------------------------------------------------\u001b[0m",
      "\u001b[1;31mValueError\u001b[0m                                Traceback (most recent call last)",
      "Cell \u001b[1;32mIn[28], line 2\u001b[0m\n\u001b[0;32m      1\u001b[0m subject_ID \u001b[39m=\u001b[39m np\u001b[39m.\u001b[39marange(\u001b[39m1\u001b[39m,\u001b[39m21\u001b[39m)\n\u001b[1;32m----> 2\u001b[0m analysis(filters,subject_ID)\n",
      "Cell \u001b[1;32mIn[26], line 502\u001b[0m, in \u001b[0;36manalysis\u001b[1;34m(filters, subject_IDs)\u001b[0m\n\u001b[0;32m    500\u001b[0m working_EEG \u001b[39m=\u001b[39m get_epochs(EEG_dict_corrected_CAR,EVENTS_dict)\n\u001b[0;32m    501\u001b[0m working_EEG \u001b[39m=\u001b[39m reject_bad_chs(working_EEG)\n\u001b[1;32m--> 502\u001b[0m plot_ERDS(EEG_dict_corrected_CAR,(\u001b[39m-\u001b[39;49m\u001b[39m2\u001b[39;49m,\u001b[39m0\u001b[39;49m),filters,\u001b[39m'\u001b[39;49m\u001b[39mse\u001b[39;49m\u001b[39m'\u001b[39;49m)\n",
      "Cell \u001b[1;32mIn[26], line 191\u001b[0m, in \u001b[0;36mplot_ERDS\u001b[1;34m(EEG_dict, baseline, freqs_test, errorbar, t_check)\u001b[0m\n\u001b[0;32m    189\u001b[0m df \u001b[39m=\u001b[39m df[df\u001b[39m.\u001b[39mband\u001b[39m.\u001b[39misin(freq_bands_of_interest)]\n\u001b[0;32m    190\u001b[0m df[\u001b[39m'\u001b[39m\u001b[39mband\u001b[39m\u001b[39m'\u001b[39m] \u001b[39m=\u001b[39m df[\u001b[39m'\u001b[39m\u001b[39mband\u001b[39m\u001b[39m'\u001b[39m]\u001b[39m.\u001b[39mcat\u001b[39m.\u001b[39mremove_unused_categories()\n\u001b[1;32m--> 191\u001b[0m df[\u001b[39m'\u001b[39m\u001b[39mchannel\u001b[39m\u001b[39m'\u001b[39m] \u001b[39m=\u001b[39m df[\u001b[39m'\u001b[39;49m\u001b[39mchannel\u001b[39;49m\u001b[39m'\u001b[39;49m]\u001b[39m.\u001b[39;49mcat\u001b[39m.\u001b[39;49mreorder_categories(current_chs,\n\u001b[0;32m    192\u001b[0m                                                 ordered\u001b[39m=\u001b[39;49m\u001b[39mTrue\u001b[39;49;00m)\n\u001b[0;32m    193\u001b[0m g \u001b[39m=\u001b[39m sns\u001b[39m.\u001b[39mFacetGrid(df, row\u001b[39m=\u001b[39m\u001b[39m'\u001b[39m\u001b[39mband\u001b[39m\u001b[39m'\u001b[39m, col\u001b[39m=\u001b[39m\u001b[39m'\u001b[39m\u001b[39mchannel\u001b[39m\u001b[39m'\u001b[39m, margin_titles\u001b[39m=\u001b[39m\u001b[39mTrue\u001b[39;00m)\n\u001b[0;32m    194\u001b[0m g\u001b[39m.\u001b[39mmap(sns\u001b[39m.\u001b[39mlineplot, \u001b[39m'\u001b[39m\u001b[39mtime\u001b[39m\u001b[39m'\u001b[39m, \u001b[39m'\u001b[39m\u001b[39mvalue\u001b[39m\u001b[39m'\u001b[39m, \u001b[39m'\u001b[39m\u001b[39mcondition\u001b[39m\u001b[39m'\u001b[39m, n_boot\u001b[39m=\u001b[39m\u001b[39m10\u001b[39m,errorbar\u001b[39m=\u001b[39merrorbar)\n",
      "File \u001b[1;32mc:\\Users\\haiou\\python-env\\.venv\\env_TNE\\lib\\site-packages\\pandas\\core\\accessor.py:94\u001b[0m, in \u001b[0;36mPandasDelegate._add_delegate_accessors.<locals>._create_delegator_method.<locals>.f\u001b[1;34m(self, *args, **kwargs)\u001b[0m\n\u001b[0;32m     93\u001b[0m \u001b[39mdef\u001b[39;00m \u001b[39mf\u001b[39m(\u001b[39mself\u001b[39m, \u001b[39m*\u001b[39margs, \u001b[39m*\u001b[39m\u001b[39m*\u001b[39mkwargs):\n\u001b[1;32m---> 94\u001b[0m     \u001b[39mreturn\u001b[39;00m \u001b[39mself\u001b[39m\u001b[39m.\u001b[39m_delegate_method(name, \u001b[39m*\u001b[39margs, \u001b[39m*\u001b[39m\u001b[39m*\u001b[39mkwargs)\n",
      "File \u001b[1;32mc:\\Users\\haiou\\python-env\\.venv\\env_TNE\\lib\\site-packages\\pandas\\core\\arrays\\categorical.py:2879\u001b[0m, in \u001b[0;36mCategoricalAccessor._delegate_method\u001b[1;34m(self, name, *args, **kwargs)\u001b[0m\n\u001b[0;32m   2876\u001b[0m \u001b[39mfrom\u001b[39;00m \u001b[39mpandas\u001b[39;00m \u001b[39mimport\u001b[39;00m Series\n\u001b[0;32m   2878\u001b[0m method \u001b[39m=\u001b[39m \u001b[39mgetattr\u001b[39m(\u001b[39mself\u001b[39m\u001b[39m.\u001b[39m_parent, name)\n\u001b[1;32m-> 2879\u001b[0m res \u001b[39m=\u001b[39m method(\u001b[39m*\u001b[39margs, \u001b[39m*\u001b[39m\u001b[39m*\u001b[39mkwargs)\n\u001b[0;32m   2880\u001b[0m \u001b[39mif\u001b[39;00m res \u001b[39mis\u001b[39;00m \u001b[39mnot\u001b[39;00m \u001b[39mNone\u001b[39;00m:\n\u001b[0;32m   2881\u001b[0m     \u001b[39mreturn\u001b[39;00m Series(res, index\u001b[39m=\u001b[39m\u001b[39mself\u001b[39m\u001b[39m.\u001b[39m_index, name\u001b[39m=\u001b[39m\u001b[39mself\u001b[39m\u001b[39m.\u001b[39m_name)\n",
      "File \u001b[1;32mc:\\Users\\haiou\\python-env\\.venv\\env_TNE\\lib\\site-packages\\pandas\\core\\arrays\\categorical.py:1199\u001b[0m, in \u001b[0;36mCategorical.reorder_categories\u001b[1;34m(self, new_categories, ordered, inplace)\u001b[0m\n\u001b[0;32m   1197\u001b[0m inplace \u001b[39m=\u001b[39m validate_bool_kwarg(inplace, \u001b[39m\"\u001b[39m\u001b[39minplace\u001b[39m\u001b[39m\"\u001b[39m)\n\u001b[0;32m   1198\u001b[0m \u001b[39mif\u001b[39;00m \u001b[39mset\u001b[39m(\u001b[39mself\u001b[39m\u001b[39m.\u001b[39mdtype\u001b[39m.\u001b[39mcategories) \u001b[39m!=\u001b[39m \u001b[39mset\u001b[39m(new_categories):\n\u001b[1;32m-> 1199\u001b[0m     \u001b[39mraise\u001b[39;00m \u001b[39mValueError\u001b[39;00m(\n\u001b[0;32m   1200\u001b[0m         \u001b[39m\"\u001b[39m\u001b[39mitems in new_categories are not the same as in old categories\u001b[39m\u001b[39m\"\u001b[39m\n\u001b[0;32m   1201\u001b[0m     )\n\u001b[0;32m   1203\u001b[0m \u001b[39mwith\u001b[39;00m catch_warnings():\n\u001b[0;32m   1204\u001b[0m     simplefilter(\u001b[39m\"\u001b[39m\u001b[39mignore\u001b[39m\u001b[39m\"\u001b[39m)\n",
      "\u001b[1;31mValueError\u001b[0m: items in new_categories are not the same as in old categories"
     ]
    }
   ],
   "source": [
    "%%capture\n",
    "subject_ID = np.arange(1,21)\n",
    "analysis(filters,subject_ID)"
   ]
  },
  {
   "cell_type": "code",
   "execution_count": 22,
   "metadata": {},
   "outputs": [
    {
     "data": {
      "text/plain": [
       "['sub-S13_MIpost_ses-S001_task-Default_run-001_eeg']"
      ]
     },
     "execution_count": 22,
     "metadata": {},
     "output_type": "execute_result"
    }
   ],
   "source": [
    "[x for x in conditions if 'MIpost' in x]"
   ]
  },
  {
   "attachments": {},
   "cell_type": "markdown",
   "metadata": {},
   "source": [
    "### LMAO"
   ]
  },
  {
   "cell_type": "code",
   "execution_count": null,
   "metadata": {},
   "outputs": [],
   "source": [
    "eeg_dict = get_epochs(EEG_dict_corrected,EVENTS_dict)"
   ]
  },
  {
   "cell_type": "code",
   "execution_count": null,
   "metadata": {},
   "outputs": [],
   "source": [
    "eeg_dict['sub-S01_MIpost']['epochs'].copy().plot_psd(fmax=50)"
   ]
  },
  {
   "cell_type": "code",
   "execution_count": null,
   "metadata": {},
   "outputs": [],
   "source": [
    "epochs = eeg_dict['sub-S01_MIpost']['epochs']['Right']\n",
    "epochs.load_data()\n",
    "filtered_epoch = epochs.copy().pick_channels(['C3','C4']).filter(10,12)"
   ]
  },
  {
   "cell_type": "code",
   "execution_count": null,
   "metadata": {},
   "outputs": [],
   "source": [
    "epoch_av = np.mean(np.square(filtered_epoch.get_data()),axis=0)"
   ]
  },
  {
   "cell_type": "code",
   "execution_count": null,
   "metadata": {},
   "outputs": [],
   "source": [
    "gfp = mne.baseline.rescale(epoch_av, filtered_epoch.times, baseline=(-2, 0),mode='percent', copy=True)"
   ]
  },
  {
   "cell_type": "code",
   "execution_count": null,
   "metadata": {},
   "outputs": [],
   "source": [
    "print(gfp.shape)"
   ]
  },
  {
   "cell_type": "code",
   "execution_count": null,
   "metadata": {},
   "outputs": [],
   "source": [
    "plt.figure()\n",
    "plt.plot(filtered_epoch.times,gfp[1])\n",
    "plt.show()"
   ]
  },
  {
   "cell_type": "code",
   "execution_count": null,
   "metadata": {},
   "outputs": [],
   "source": [
    "EEG_dict_corrected[MIPOST]['epochs'].plot(scalings='auto')"
   ]
  },
  {
   "cell_type": "code",
   "execution_count": null,
   "metadata": {},
   "outputs": [],
   "source": [
    "eeg = select_keys(EEG_dict_corrected,[MIPOST])\n",
    "signal = eeg[MIPOST]['signal']\n",
    "signal.filter(10,12)\n",
    "eeg[MIPOST]['signal'] = mne.io.RawArray(np.square(signal.get_data()),signal.info)"
   ]
  },
  {
   "cell_type": "code",
   "execution_count": null,
   "metadata": {},
   "outputs": [],
   "source": [
    "eeg = get_epochs(eeg,EVENTS_dict)"
   ]
  },
  {
   "cell_type": "code",
   "execution_count": null,
   "metadata": {},
   "outputs": [],
   "source": [
    "eeg[MIPOST]['epochs']['Right']"
   ]
  },
  {
   "cell_type": "code",
   "execution_count": null,
   "metadata": {},
   "outputs": [],
   "source": [
    "epochs = eeg[MIPOST]['epochs']['Right']\n",
    "epochs.load_data()\n",
    "filtered_epoch = epochs.copy().pick_channels(['C3','C4'])\n",
    "epoch_av = np.mean(filtered_epoch.get_data(),axis=0)\n",
    "gfp = mne.baseline.rescale(epoch_av, filtered_epoch.times, baseline=(-2, 0),mode='percent', copy=True)"
   ]
  },
  {
   "cell_type": "code",
   "execution_count": null,
   "metadata": {},
   "outputs": [],
   "source": [
    "plt.figure()\n",
    "plt.plot(filtered_epoch.times,gfp[0])\n",
    "plt.show()"
   ]
  },
  {
   "attachments": {},
   "cell_type": "markdown",
   "metadata": {},
   "source": [
    "### Last attempt before I off myself"
   ]
  },
  {
   "cell_type": "code",
   "execution_count": null,
   "metadata": {},
   "outputs": [],
   "source": [
    "chs = ['C3','C4']\n",
    "raw = EEG_dict_corrected_CAR[MIPRE]['signal']\n",
    "chan_idxs = [raw.ch_names.index(ch) for ch in chs]\n",
    "raw.plot(order=chan_idxs,scalings=1e-4)\n",
    "plt.show()"
   ]
  },
  {
   "attachments": {},
   "cell_type": "markdown",
   "metadata": {},
   "source": [
    "#### Process"
   ]
  },
  {
   "cell_type": "code",
   "execution_count": null,
   "metadata": {},
   "outputs": [],
   "source": [
    "new_dict = copy.deepcopy(select_keys(EEG_dict_corrected_CAR,[MIPOST,MIPRE]))\n",
    "\n",
    "fmin = filters['alpha'][0]\n",
    "fmax = filters['alpha'][1]\n",
    "for cond in list(new_dict.keys()):\n",
    "    signal = new_dict[cond]['signal'].copy().filter(fmin,fmax)\n",
    "    new_dict[cond]['signal'] = signal\n",
    "new_dict = get_epochs(new_dict,EVENTS_dict)\n",
    "for cond in list(new_dict.keys()):\n",
    "    epoch = new_dict[cond]['epochs'].copy()\n",
    "    epoch.load_data()\n",
    "    epoch.resample(500)\n",
    "    epoch.pick(['C5','C3','CZ','C4','C6'])\n",
    "    param = {'time':epoch.times.copy()}\n",
    "    #\n",
    "    #epoch.apply_function(smooth,picks=['C5','C3','CZ','C4','C6'],**param)\n",
    "    epoch.apply_function(np.square,picks=['C5','C3','CZ','C4','C6'])\n",
    "    #epoch.apply_hilbert(picks=['C5','C3','CZ','C4','C6'])\n",
    "    #epoch.apply_function(np.absolute,picks=['C5','C3','CZ','C4','C6'])\n",
    "    epoch.apply_function(smooth,picks=['C5','C3','CZ','C4','C6'],**param)\n",
    "    epoch.crop(-2,7)\n",
    "    new_dict[cond]['epochs'] = epoch.copy()"
   ]
  },
  {
   "cell_type": "code",
   "execution_count": null,
   "metadata": {},
   "outputs": [],
   "source": [
    "new_eeg = copy.deepcopy(new_dict)\n",
    "event_id = new_eeg[MIPOST]['epochs'].event_id\n",
    "events = new_eeg[MIPOST]['epochs'].events\n",
    "new_eeg[MIPOST]['epochs'].plot(picks=['C3','C4'],scalings=3e-5,events=events,event_id=event_id)\n",
    "plt.show()"
   ]
  },
  {
   "cell_type": "code",
   "execution_count": null,
   "metadata": {},
   "outputs": [],
   "source": [
    "new_eeg[MIPOST]['epochs']['Left'].plot(picks=['C3','C4'],scalings=3e-10,events=events,event_id=event_id)"
   ]
  },
  {
   "cell_type": "code",
   "execution_count": null,
   "metadata": {},
   "outputs": [],
   "source": [
    "eeg_dict = get_epochs(EEG_dict_RAW,EVENTS_dict)"
   ]
  },
  {
   "cell_type": "code",
   "execution_count": null,
   "metadata": {},
   "outputs": [],
   "source": [
    "event_id = eeg_dict[MIPOST]['epochs'].event_id\n",
    "events = eeg_dict[MIPOST]['epochs'].events\n",
    "eeg_dict[MIPOST]['epochs'].plot(n_epochs=30,scalings=1e-4,events=events,event_id=event_id)"
   ]
  },
  {
   "cell_type": "code",
   "execution_count": null,
   "metadata": {},
   "outputs": [],
   "source": [
    "epoch = eeg_dict[MIPOST]['epochs'].copy()\n",
    "epoch.load_data()\n",
    "param = {'time':epoch.times.copy()}\n",
    "epoch_copy = epoch.apply_function(smooth,picks=['C3','C4'],**param)"
   ]
  },
  {
   "cell_type": "code",
   "execution_count": null,
   "metadata": {},
   "outputs": [],
   "source": [
    "epoch_copy.plot(picks=['C3','C4'])\n",
    "plt.show()"
   ]
  },
  {
   "cell_type": "code",
   "execution_count": null,
   "metadata": {},
   "outputs": [],
   "source": [
    "epoch_copy = epoch.apply_function(np.square,picks=['C3','C4'])"
   ]
  },
  {
   "cell_type": "code",
   "execution_count": null,
   "metadata": {},
   "outputs": [],
   "source": [
    "epoch_copy.plot(picks=['C3','C4'],scalings=3e-11)\n",
    "plt.show()"
   ]
  },
  {
   "attachments": {},
   "cell_type": "markdown",
   "metadata": {},
   "source": [
    "#### Plot"
   ]
  },
  {
   "cell_type": "code",
   "execution_count": null,
   "metadata": {},
   "outputs": [],
   "source": [
    "new_eeg = copy.deepcopy(new_dict)\n",
    "event_id = new_eeg[MIPOST]['epochs'].event_id\n",
    "events = new_eeg[MIPOST]['epochs'].events\n",
    "new_eeg[MIPOST]['epochs'].plot(picks=['C3','C4'],scalings=3e-10,events=events,event_id=event_id)\n",
    "plt.show()"
   ]
  },
  {
   "cell_type": "code",
   "execution_count": null,
   "metadata": {},
   "outputs": [],
   "source": [
    "EEG_dict_RAW['sub-S17_MIpost_ses-S001_task-Default_run-001_eeg']['signal'].get_data().shape"
   ]
  },
  {
   "attachments": {},
   "cell_type": "markdown",
   "metadata": {},
   "source": [
    "#### Loop over epochs"
   ]
  },
  {
   "cell_type": "code",
   "execution_count": null,
   "metadata": {},
   "outputs": [],
   "source": [
    "baseline = (-2,0)"
   ]
  },
  {
   "cell_type": "code",
   "execution_count": null,
   "metadata": {},
   "outputs": [],
   "source": [
    "%%capture\n",
    "new_eeg = copy.deepcopy(new_dict)\n",
    "for cond in list(new_eeg.keys()):\n",
    "    epoch = new_eeg[cond]['epochs'].copy()\n",
    "    param = {'times':epoch.times.copy(),'baseline':baseline}\n",
    "    epoch.apply_function(apply_baseline,**param)\n",
    "    #epoch.resample(500)\n",
    "    new_eeg[cond]['epochs'] = epoch\n"
   ]
  },
  {
   "cell_type": "code",
   "execution_count": null,
   "metadata": {},
   "outputs": [],
   "source": [
    "test_dict = t_test_2(new_eeg)"
   ]
  },
  {
   "cell_type": "code",
   "execution_count": null,
   "metadata": {},
   "outputs": [],
   "source": [
    "plt.plot(new_eeg['sub-S02_MIpost']['epochs'].times, test_dict['sub-S02_MIpost']['C3']['Right_vs_Left'])\n",
    "plt.show()"
   ]
  },
  {
   "attachments": {},
   "cell_type": "markdown",
   "metadata": {},
   "source": [
    "#### Evoked"
   ]
  },
  {
   "cell_type": "code",
   "execution_count": null,
   "metadata": {},
   "outputs": [],
   "source": [
    "evoked = get_evoked(new_eeg,'mean')\n",
    "evoked_ini = get_evoked(copy.deepcopy(new_dict),'mean')"
   ]
  },
  {
   "cell_type": "code",
   "execution_count": null,
   "metadata": {},
   "outputs": [],
   "source": [
    "evoked_ini[MIPOST]['Left'].plot(picks=['C3','C4'],scalings=3e-12)\n",
    "plt.show()"
   ]
  },
  {
   "cell_type": "code",
   "execution_count": null,
   "metadata": {},
   "outputs": [],
   "source": [
    "evoked[MIPOST]['Right'].plot(picks=['C3','C4'],scalings=3e-12)\n",
    "plt.show()"
   ]
  },
  {
   "attachments": {},
   "cell_type": "markdown",
   "metadata": {},
   "source": [
    "#### Topoplots"
   ]
  },
  {
   "cell_type": "code",
   "execution_count": null,
   "metadata": {},
   "outputs": [],
   "source": [
    "current_evoked = evoked[MIPOST]['Left']\n",
    "gfp = np.array(current_evoked.copy().data[current_evoked.ch_names.index('C3')])"
   ]
  },
  {
   "cell_type": "code",
   "execution_count": null,
   "metadata": {},
   "outputs": [],
   "source": [
    "current_evoked.plot_topomap(times=np.linspace(0,6.5,10))\n",
    "plt.show()"
   ]
  },
  {
   "cell_type": "code",
   "execution_count": null,
   "metadata": {},
   "outputs": [],
   "source": [
    "evoked[MIPOST]['Right'].plot_topomap(times=np.linspace(0,6.5,10))\n",
    "plt.show()"
   ]
  },
  {
   "cell_type": "code",
   "execution_count": null,
   "metadata": {},
   "outputs": [],
   "source": [
    "evoked_topo = copy.deepcopy(current_evoked)\n",
    "for i in range(current_evoked.data.shape[0]):\n",
    "    avg = current_evoked.data[i]\n",
    "    gfp = mne.baseline.rescale(avg, current_evoked.times, baseline=(-2, 0),mode='mean', copy=True)\n",
    "    evoked_topo.data[i] = gfp\n",
    "    plt.figure()\n",
    "    plt.title(current_evoked.ch_names[i])\n",
    "    plt.plot(current_evoked.times,gfp)\n",
    "plt.show()"
   ]
  },
  {
   "cell_type": "code",
   "execution_count": null,
   "metadata": {},
   "outputs": [],
   "source": [
    "for i in range(current_evoked.data.shape[0]):\n",
    "    avg = current_evoked.data[i]\n",
    "    gfp = mne.baseline.rescale(avg, current_evoked.times, baseline=(-2, 0),mode='percent', copy=True)\n",
    "    filtered = lowess(gfp, current_evoked.times, is_sorted=True, frac=0.025, it=0)\n",
    "    plt.figure()\n",
    "    plt.title(current_evoked.ch_names[i])\n",
    "    plt.plot(current_evoked.times,filtered[:,1])\n",
    "    plt.axvline(x = 0, color = 'black',linestyle=\"--\", label = 'trial onset')\n",
    "plt.show()"
   ]
  },
  {
   "attachments": {},
   "cell_type": "markdown",
   "metadata": {},
   "source": [
    "#### ERDS"
   ]
  },
  {
   "cell_type": "code",
   "execution_count": null,
   "metadata": {},
   "outputs": [],
   "source": [
    "channels = ['C5','C3','CZ','C4','C6']\n",
    "colors = {'Left':'lightskyblue',\n",
    "          'Right':'sandybrown',\n",
    "          'Third':'springgreen'\n",
    "          }\n",
    "\n",
    "for cond in [MIPRE,MIPOST]:\n",
    "    fig , axs = plt.subplots(1,5)\n",
    "    \n",
    "    signal_dict = {}\n",
    "    for k,ch in enumerate(channels):\n",
    "        axs[k].set_title(ch)\n",
    "        signal_dict[ch] = {}\n",
    "        for j,trial in enumerate(list(evoked[cond])):\n",
    "            current_evoked = evoked[cond][trial].copy()\n",
    "            current_evoked.crop(-2,7)\n",
    "            avg = current_evoked.data[current_evoked.ch_names.index(ch)]\n",
    "            #filtered_1 = lowess(avg, current_evoked.times.copy(), is_sorted=True, frac=0.025, it=0)\n",
    "            #gfp = mne.baseline.rescale(avg, current_evoked.times, baseline=(-2, 0),mode='percent', copy=True);\n",
    "            #current_evoked.apply_hilbert()\n",
    "            #data = current_evoked.copy().pick([ch]).get_data()\n",
    "            filtered = lowess(avg, current_evoked.times.copy(), is_sorted=True, frac=0.025, it=0)\n",
    "            signal_dict[ch][trial] = filtered[:,1]\n",
    "            axs[k].plot(current_evoked.times,filtered[:,1],color=colors[trial],label = trial)\n",
    "            #axs[k].plot(current_evoked.times,gfp,color=colors[trial])\n",
    "            axs[k].grid(True)\n",
    "            axs[k].set_ylim([-1, 1.5])\n",
    "        axs[k].axvline(x = baseline[1], color = 'black',linestyle=\"--\", label = 'trial onset')\n",
    "        axs[k].axhline(y = 0., color = 'black',linestyle=\"--\")\n",
    "        axs[k].legend()\n",
    "    fig.tight_layout()\n",
    "    fig.set_figwidth(60)\n",
    "    fig.suptitle(cond, fontsize=10)\n",
    "    fig.subplots_adjust(left=0.1, right=0.9, top=0.9, bottom=0.08)\n",
    "    plt.show()"
   ]
  },
  {
   "cell_type": "code",
   "execution_count": null,
   "metadata": {},
   "outputs": [],
   "source": [
    "var = t_test(signal_dict)"
   ]
  },
  {
   "cell_type": "code",
   "execution_count": null,
   "metadata": {},
   "outputs": [],
   "source": [
    "pd.DataFrame.from_dict(var)"
   ]
  },
  {
   "cell_type": "code",
   "execution_count": null,
   "metadata": {},
   "outputs": [],
   "source": [
    "the_erds_maker(select_keys(EEG_dict_corrected_CAR,[MIPOST,MIPRE]),EVENTS_dict,filters)"
   ]
  },
  {
   "attachments": {},
   "cell_type": "markdown",
   "metadata": {},
   "source": [
    "### And another one"
   ]
  },
  {
   "cell_type": "code",
   "execution_count": null,
   "metadata": {},
   "outputs": [],
   "source": [
    "epoch_dict = get_epochs(EEG_dict_corrected,EVENTS_dict)"
   ]
  },
  {
   "cell_type": "code",
   "execution_count": null,
   "metadata": {},
   "outputs": [],
   "source": [
    "from mne.datasets import eegbci\n",
    "from mne.io import concatenate_raws, read_raw_edf\n",
    "from mne.time_frequency import tfr_multitaper\n",
    "from mne.stats import permutation_cluster_1samp_test as pcluster_test"
   ]
  },
  {
   "cell_type": "code",
   "execution_count": null,
   "metadata": {},
   "outputs": [],
   "source": [
    "fnames = eegbci.load_data(subject=1, runs=(6, 10, 14))\n",
    "raw = concatenate_raws([read_raw_edf(f, preload=True) for f in fnames])\n",
    "\n",
    "raw.rename_channels(lambda x: x.strip('.'))  # remove dots from channel names\n",
    "\n",
    "events, _ = mne.events_from_annotations(raw, event_id=dict(T1=2, T2=3))"
   ]
  },
  {
   "cell_type": "code",
   "execution_count": null,
   "metadata": {},
   "outputs": [],
   "source": [
    "tmin, tmax = -1, 4\n",
    "event_ids = dict(hands=2, feet=3)  # map event IDs to tasks\n",
    "\n",
    "epochs = mne.Epochs(raw, events, event_ids, tmin - 0.5, tmax + 0.5,\n",
    "                    picks=('C3', 'Cz', 'C4'), baseline=None, preload=True)"
   ]
  },
  {
   "attachments": {},
   "cell_type": "markdown",
   "metadata": {},
   "source": [
    "## Quick ERDS"
   ]
  },
  {
   "attachments": {},
   "cell_type": "markdown",
   "metadata": {},
   "source": [
    "### Test with BCI dataset"
   ]
  },
  {
   "cell_type": "code",
   "execution_count": null,
   "metadata": {},
   "outputs": [],
   "source": [
    "from mne import Epochs, pick_types, events_from_annotations\n",
    "from mne.channels import make_standard_montage\n",
    "from mne.io import concatenate_raws, read_raw_edf\n",
    "from mne.datasets import eegbci\n",
    "from mne.decoding import CSP"
   ]
  },
  {
   "cell_type": "code",
   "execution_count": null,
   "metadata": {},
   "outputs": [],
   "source": [
    "fnames = eegbci.load_data(subject=1, runs=(4, 8, 12))\n",
    "raw = concatenate_raws([read_raw_edf(f, preload=True) for f in fnames])\n",
    "eegbci.standardize(raw)  # set channel names\n",
    "montage = make_standard_montage('standard_1005')\n",
    "raw.set_montage(montage)\n",
    "\n",
    "raw.rename_channels(lambda x: x.strip('.'))  # remove dots from channel names\n",
    "\n",
    "raw.filter(8,12, fir_design='firwin', skip_by_annotation='edge')\n",
    "events, _ = mne.events_from_annotations(raw, event_id=dict(T1=2, T2=3))"
   ]
  },
  {
   "cell_type": "code",
   "execution_count": null,
   "metadata": {},
   "outputs": [],
   "source": [
    "tmin, tmax = -1, 4\n",
    "event_ids = dict(left=2, right=3)  # map event IDs to tasks\n",
    "\n",
    "epochs = mne.Epochs(raw, events, event_ids, tmin - 0.5, tmax + 0.5,\n",
    "                    picks=('C3', 'Cz', 'C4'), baseline=None, preload=True)"
   ]
  },
  {
   "cell_type": "code",
   "execution_count": null,
   "metadata": {},
   "outputs": [],
   "source": [
    "epochs.plot()\n",
    "plt.show()"
   ]
  },
  {
   "cell_type": "code",
   "execution_count": null,
   "metadata": {},
   "outputs": [],
   "source": [
    "epochs.get_data().shape"
   ]
  },
  {
   "cell_type": "code",
   "execution_count": null,
   "metadata": {},
   "outputs": [],
   "source": [
    "\n",
    "new_epochs = epochs.copy()\n",
    "new_epochs.load_data()\n",
    "#new_epochs.resample(500)\n",
    "param = {'time':new_epochs.times.copy()}\n",
    "\n",
    "#new_epochs.apply_function(np.square,picks=['C3','Cz','C4'])\n",
    "#new_epochs.apply_function(smooth,picks=['C3','Cz','C4'],**param)\n",
    "new_epochs.apply_hilbert(picks=['C5','C3','CZ','C4','C6'])\n",
    "new_epochs.apply_function(np.absolute,picks=['C5','C3','CZ','C4','C6'])\n",
    "#epoch.apply_function(smooth,picks=['C5','C3','CZ','C4','C6'],**param)\n",
    "new_epochs.crop(-1,4)\n",
    "    "
   ]
  },
  {
   "cell_type": "code",
   "execution_count": null,
   "metadata": {},
   "outputs": [],
   "source": [
    "%%capture\n",
    "baseline = (-1,0)\n",
    "param = {'times':new_epochs.times.copy(),'baseline':baseline}\n",
    "new_epochs.apply_function(apply_baseline,**param)"
   ]
  },
  {
   "cell_type": "code",
   "execution_count": null,
   "metadata": {},
   "outputs": [],
   "source": [
    "evoked_event_r = new_epochs['right'].average(method='mean')\n",
    "evoked_event_l = new_epochs['left'].average(method='mean')"
   ]
  },
  {
   "cell_type": "code",
   "execution_count": null,
   "metadata": {},
   "outputs": [],
   "source": [
    "evoked_event_r.plot(picks=['C3','C4'])"
   ]
  },
  {
   "cell_type": "code",
   "execution_count": null,
   "metadata": {},
   "outputs": [],
   "source": [
    "freqs = np.arange(2, 36)  # frequencies from 2-35Hz\n",
    "vmin, vmax = -1, 1.5  # set min and max ERDS values in plot\n",
    "baseline = (-1, 0)  # baseline interval (in s)\n",
    "cnorm = TwoSlopeNorm(vmin=vmin, vcenter=0, vmax=vmax)  # min, center & max ERDS\n",
    "\n",
    "kwargs = dict(n_permutations=100, step_down_p=0.05, seed=1,\n",
    "              buffer_size=None, out_type='mask')  # for cluster test\n",
    "tfr = tfr_multitaper(epochs, freqs=freqs, n_cycles=freqs, use_fft=True,\n",
    "                     return_itc=False, average=False, decim=2)\n",
    "tfr.crop(tmin, tmax).apply_baseline(baseline, mode=\"percent\")\n",
    "df = tfr.to_data_frame(time_format=None)\n",
    "#df.head()\n",
    "df = tfr.to_data_frame(time_format=None, long_format=True)\n",
    "\n",
    "# Map to frequency bands:\n",
    "freq_bounds = {'_': 0,\n",
    "               'delta': 3,\n",
    "               'theta': 7,\n",
    "               'alpha': 13,\n",
    "               'beta': 35,\n",
    "               'gamma': 140}\n",
    "df['band'] = pd.cut(df['freq'], list(freq_bounds.values()),\n",
    "                    labels=list(freq_bounds)[1:])\n",
    "\n",
    "# Filter to retain only relevant frequency bands:\n",
    "freq_bands_of_interest = ['delta', 'theta', 'alpha', 'beta']\n",
    "df = df[df.band.isin(freq_bands_of_interest)]\n",
    "df['band'] = df['band'].cat.remove_unused_categories()"
   ]
  },
  {
   "cell_type": "code",
   "execution_count": null,
   "metadata": {},
   "outputs": [],
   "source": [
    "df.channel.unique()"
   ]
  },
  {
   "cell_type": "code",
   "execution_count": null,
   "metadata": {},
   "outputs": [],
   "source": [
    "# Order channels for plotting:\n",
    "df['channel'] = df['channel'].cat.reorder_categories(('C3', 'Cz', 'C4'),\n",
    "                                                     ordered=True)\n",
    "\n",
    "g = sns.FacetGrid(df, row='band', col='channel', margin_titles=True)\n",
    "g.map(sns.lineplot, 'time', 'value', 'condition', n_boot=10)\n",
    "axline_kw = dict(color='black', linestyle='dashed', linewidth=0.5, alpha=0.5)\n",
    "g.map(plt.axhline, y=0, **axline_kw)\n",
    "g.map(plt.axvline, x=0, **axline_kw)\n",
    "g.set(ylim=(None, 1.5))\n",
    "g.set_axis_labels(\"Time (s)\", \"ERDS (%)\")\n",
    "g.set_titles(col_template=\"{col_name}\", row_template=\"{row_name}\")\n",
    "g.add_legend(ncol=2, loc='lower center')\n",
    "g.fig.subplots_adjust(left=0.1, right=0.9, top=0.9, bottom=0.08)"
   ]
  },
  {
   "cell_type": "code",
   "execution_count": null,
   "metadata": {},
   "outputs": [],
   "source": [
    "plt.show()"
   ]
  },
  {
   "cell_type": "code",
   "execution_count": null,
   "metadata": {},
   "outputs": [],
   "source": [
    "(tfr.freqs >= 8) & (tfr.freqs <= 12)"
   ]
  },
  {
   "cell_type": "code",
   "execution_count": null,
   "metadata": {},
   "outputs": [],
   "source": [
    "tfr.copy().pick(['C3'])"
   ]
  },
  {
   "cell_type": "code",
   "execution_count": null,
   "metadata": {},
   "outputs": [],
   "source": [
    "channels = tfr.ch_names\n",
    "conditions = list(tfr.event_id.keys())\n",
    "freq_mask = (tfr.freqs >= 8) & (tfr.freqs <= 12)\n",
    "fig,axs = plt.subplots(1,3)\n",
    "colors = {'left':'lightskyblue',\n",
    "          'right':'sandybrown',\n",
    "          }\n",
    "for k,ch in enumerate(channels):\n",
    "    for cond in conditions:\n",
    "        current_tfr = tfr.copy().pick([ch])\n",
    "        selection = current_tfr[cond].data[:,:,freq_mask,:]\n",
    "        avg = np.mean(np.mean(selection,axis=2),axis=0)\n",
    "        axs[k].plot(tfr.times,avg[0],color=colors[cond],label = cond)\n",
    "    axs[k].grid(True)\n",
    "    axs[k].set_ylim([-1, 1.5])\n",
    "    axs[k].axvline(x = baseline[1], color = 'black',linestyle=\"--\", label = 'trial onset')\n",
    "    axs[k].axhline(y = 0., color = 'black',linestyle=\"--\")\n",
    "    axs[k].legend()\n",
    "fig.tight_layout()\n",
    "fig.set_figwidth(30)\n",
    "plt.show()"
   ]
  },
  {
   "cell_type": "code",
   "execution_count": null,
   "metadata": {},
   "outputs": [],
   "source": [
    "print(tfr.freqs)\n",
    "freq_mask = (tfr.freqs >= 8) & (tfr.freqs <= 12)\n",
    "tfr['left'].data.shape\n",
    "avg_l = tfr['left'].data[:,:,freq_mask,:]"
   ]
  },
  {
   "attachments": {},
   "cell_type": "markdown",
   "metadata": {},
   "source": [
    "### Test with actual data"
   ]
  },
  {
   "cell_type": "code",
   "execution_count": 27,
   "metadata": {},
   "outputs": [
    {
     "name": "stdout",
     "output_type": "stream",
     "text": [
      "Not setting metadata\n",
      "60 matching events found\n",
      "No baseline correction applied\n",
      "0 projection items activated\n",
      "Using data from preloaded Raw for 60 events and 20001 original time points ...\n",
      "0 bad epochs dropped\n",
      "Estimating rejection dictionary for eeg\n",
      "Not setting metadata\n",
      "60 matching events found\n",
      "No baseline correction applied\n",
      "0 projection items activated\n",
      "Not setting metadata\n",
      "60 matching events found\n",
      "No baseline correction applied\n",
      "0 projection items activated\n",
      "Using data from preloaded Raw for 60 events and 20001 original time points ...\n",
      "0 bad epochs dropped\n",
      "Estimating rejection dictionary for eeg\n",
      "Not setting metadata\n",
      "60 matching events found\n",
      "No baseline correction applied\n",
      "0 projection items activated\n",
      "Bad channels identification...\n",
      "Using data from preloaded Raw for 60 events and 20001 original time points ...\n",
      "    Rejecting  epoch based on EEG : ['C4', 'CP5', 'CP6', 'C5', 'C2', 'C6']\n",
      "    Rejecting  epoch based on EEG : ['CP5', 'CP6', 'C5']\n",
      "2 bad epochs dropped\n",
      "Current condition: sub-S02_MIpre, removing: []\n",
      "Using data from preloaded Raw for 60 events and 20001 original time points ...\n",
      "    Rejecting  epoch based on EEG : ['C3', 'CP5', 'CP1', 'C5', 'CP3']\n",
      "1 bad epochs dropped\n",
      "Current condition: sub-S02_MIpost, removing: []\n"
     ]
    }
   ],
   "source": [
    "epoch_dict = get_epochs(select_keys(EEG_dict_corrected_CAR,[MIPRE,MIPOST]),EVENTS_dict)\n",
    "epoch_dict = reject_bad_chs(epoch_dict)"
   ]
  },
  {
   "cell_type": "code",
   "execution_count": null,
   "metadata": {},
   "outputs": [],
   "source": [
    "plot_ERDS(working_EEG,(-2,0),filters,'se')"
   ]
  },
  {
   "cell_type": "code",
   "execution_count": null,
   "metadata": {},
   "outputs": [],
   "source": [
    "quick_ERDS(epoch_dict)"
   ]
  },
  {
   "cell_type": "code",
   "execution_count": 28,
   "metadata": {},
   "outputs": [
    {
     "name": "stdout",
     "output_type": "stream",
     "text": [
      "Using data from preloaded Raw for 60 events and 20001 original time points ...\n",
      "    Rejecting  epoch based on EEG : ['C3', 'CP5', 'CP1', 'C5', 'CP3']\n",
      "1 bad epochs dropped\n"
     ]
    },
    {
     "name": "stderr",
     "output_type": "stream",
     "text": [
      "[Parallel(n_jobs=1)]: Using backend SequentialBackend with 1 concurrent workers.\n",
      "[Parallel(n_jobs=1)]: Done   1 out of   1 | elapsed:    1.1s remaining:    0.0s\n",
      "[Parallel(n_jobs=1)]: Done   2 out of   2 | elapsed:    2.3s remaining:    0.0s\n",
      "[Parallel(n_jobs=1)]: Done   3 out of   3 | elapsed:    3.4s remaining:    0.0s\n",
      "[Parallel(n_jobs=1)]: Done   4 out of   4 | elapsed:    4.8s remaining:    0.0s\n"
     ]
    },
    {
     "name": "stdout",
     "output_type": "stream",
     "text": [
      "Not setting metadata\n"
     ]
    },
    {
     "name": "stderr",
     "output_type": "stream",
     "text": [
      "[Parallel(n_jobs=1)]: Done   5 out of   5 | elapsed:    5.8s finished\n"
     ]
    },
    {
     "name": "stdout",
     "output_type": "stream",
     "text": [
      "Applying baseline correction (mode: percent)\n",
      "Using data from preloaded Raw for 60 events and 20001 original time points ...\n",
      "    Rejecting  epoch based on EEG : ['C4', 'CP5', 'CP6', 'C5', 'C2', 'C6']\n",
      "    Rejecting  epoch based on EEG : ['CP5', 'CP6', 'C5']\n",
      "2 bad epochs dropped\n"
     ]
    },
    {
     "name": "stderr",
     "output_type": "stream",
     "text": [
      "[Parallel(n_jobs=1)]: Using backend SequentialBackend with 1 concurrent workers.\n",
      "[Parallel(n_jobs=1)]: Done   1 out of   1 | elapsed:    0.9s remaining:    0.0s\n",
      "[Parallel(n_jobs=1)]: Done   2 out of   2 | elapsed:    1.8s remaining:    0.0s\n",
      "[Parallel(n_jobs=1)]: Done   3 out of   3 | elapsed:    2.6s remaining:    0.0s\n",
      "[Parallel(n_jobs=1)]: Done   4 out of   4 | elapsed:    3.5s remaining:    0.0s\n"
     ]
    },
    {
     "name": "stdout",
     "output_type": "stream",
     "text": [
      "Not setting metadata\n"
     ]
    },
    {
     "name": "stderr",
     "output_type": "stream",
     "text": [
      "[Parallel(n_jobs=1)]: Done   5 out of   5 | elapsed:    4.4s finished\n"
     ]
    },
    {
     "name": "stdout",
     "output_type": "stream",
     "text": [
      "Applying baseline correction (mode: percent)\n"
     ]
    }
   ],
   "source": [
    "freqs = np.arange(1, 40)  # frequencies from 2-35Hz\n",
    "vmin, vmax = -1, 1.5  # set min and max ERDS values in plot\n",
    "baseline = (-2, 0.)  # baseline interval (in s)\n",
    "tmin = -2.\n",
    "tmax = 7.\n",
    "colors = {'Left':\n",
    "          'lightskyblue',\n",
    "          'Right':'sandybrown',\n",
    "          'Third':'springgreen'\n",
    "          }\n",
    "dfs = []\n",
    "frequencies = list(filters.keys())\n",
    "path = get_subject_path(epoch_dict)\n",
    "for cond in [MIPOST,MIPRE]:\n",
    "    \n",
    "    epochs = epoch_dict[cond]['epochs'].copy()\n",
    "    epochs.load_data()\n",
    "    picked_chs = ['C3','C1','CZ','C2','C4']\n",
    "    epochs.pick(picked_chs)\n",
    "    epochs.resample(500)\n",
    "    \n",
    "    cnorm = TwoSlopeNorm(vmin=vmin, vcenter=0, vmax=vmax)  # min, center & max ERDS\n",
    "\n",
    "    kwargs = dict(n_permutations=100, step_down_p=0.05, seed=1,\n",
    "                buffer_size=None, out_type='mask')  # for cluster test\n",
    "    tfr = tfr_multitaper(epochs, freqs=freqs, n_cycles=freqs, use_fft=True,\n",
    "                        return_itc=False, average=False, decim=2)\n",
    "    tfr.crop(tmin, tmax).apply_baseline(baseline, mode=\"percent\")\n",
    "    '''\n",
    "    channels = tfr.ch_names\n",
    "    trials = list(tfr.event_id.keys())\n",
    "    freq_mask = (tfr.freqs >= 8) & (tfr.freqs <= 12)\n",
    "    time_mask = (tfr.times >= 2)\n",
    "    #fig,axs = plt.subplots(1,len(picked_chs))\n",
    "    selection = tfr.data[:,:,freq_mask,time_mask]\n",
    "    freq_avg = np.mean(selection,axis=2)\n",
    "    tfr.data = freq_avg\n",
    "    '''\n",
    "\n",
    "    for freq in frequencies:\n",
    "        for k,ch in enumerate(epochs.ch_names):\n",
    "            current_tfr = tfr.copy().pick([ch])\n",
    "            data = tfr.data\n",
    "            freq_mask = (current_tfr.freqs >= filters[freq][0]) & (current_tfr.freqs <= filters[freq][1])\n",
    "            time_mask_trial = (current_tfr.times >= 2)\n",
    "            time_mask_cue = (current_tfr.times >= 0) & (current_tfr.times < 2)\n",
    "            selection = current_tfr.data[:,:,freq_mask,:]\n",
    "            selection_trial = selection[:,:,:,time_mask_trial]\n",
    "            selection_cue = selection[:,:,:,time_mask_cue]\n",
    "            freq_avg_trial = np.mean(selection_trial,axis=2)\n",
    "            time_avg_trial = np.nanmean(freq_avg_trial,axis=-1)\n",
    "            freq_avg_cue = np.mean(selection_cue,axis=2)\n",
    "            time_avg_cue = np.nanmean(freq_avg_cue,axis=-1)\n",
    "            df = pd.DataFrame(data={'trial_pwr':time_avg_trial.squeeze(),'cue_pwr':time_avg_cue.squeeze()})\n",
    "            df['ch_name'] = ch\n",
    "            df['band'] = freq\n",
    "            df['condition'] = [x for x in ['MIpost','MIpre'] if x in cond][0]\n",
    "            df['trial'] = map_events(current_tfr.events,current_tfr.event_id)\n",
    "            df['epoch'] = np.arange(1,time_avg_trial.shape[0]+1)\n",
    "            dfs.append(df)\n",
    "    '''\n",
    "    df = tfr.to_data_frame(time_format = None, long_format = True)\n",
    "    # Map to frequency bands:\n",
    "    \n",
    "    freq_bounds = {'_': 0,\n",
    "                'delta': 3,\n",
    "                'theta': 7,\n",
    "                'alpha': 12,\n",
    "                'beta': 34,\n",
    "                'gamma' : 140}\n",
    "    df['band'] = pd.cut(df['freq'], list(freq_bounds.values()),\n",
    "                        labels=list(freq_bounds)[1:])\n",
    "    # Filter to retain only relevant frequency bands:\n",
    "    freq_bands_of_interest = ['theta','alpha','beta','gamma']\n",
    "    df = df[df.band.isin(freq_bands_of_interest)]\n",
    "    df['band'] = df['band'].cat.remove_unused_categories()\n",
    "    df['channel'] = df['channel'].cat.reorder_categories(picked_chs,\n",
    "                                                        ordered=True)\n",
    "    #df.rename(columns={\"condition\": \"trial\"})                                                    \n",
    "    \n",
    "    '''\n",
    "    \n",
    "    '''\n",
    "            epoch_avg = np.nanmean(freq_avg,axis=0)\n",
    "            axs[k].plot(tfr.times,epoch_avg[0],color=colors[trial],label = trial)\n",
    "        axs[k].grid(True)\n",
    "        axs[k].set_ylim([-2, 6])\n",
    "        axs[k].set_xlim([-2, 7])\n",
    "        axs[k].axvline(x = baseline[1], color = 'black',linestyle=\"--\", label = 'trial onset')\n",
    "        axs[k].axhline(y = 0., color = 'black',linestyle=\"--\")\n",
    "        axs[k].legend()\n",
    "        axs[k].set_title(ch)\n",
    "    fig.tight_layout()\n",
    "    fig.set_figwidth(len(picked_chs)*10)\n",
    "    fig.suptitle(cond, fontsize=10)\n",
    "    fig.subplots_adjust(left=0.1, right=0.9, top=0.9, bottom=0.08)\n",
    "    plt.show()\n",
    "    '''\n",
    "    del epochs\n",
    "result = pd.concat(dfs)\n",
    "result['subject_ID'] = path.split('/')[2]\n",
    "result['group'] = path.split('/')[1]\n",
    "    "
   ]
  },
  {
   "cell_type": "code",
   "execution_count": 29,
   "metadata": {},
   "outputs": [
    {
     "data": {
      "text/html": [
       "<div>\n",
       "<style scoped>\n",
       "    .dataframe tbody tr th:only-of-type {\n",
       "        vertical-align: middle;\n",
       "    }\n",
       "\n",
       "    .dataframe tbody tr th {\n",
       "        vertical-align: top;\n",
       "    }\n",
       "\n",
       "    .dataframe thead th {\n",
       "        text-align: right;\n",
       "    }\n",
       "</style>\n",
       "<table border=\"1\" class=\"dataframe\">\n",
       "  <thead>\n",
       "    <tr style=\"text-align: right;\">\n",
       "      <th></th>\n",
       "      <th>trial_pwr</th>\n",
       "      <th>cue_pwr</th>\n",
       "      <th>ch_name</th>\n",
       "      <th>band</th>\n",
       "      <th>condition</th>\n",
       "      <th>trial</th>\n",
       "      <th>epoch</th>\n",
       "      <th>subject_ID</th>\n",
       "      <th>group</th>\n",
       "    </tr>\n",
       "  </thead>\n",
       "  <tbody>\n",
       "    <tr>\n",
       "      <th>0</th>\n",
       "      <td>-0.618085</td>\n",
       "      <td>6.141136</td>\n",
       "      <td>C3</td>\n",
       "      <td>theta</td>\n",
       "      <td>MIpost</td>\n",
       "      <td>Right</td>\n",
       "      <td>1</td>\n",
       "      <td>S02</td>\n",
       "      <td>Group_Realistic_Arm</td>\n",
       "    </tr>\n",
       "    <tr>\n",
       "      <th>0</th>\n",
       "      <td>-0.703580</td>\n",
       "      <td>2.438827</td>\n",
       "      <td>C1</td>\n",
       "      <td>theta</td>\n",
       "      <td>MIpost</td>\n",
       "      <td>Right</td>\n",
       "      <td>1</td>\n",
       "      <td>S02</td>\n",
       "      <td>Group_Realistic_Arm</td>\n",
       "    </tr>\n",
       "    <tr>\n",
       "      <th>0</th>\n",
       "      <td>-0.653488</td>\n",
       "      <td>0.577023</td>\n",
       "      <td>CZ</td>\n",
       "      <td>theta</td>\n",
       "      <td>MIpost</td>\n",
       "      <td>Right</td>\n",
       "      <td>1</td>\n",
       "      <td>S02</td>\n",
       "      <td>Group_Realistic_Arm</td>\n",
       "    </tr>\n",
       "    <tr>\n",
       "      <th>0</th>\n",
       "      <td>-0.732957</td>\n",
       "      <td>1.095369</td>\n",
       "      <td>C2</td>\n",
       "      <td>theta</td>\n",
       "      <td>MIpost</td>\n",
       "      <td>Right</td>\n",
       "      <td>1</td>\n",
       "      <td>S02</td>\n",
       "      <td>Group_Realistic_Arm</td>\n",
       "    </tr>\n",
       "    <tr>\n",
       "      <th>0</th>\n",
       "      <td>-0.782080</td>\n",
       "      <td>2.158084</td>\n",
       "      <td>C4</td>\n",
       "      <td>theta</td>\n",
       "      <td>MIpost</td>\n",
       "      <td>Right</td>\n",
       "      <td>1</td>\n",
       "      <td>S02</td>\n",
       "      <td>Group_Realistic_Arm</td>\n",
       "    </tr>\n",
       "    <tr>\n",
       "      <th>...</th>\n",
       "      <td>...</td>\n",
       "      <td>...</td>\n",
       "      <td>...</td>\n",
       "      <td>...</td>\n",
       "      <td>...</td>\n",
       "      <td>...</td>\n",
       "      <td>...</td>\n",
       "      <td>...</td>\n",
       "      <td>...</td>\n",
       "    </tr>\n",
       "    <tr>\n",
       "      <th>3</th>\n",
       "      <td>-0.074283</td>\n",
       "      <td>0.107455</td>\n",
       "      <td>C3</td>\n",
       "      <td>gamma</td>\n",
       "      <td>MIpost</td>\n",
       "      <td>Left</td>\n",
       "      <td>4</td>\n",
       "      <td>S02</td>\n",
       "      <td>Group_Realistic_Arm</td>\n",
       "    </tr>\n",
       "    <tr>\n",
       "      <th>3</th>\n",
       "      <td>-0.118135</td>\n",
       "      <td>-0.272314</td>\n",
       "      <td>C1</td>\n",
       "      <td>gamma</td>\n",
       "      <td>MIpost</td>\n",
       "      <td>Left</td>\n",
       "      <td>4</td>\n",
       "      <td>S02</td>\n",
       "      <td>Group_Realistic_Arm</td>\n",
       "    </tr>\n",
       "    <tr>\n",
       "      <th>3</th>\n",
       "      <td>-0.168580</td>\n",
       "      <td>-0.097071</td>\n",
       "      <td>CZ</td>\n",
       "      <td>gamma</td>\n",
       "      <td>MIpost</td>\n",
       "      <td>Left</td>\n",
       "      <td>4</td>\n",
       "      <td>S02</td>\n",
       "      <td>Group_Realistic_Arm</td>\n",
       "    </tr>\n",
       "    <tr>\n",
       "      <th>3</th>\n",
       "      <td>-0.183053</td>\n",
       "      <td>-0.035866</td>\n",
       "      <td>C2</td>\n",
       "      <td>gamma</td>\n",
       "      <td>MIpost</td>\n",
       "      <td>Left</td>\n",
       "      <td>4</td>\n",
       "      <td>S02</td>\n",
       "      <td>Group_Realistic_Arm</td>\n",
       "    </tr>\n",
       "    <tr>\n",
       "      <th>3</th>\n",
       "      <td>-0.457827</td>\n",
       "      <td>0.128944</td>\n",
       "      <td>C4</td>\n",
       "      <td>gamma</td>\n",
       "      <td>MIpost</td>\n",
       "      <td>Left</td>\n",
       "      <td>4</td>\n",
       "      <td>S02</td>\n",
       "      <td>Group_Realistic_Arm</td>\n",
       "    </tr>\n",
       "  </tbody>\n",
       "</table>\n",
       "<p>80 rows × 9 columns</p>\n",
       "</div>"
      ],
      "text/plain": [
       "    trial_pwr   cue_pwr ch_name   band condition  trial  epoch subject_ID  \\\n",
       "0   -0.618085  6.141136      C3  theta    MIpost  Right      1        S02   \n",
       "0   -0.703580  2.438827      C1  theta    MIpost  Right      1        S02   \n",
       "0   -0.653488  0.577023      CZ  theta    MIpost  Right      1        S02   \n",
       "0   -0.732957  1.095369      C2  theta    MIpost  Right      1        S02   \n",
       "0   -0.782080  2.158084      C4  theta    MIpost  Right      1        S02   \n",
       "..        ...       ...     ...    ...       ...    ...    ...        ...   \n",
       "3   -0.074283  0.107455      C3  gamma    MIpost   Left      4        S02   \n",
       "3   -0.118135 -0.272314      C1  gamma    MIpost   Left      4        S02   \n",
       "3   -0.168580 -0.097071      CZ  gamma    MIpost   Left      4        S02   \n",
       "3   -0.183053 -0.035866      C2  gamma    MIpost   Left      4        S02   \n",
       "3   -0.457827  0.128944      C4  gamma    MIpost   Left      4        S02   \n",
       "\n",
       "                  group  \n",
       "0   Group_Realistic_Arm  \n",
       "0   Group_Realistic_Arm  \n",
       "0   Group_Realistic_Arm  \n",
       "0   Group_Realistic_Arm  \n",
       "0   Group_Realistic_Arm  \n",
       "..                  ...  \n",
       "3   Group_Realistic_Arm  \n",
       "3   Group_Realistic_Arm  \n",
       "3   Group_Realistic_Arm  \n",
       "3   Group_Realistic_Arm  \n",
       "3   Group_Realistic_Arm  \n",
       "\n",
       "[80 rows x 9 columns]"
      ]
     },
     "execution_count": 29,
     "metadata": {},
     "output_type": "execute_result"
    }
   ],
   "source": [
    "result = result.sort_values(by=['condition','epoch'])\n",
    "result.head(80)"
   ]
  },
  {
   "cell_type": "code",
   "execution_count": 30,
   "metadata": {},
   "outputs": [
    {
     "name": "stdout",
     "output_type": "stream",
     "text": [
      "Using data from preloaded Raw for 60 events and 20001 original time points ...\n",
      "    Rejecting  epoch based on EEG : ['C4', 'CP5', 'CP6', 'C5', 'C2', 'C6']\n",
      "    Rejecting  epoch based on EEG : ['CP5', 'CP6', 'C5']\n",
      "2 bad epochs dropped\n"
     ]
    },
    {
     "name": "stderr",
     "output_type": "stream",
     "text": [
      "[Parallel(n_jobs=1)]: Using backend SequentialBackend with 1 concurrent workers.\n",
      "[Parallel(n_jobs=1)]: Done   1 out of   1 | elapsed:    1.1s remaining:    0.0s\n",
      "[Parallel(n_jobs=1)]: Done   2 out of   2 | elapsed:    2.2s remaining:    0.0s\n",
      "[Parallel(n_jobs=1)]: Done   3 out of   3 | elapsed:    3.3s remaining:    0.0s\n",
      "[Parallel(n_jobs=1)]: Done   4 out of   4 | elapsed:    4.5s remaining:    0.0s\n"
     ]
    },
    {
     "name": "stdout",
     "output_type": "stream",
     "text": [
      "Not setting metadata\n"
     ]
    },
    {
     "name": "stderr",
     "output_type": "stream",
     "text": [
      "[Parallel(n_jobs=1)]: Done   5 out of   5 | elapsed:    5.6s finished\n"
     ]
    },
    {
     "name": "stdout",
     "output_type": "stream",
     "text": [
      "Applying baseline correction (mode: percent)\n",
      "Using data from preloaded Raw for 60 events and 20001 original time points ...\n",
      "    Rejecting  epoch based on EEG : ['C3', 'CP5', 'CP1', 'C5', 'CP3']\n",
      "1 bad epochs dropped\n"
     ]
    },
    {
     "name": "stderr",
     "output_type": "stream",
     "text": [
      "[Parallel(n_jobs=1)]: Using backend SequentialBackend with 1 concurrent workers.\n",
      "[Parallel(n_jobs=1)]: Done   1 out of   1 | elapsed:    1.0s remaining:    0.0s\n",
      "[Parallel(n_jobs=1)]: Done   2 out of   2 | elapsed:    2.2s remaining:    0.0s\n",
      "[Parallel(n_jobs=1)]: Done   3 out of   3 | elapsed:    3.3s remaining:    0.0s\n",
      "[Parallel(n_jobs=1)]: Done   4 out of   4 | elapsed:    4.5s remaining:    0.0s\n"
     ]
    },
    {
     "name": "stdout",
     "output_type": "stream",
     "text": [
      "Not setting metadata\n"
     ]
    },
    {
     "name": "stderr",
     "output_type": "stream",
     "text": [
      "[Parallel(n_jobs=1)]: Done   5 out of   5 | elapsed:    5.6s finished\n"
     ]
    },
    {
     "name": "stdout",
     "output_type": "stream",
     "text": [
      "Applying baseline correction (mode: percent)\n"
     ]
    }
   ],
   "source": [
    "save_erds_data(epoch_dict,filters)"
   ]
  },
  {
   "cell_type": "code",
   "execution_count": 18,
   "metadata": {},
   "outputs": [
    {
     "data": {
      "text/html": [
       "<div>\n",
       "<style scoped>\n",
       "    .dataframe tbody tr th:only-of-type {\n",
       "        vertical-align: middle;\n",
       "    }\n",
       "\n",
       "    .dataframe tbody tr th {\n",
       "        vertical-align: top;\n",
       "    }\n",
       "\n",
       "    .dataframe thead th {\n",
       "        text-align: right;\n",
       "    }\n",
       "</style>\n",
       "<table border=\"1\" class=\"dataframe\">\n",
       "  <thead>\n",
       "    <tr style=\"text-align: right;\">\n",
       "      <th></th>\n",
       "      <th>trial_pwr</th>\n",
       "      <th>cue_pwr</th>\n",
       "      <th>ch_name</th>\n",
       "      <th>band</th>\n",
       "      <th>condition</th>\n",
       "      <th>trial</th>\n",
       "      <th>epoch</th>\n",
       "      <th>subject_ID</th>\n",
       "      <th>group</th>\n",
       "    </tr>\n",
       "  </thead>\n",
       "  <tbody>\n",
       "    <tr>\n",
       "      <th>0</th>\n",
       "      <td>0.215770</td>\n",
       "      <td>1.399321</td>\n",
       "      <td>C3</td>\n",
       "      <td>theta</td>\n",
       "      <td>MIpost</td>\n",
       "      <td>Third</td>\n",
       "      <td>1</td>\n",
       "      <td>S01</td>\n",
       "      <td>Group_Realistic_Arm</td>\n",
       "    </tr>\n",
       "    <tr>\n",
       "      <th>1</th>\n",
       "      <td>0.161314</td>\n",
       "      <td>-0.289069</td>\n",
       "      <td>C3</td>\n",
       "      <td>theta</td>\n",
       "      <td>MIpost</td>\n",
       "      <td>Left</td>\n",
       "      <td>2</td>\n",
       "      <td>S01</td>\n",
       "      <td>Group_Realistic_Arm</td>\n",
       "    </tr>\n",
       "    <tr>\n",
       "      <th>2</th>\n",
       "      <td>-0.243697</td>\n",
       "      <td>-0.164601</td>\n",
       "      <td>C3</td>\n",
       "      <td>theta</td>\n",
       "      <td>MIpost</td>\n",
       "      <td>Left</td>\n",
       "      <td>3</td>\n",
       "      <td>S01</td>\n",
       "      <td>Group_Realistic_Arm</td>\n",
       "    </tr>\n",
       "    <tr>\n",
       "      <th>3</th>\n",
       "      <td>-0.081931</td>\n",
       "      <td>-0.183062</td>\n",
       "      <td>C3</td>\n",
       "      <td>theta</td>\n",
       "      <td>MIpost</td>\n",
       "      <td>Right</td>\n",
       "      <td>4</td>\n",
       "      <td>S01</td>\n",
       "      <td>Group_Realistic_Arm</td>\n",
       "    </tr>\n",
       "    <tr>\n",
       "      <th>4</th>\n",
       "      <td>-0.366261</td>\n",
       "      <td>-0.631333</td>\n",
       "      <td>C3</td>\n",
       "      <td>theta</td>\n",
       "      <td>MIpost</td>\n",
       "      <td>Right</td>\n",
       "      <td>5</td>\n",
       "      <td>S01</td>\n",
       "      <td>Group_Realistic_Arm</td>\n",
       "    </tr>\n",
       "  </tbody>\n",
       "</table>\n",
       "</div>"
      ],
      "text/plain": [
       "   trial_pwr   cue_pwr ch_name   band condition  trial  epoch subject_ID  \\\n",
       "0   0.215770  1.399321      C3  theta    MIpost  Third      1        S01   \n",
       "1   0.161314 -0.289069      C3  theta    MIpost   Left      2        S01   \n",
       "2  -0.243697 -0.164601      C3  theta    MIpost   Left      3        S01   \n",
       "3  -0.081931 -0.183062      C3  theta    MIpost  Right      4        S01   \n",
       "4  -0.366261 -0.631333      C3  theta    MIpost  Right      5        S01   \n",
       "\n",
       "                 group  \n",
       "0  Group_Realistic_Arm  \n",
       "1  Group_Realistic_Arm  \n",
       "2  Group_Realistic_Arm  \n",
       "3  Group_Realistic_Arm  \n",
       "4  Group_Realistic_Arm  "
      ]
     },
     "execution_count": 18,
     "metadata": {},
     "output_type": "execute_result"
    }
   ],
   "source": [
    "df = pd.read_csv(get_subject_path(epoch_dict)+'/ERDS/erds_data.csv')\n",
    "df.head()"
   ]
  },
  {
   "cell_type": "code",
   "execution_count": null,
   "metadata": {},
   "outputs": [],
   "source": [
    "epochs = epoch_dict[MIPOST]['epochs'].copy()\n",
    "epochs.load_data()\n",
    "picked_chs = ['C3','C1','CZ','C2','C4']\n",
    "epochs.pick(picked_chs)\n",
    "epochs.resample(500)\n",
    "    \n",
    "cnorm = TwoSlopeNorm(vmin=vmin, vcenter=0, vmax=vmax)  # min, center & max ERDS\n",
    "\n",
    "kwargs = dict(n_permutations=100, step_down_p=0.05, seed=1,\n",
    "            buffer_size=None, out_type='mask')  # for cluster test\n",
    "tfr = tfr_multitaper(epochs, freqs=freqs, n_cycles=freqs, use_fft=True,\n",
    "                        return_itc=False, average=False, decim=2)\n",
    "tfr.crop(tmin, tmax).apply_baseline(baseline, mode=\"percent\")"
   ]
  },
  {
   "cell_type": "code",
   "execution_count": 107,
   "metadata": {},
   "outputs": [],
   "source": [
    "result = pd.concat(dfs)"
   ]
  },
  {
   "cell_type": "code",
   "execution_count": null,
   "metadata": {},
   "outputs": [],
   "source": [
    "map_events(tfr.events,tfr.event_id)"
   ]
  },
  {
   "cell_type": "code",
   "execution_count": null,
   "metadata": {},
   "outputs": [],
   "source": [
    "result.sort_values(by=['condition','band','trial'])"
   ]
  },
  {
   "cell_type": "code",
   "execution_count": null,
   "metadata": {},
   "outputs": [],
   "source": [
    "epoch_dict[cond]['epochs'].ch_names"
   ]
  },
  {
   "cell_type": "code",
   "execution_count": 31,
   "metadata": {},
   "outputs": [],
   "source": [
    "result = result.sort_values(by=['epoch','time','channel','band'])"
   ]
  },
  {
   "cell_type": "code",
   "execution_count": null,
   "metadata": {},
   "outputs": [],
   "source": [
    "result[result['band'] == 'alpha'].head(100)"
   ]
  },
  {
   "cell_type": "code",
   "execution_count": null,
   "metadata": {},
   "outputs": [],
   "source": [
    "events = tfr.events\n",
    "events_id = tfr.event_id\n",
    "trials = list(events_id.keys())\n",
    "events = events[:,2]\n",
    "res = pd.Series(events)\n",
    "for trial in trials:\n",
    "    res[res==events_id[trial]] = trial\n",
    "\n",
    "print(res)"
   ]
  },
  {
   "attachments": {},
   "cell_type": "markdown",
   "metadata": {},
   "source": [
    "### Save erds data for all subjects"
   ]
  },
  {
   "cell_type": "code",
   "execution_count": null,
   "metadata": {},
   "outputs": [],
   "source": [
    "def save_erds_data(epoch_dict,filters):\n",
    "    freqs = np.arange(1, 40)  # frequencies from 2-35Hz\n",
    "    vmin, vmax = -1, 1.5  # set min and max ERDS values in plot\n",
    "    baseline = (-2, 0.)  # baseline interval (in s)\n",
    "    tmin = -2.\n",
    "    tmax = 7.\n",
    "    dfs = []\n",
    "    frequencies = list(filters.keys())\n",
    "    path = get_subject_path(epoch_dict)\n",
    "    for cond in list(epoch_dict.keys()):\n",
    "        \n",
    "        epochs = epoch_dict[cond]['epochs'].copy()\n",
    "        epochs.load_data()\n",
    "        picked_chs = ['C3','C1','CZ','C2','C4']\n",
    "        epochs.pick(picked_chs)\n",
    "        epochs.resample(500)\n",
    "        \n",
    "        cnorm = TwoSlopeNorm(vmin=vmin, vcenter=0, vmax=vmax)  # min, center & max ERDS\n",
    "\n",
    "        kwargs = dict(n_permutations=100, step_down_p=0.05, seed=1,\n",
    "                    buffer_size=None, out_type='mask')  # for cluster test\n",
    "        tfr = tfr_multitaper(epochs, freqs=freqs, n_cycles=freqs, use_fft=True,\n",
    "                            return_itc=False, average=False, decim=2)\n",
    "        tfr.crop(tmin, tmax).apply_baseline(baseline, mode=\"percent\")\n",
    "        '''\n",
    "        channels = tfr.ch_names\n",
    "        trials = list(tfr.event_id.keys())\n",
    "        freq_mask = (tfr.freqs >= 8) & (tfr.freqs <= 12)\n",
    "        time_mask = (tfr.times >= 2)\n",
    "        #fig,axs = plt.subplots(1,len(picked_chs))\n",
    "        selection = tfr.data[:,:,freq_mask,time_mask]\n",
    "        freq_avg = np.mean(selection,axis=2)\n",
    "        tfr.data = freq_avg\n",
    "        '''\n",
    "\n",
    "        for freq in frequencies:\n",
    "            for k,ch in enumerate(epochs.ch_names):\n",
    "                current_tfr = tfr.copy().pick([ch])\n",
    "                freq_mask = (current_tfr.freqs >= filters[freq][0]) & (current_tfr.freqs <= filters[freq][1])\n",
    "                time_mask_trial = (current_tfr.times >= 2)\n",
    "                time_mask_cue = (current_tfr.times >= 0) & (current_tfr.times < 2)\n",
    "                selection = current_tfr.data[:,:,freq_mask,:]\n",
    "                selection_trial = selection[:,:,:,time_mask_trial]\n",
    "                selection_cue = selection[:,:,:,time_mask_cue]\n",
    "                freq_avg_trial = np.mean(selection_trial,axis=2)\n",
    "                time_avg_trial = np.nanmean(freq_avg_trial,axis=-1)\n",
    "                freq_avg_cue = np.mean(selection_cue,axis=2)\n",
    "                time_avg_cue = np.nanmean(freq_avg_cue,axis=-1)\n",
    "                df = pd.DataFrame(data={'trial_pwr':time_avg_trial.squeeze(),'cue_pwr':time_avg_cue.squeeze()})\n",
    "                df['ch_name'] = ch\n",
    "                df['band'] = freq\n",
    "                df['condition'] = [x for x in ['MIpost','MIpre'] if x in cond][0]\n",
    "                df['trial'] = map_events(current_tfr.events,current_tfr.event_id)\n",
    "                df['epoch'] = np.arange(1,time_avg_trial.shape[0]+1)\n",
    "                dfs.append(df)\n",
    "        del epochs\n",
    "    result = pd.concat(dfs)\n",
    "    result['subject_ID'] = path.split('/')[2]\n",
    "    result['group'] = path.split('/')[1]\n",
    "\n",
    "    path = get_subject_path(epoch_dict) +'/ERDS/erds_data.csv'\n",
    "    result.to_csv(path,index=False)\n",
    "    \n",
    "    return"
   ]
  },
  {
   "cell_type": "code",
   "execution_count": 31,
   "metadata": {},
   "outputs": [
    {
     "ename": "ValueError",
     "evalue": "picks (['C3']) could not be interpreted as channel names (no channel \"['C3']\"), channel types (no type \"C3\"), or a generic type (just \"all\" or \"data\")",
     "output_type": "error",
     "traceback": [
      "\u001b[1;31m---------------------------------------------------------------------------\u001b[0m",
      "\u001b[1;31mValueError\u001b[0m                                Traceback (most recent call last)",
      "Cell \u001b[1;32mIn[31], line 9\u001b[0m\n\u001b[0;32m      7\u001b[0m epoch_dict \u001b[39m=\u001b[39m get_epochs(EEG_dict_corrected_CAR,EVENTS_dict)\n\u001b[0;32m      8\u001b[0m epoch_dict \u001b[39m=\u001b[39m reject_bad_chs(epoch_dict)\n\u001b[1;32m----> 9\u001b[0m save_erds_data(epoch_dict,filters)\n\u001b[0;32m     10\u001b[0m last_id \u001b[39m=\u001b[39m idx\n",
      "Cell \u001b[1;32mIn[20], line 38\u001b[0m, in \u001b[0;36msave_erds_data\u001b[1;34m(epoch_dict, filters)\u001b[0m\n\u001b[0;32m     36\u001b[0m \u001b[39mfor\u001b[39;00m freq \u001b[39min\u001b[39;00m frequencies:\n\u001b[0;32m     37\u001b[0m     \u001b[39mfor\u001b[39;00m k,ch \u001b[39min\u001b[39;00m \u001b[39menumerate\u001b[39m(epochs\u001b[39m.\u001b[39mch_names):\n\u001b[1;32m---> 38\u001b[0m         current_tfr \u001b[39m=\u001b[39m tfr\u001b[39m.\u001b[39;49mcopy()\u001b[39m.\u001b[39;49mpick([ch])\n\u001b[0;32m     39\u001b[0m         freq_mask \u001b[39m=\u001b[39m (current_tfr\u001b[39m.\u001b[39mfreqs \u001b[39m>\u001b[39m\u001b[39m=\u001b[39m filters[freq][\u001b[39m0\u001b[39m]) \u001b[39m&\u001b[39m (current_tfr\u001b[39m.\u001b[39mfreqs \u001b[39m<\u001b[39m\u001b[39m=\u001b[39m filters[freq][\u001b[39m1\u001b[39m])\n\u001b[0;32m     40\u001b[0m         time_mask_trial \u001b[39m=\u001b[39m (current_tfr\u001b[39m.\u001b[39mtimes \u001b[39m>\u001b[39m\u001b[39m=\u001b[39m \u001b[39m2\u001b[39m)\n",
      "File \u001b[1;32m<decorator-gen-48>:12\u001b[0m, in \u001b[0;36mpick\u001b[1;34m(self, picks, exclude, verbose)\u001b[0m\n",
      "File \u001b[1;32mc:\\Users\\haiou\\python-env\\.venv\\env_TNE\\lib\\site-packages\\mne\\channels\\channels.py:703\u001b[0m, in \u001b[0;36mUpdateChannelsMixin.pick\u001b[1;34m(self, picks, exclude, verbose)\u001b[0m\n\u001b[0;32m    684\u001b[0m \u001b[39m@verbose\u001b[39m\n\u001b[0;32m    685\u001b[0m \u001b[39mdef\u001b[39;00m \u001b[39mpick\u001b[39m(\u001b[39mself\u001b[39m, picks, exclude\u001b[39m=\u001b[39m(), \u001b[39m*\u001b[39m, verbose\u001b[39m=\u001b[39m\u001b[39mNone\u001b[39;00m):\n\u001b[0;32m    686\u001b[0m \u001b[39m    \u001b[39m\u001b[39m\"\"\"Pick a subset of channels.\u001b[39;00m\n\u001b[0;32m    687\u001b[0m \n\u001b[0;32m    688\u001b[0m \u001b[39m    Parameters\u001b[39;00m\n\u001b[1;32m   (...)\u001b[0m\n\u001b[0;32m    701\u001b[0m \u001b[39m        The modified instance.\u001b[39;00m\n\u001b[0;32m    702\u001b[0m \u001b[39m    \"\"\"\u001b[39;00m\n\u001b[1;32m--> 703\u001b[0m     picks \u001b[39m=\u001b[39m _picks_to_idx(\u001b[39mself\u001b[39;49m\u001b[39m.\u001b[39;49minfo, picks, \u001b[39m'\u001b[39;49m\u001b[39mall\u001b[39;49m\u001b[39m'\u001b[39;49m, exclude,\n\u001b[0;32m    704\u001b[0m                           allow_empty\u001b[39m=\u001b[39;49m\u001b[39mFalse\u001b[39;49;00m)\n\u001b[0;32m    705\u001b[0m     \u001b[39mreturn\u001b[39;00m \u001b[39mself\u001b[39m\u001b[39m.\u001b[39m_pick_drop_channels(picks)\n",
      "File \u001b[1;32mc:\\Users\\haiou\\python-env\\.venv\\env_TNE\\lib\\site-packages\\mne\\io\\pick.py:1020\u001b[0m, in \u001b[0;36m_picks_to_idx\u001b[1;34m(info, picks, none, exclude, allow_empty, with_ref_meg, return_kind, picks_on)\u001b[0m\n\u001b[0;32m   1018\u001b[0m     \u001b[39mraise\u001b[39;00m \u001b[39mValueError\u001b[39;00m(\u001b[39m'\u001b[39m\u001b[39mpicks must be 1D, got \u001b[39m\u001b[39m%s\u001b[39;00m\u001b[39mD\u001b[39m\u001b[39m'\u001b[39m \u001b[39m%\u001b[39m (picks\u001b[39m.\u001b[39mndim,))\n\u001b[0;32m   1019\u001b[0m \u001b[39mif\u001b[39;00m picks\u001b[39m.\u001b[39mdtype\u001b[39m.\u001b[39mchar \u001b[39min\u001b[39;00m (\u001b[39m'\u001b[39m\u001b[39mS\u001b[39m\u001b[39m'\u001b[39m, \u001b[39m'\u001b[39m\u001b[39mU\u001b[39m\u001b[39m'\u001b[39m):\n\u001b[1;32m-> 1020\u001b[0m     picks \u001b[39m=\u001b[39m _picks_str_to_idx(info, picks, exclude, with_ref_meg,\n\u001b[0;32m   1021\u001b[0m                               return_kind, extra_repr, allow_empty,\n\u001b[0;32m   1022\u001b[0m                               orig_picks)\n\u001b[0;32m   1023\u001b[0m     \u001b[39mif\u001b[39;00m return_kind:\n\u001b[0;32m   1024\u001b[0m         picked_ch_type_or_generic \u001b[39m=\u001b[39m picks[\u001b[39m1\u001b[39m]\n",
      "File \u001b[1;32mc:\\Users\\haiou\\python-env\\.venv\\env_TNE\\lib\\site-packages\\mne\\io\\pick.py:1137\u001b[0m, in \u001b[0;36m_picks_str_to_idx\u001b[1;34m(info, picks, exclude, with_ref_meg, return_kind, extra_repr, allow_empty, orig_picks)\u001b[0m\n\u001b[0;32m   1135\u001b[0m \u001b[39mif\u001b[39;00m \u001b[39msum\u001b[39m(any_found) \u001b[39m==\u001b[39m \u001b[39m0\u001b[39m:\n\u001b[0;32m   1136\u001b[0m     \u001b[39mif\u001b[39;00m \u001b[39mnot\u001b[39;00m allow_empty:\n\u001b[1;32m-> 1137\u001b[0m         \u001b[39mraise\u001b[39;00m \u001b[39mValueError\u001b[39;00m(\n\u001b[0;32m   1138\u001b[0m             \u001b[39m'\u001b[39m\u001b[39mpicks (\u001b[39m\u001b[39m%s\u001b[39;00m\u001b[39m) could not be interpreted as \u001b[39m\u001b[39m'\u001b[39m\n\u001b[0;32m   1139\u001b[0m             \u001b[39m'\u001b[39m\u001b[39mchannel names (no channel \u001b[39m\u001b[39m\"\u001b[39m\u001b[39m%s\u001b[39;00m\u001b[39m\"\u001b[39m\u001b[39m), channel types (no \u001b[39m\u001b[39m'\u001b[39m\n\u001b[0;32m   1140\u001b[0m             \u001b[39m'\u001b[39m\u001b[39mtype \u001b[39m\u001b[39m\"\u001b[39m\u001b[39m%s\u001b[39;00m\u001b[39m\"\u001b[39m\u001b[39m), or a generic type (just \u001b[39m\u001b[39m\"\u001b[39m\u001b[39mall\u001b[39m\u001b[39m\"\u001b[39m\u001b[39m or \u001b[39m\u001b[39m\"\u001b[39m\u001b[39mdata\u001b[39m\u001b[39m\"\u001b[39m\u001b[39m)\u001b[39m\u001b[39m'\u001b[39m\n\u001b[0;32m   1141\u001b[0m             \u001b[39m%\u001b[39m (\u001b[39mrepr\u001b[39m(orig_picks) \u001b[39m+\u001b[39m extra_repr, \u001b[39mstr\u001b[39m(bad_names), bad_type))\n\u001b[0;32m   1142\u001b[0m     picks \u001b[39m=\u001b[39m np\u001b[39m.\u001b[39marray([], \u001b[39mint\u001b[39m)\n\u001b[0;32m   1143\u001b[0m \u001b[39melif\u001b[39;00m \u001b[39msum\u001b[39m(any_found) \u001b[39m>\u001b[39m \u001b[39m1\u001b[39m:\n",
      "\u001b[1;31mValueError\u001b[0m: picks (['C3']) could not be interpreted as channel names (no channel \"['C3']\"), channel types (no type \"C3\"), or a generic type (just \"all\" or \"data\")"
     ]
    }
   ],
   "source": [
    "%%capture\n",
    "subject_ID = np.arange(3,21)\n",
    "last_id = 0\n",
    "\n",
    "for idx in subject_ID:\n",
    "    last_id = idx\n",
    "    EEG_dict_RAW,EEG_dict_corrected,EEG_dict_corrected_CAR,EEG_filtered,EVENTS_dict = get_subject(idx,mode='eye_blink')\n",
    "    conditions = list(EEG_dict_corrected.keys())\n",
    "    epoch_dict = get_epochs(EEG_dict_corrected_CAR,EVENTS_dict)\n",
    "    epoch_dict = reject_bad_chs(epoch_dict)\n",
    "    save_erds_data(epoch_dict,filters)\n",
    "    "
   ]
  },
  {
   "cell_type": "code",
   "execution_count": 26,
   "metadata": {},
   "outputs": [
    {
     "name": "stdout",
     "output_type": "stream",
     "text": [
      "2\n"
     ]
    }
   ],
   "source": [
    "print(last_id)"
   ]
  },
  {
   "attachments": {},
   "cell_type": "markdown",
   "metadata": {},
   "source": [
    "### Statistical-analysis"
   ]
  },
  {
   "cell_type": "code",
   "execution_count": null,
   "metadata": {},
   "outputs": [],
   "source": []
  },
  {
   "attachments": {},
   "cell_type": "markdown",
   "metadata": {},
   "source": [
    "## Custom f-score"
   ]
  },
  {
   "cell_type": "code",
   "execution_count": 36,
   "metadata": {},
   "outputs": [
    {
     "name": "stdout",
     "output_type": "stream",
     "text": [
      "Not setting metadata\n",
      "60 matching events found\n",
      "No baseline correction applied\n",
      "0 projection items activated\n",
      "Using data from preloaded Raw for 60 events and 20001 original time points ...\n",
      "0 bad epochs dropped\n",
      "Estimating rejection dictionary for eeg\n",
      "Not setting metadata\n",
      "60 matching events found\n",
      "No baseline correction applied\n",
      "0 projection items activated\n",
      "Not setting metadata\n",
      "60 matching events found\n",
      "No baseline correction applied\n",
      "0 projection items activated\n",
      "Using data from preloaded Raw for 60 events and 20001 original time points ...\n",
      "0 bad epochs dropped\n",
      "Estimating rejection dictionary for eeg\n",
      "Not setting metadata\n",
      "60 matching events found\n",
      "No baseline correction applied\n",
      "0 projection items activated\n",
      "Using data from preloaded Raw for 60 events and 20001 original time points ...\n",
      "0 bad epochs dropped\n",
      "    Using multitaper spectrum estimation with 9 DPSS windows\n",
      "(60, 13, 19)\n",
      "(60, 247)\n",
      "(60,)\n"
     ]
    },
    {
     "data": {
      "image/png": "[encoded data removed]",
      "text/plain": [
       "<Figure size 640x480 with 2 Axes>"
      ]
     },
     "metadata": {},
     "output_type": "display_data"
    }
   ],
   "source": [
    "EEG_dict_corrected_CAR = get_epochs(EEG_dict_corrected_CAR,EVENTS_dict)\n",
    "freqs = np.arange(4,41,2)\n",
    "epochs = EEG_dict_corrected_CAR[MIPOST]['epochs'].copy()\n",
    "epochs.load_data()\n",
    "epochs.crop(2,7)\n",
    "epochs.resample(500)\n",
    "picks = [ch for ch in epochs.ch_names if ch not in epochs.info['bads']]\n",
    "fft = mne.time_frequency.psd_array_multitaper(epochs.get_data(picks=picks), epochs.info['sfreq'], fmin=0.0, fmax=40, bandwidth=2)\n",
    "bandpower = fft[0]\n",
    "current_freqs = fft[1]\n",
    "IDs = np.where(np.in1d(current_freqs,freqs))\n",
    "print(np.squeeze(bandpower[:,:,IDs]).shape)\n",
    "bandpower = np.squeeze(bandpower[:,:,IDs])\n",
    "\n",
    "x = np.squeeze(bandpower)\n",
    "X = x.reshape(x.shape[0], x.shape[1]*x.shape[2])\n",
    "print(X.shape)\n",
    "y = epochs.events[:,2].copy()\n",
    "print(y.shape)\n",
    "\n",
    "inputs = X\n",
    "labels = y    \n",
    "# Compute the number of features and number of samples\n",
    "n_samples = len(labels)\n",
    "n_features = inputs.shape[1]\n",
    "\n",
    "# Compute the number of classes\n",
    "classes = np.unique(labels)\n",
    "n_classes = len(classes)\n",
    "\n",
    "# Compute feature mean\n",
    "feature_mean = np.nanmean(inputs, axis=0)\n",
    "\n",
    "# Compute mean and std for features class-wise\n",
    "class_means = np.zeros((n_classes, n_features))\n",
    "class_var = np.zeros((n_classes, n_features))\n",
    "\n",
    "for i,c in enumerate(classes):\n",
    "    class_means[i] = np.nanmean(inputs[labels == c], axis=0)\n",
    "    class_var[i] = np.nanvar(inputs[labels == c], axis=0)\n",
    "    \n",
    "f_scores = np.zeros((n_features,))\n",
    "new_mean = class_means-feature_mean\n",
    "\n",
    "for n in range(n_features):\n",
    "    f_scores[n] = np.sum(np.square(new_mean[:,n]))/np.sum(class_var[:,n])\n",
    "f_scores = f_scores.reshape(x.shape[1],x.shape[2])\n",
    "\n",
    "sns.heatmap(f_scores,cmap = \"viridis\",xticklabels=freqs, yticklabels=picks)\n",
    "plt.show()"
   ]
  },
  {
   "attachments": {},
   "cell_type": "markdown",
   "metadata": {},
   "source": [
    "##### Compute bandpower"
   ]
  },
  {
   "cell_type": "code",
   "execution_count": 89,
   "metadata": {},
   "outputs": [
    {
     "name": "stdout",
     "output_type": "stream",
     "text": [
      "    Using multitaper spectrum estimation with 7 DPSS windows\n"
     ]
    }
   ],
   "source": [
    "spectrum = epochs.compute_psd(fmin=0,fmax=40)\n",
    "bandpower = spectrum.get_data()\n",
    "current_freqs = spectrum.freqs\n"
   ]
  },
  {
   "cell_type": "code",
   "execution_count": 57,
   "metadata": {},
   "outputs": [
    {
     "name": "stderr",
     "output_type": "stream",
     "text": [
      "[Parallel(n_jobs=1)]: Using backend SequentialBackend with 1 concurrent workers.\n",
      "[Parallel(n_jobs=1)]: Done   1 out of   1 | elapsed:    0.8s remaining:    0.0s\n",
      "[Parallel(n_jobs=1)]: Done   2 out of   2 | elapsed:    1.6s remaining:    0.0s\n",
      "[Parallel(n_jobs=1)]: Done   3 out of   3 | elapsed:    2.4s remaining:    0.0s\n",
      "[Parallel(n_jobs=1)]: Done   4 out of   4 | elapsed:    3.2s remaining:    0.0s\n",
      "[Parallel(n_jobs=1)]: Done  11 out of  11 | elapsed:    8.8s finished\n"
     ]
    }
   ],
   "source": [
    "tfr = mne.time_frequency.tfr_array_multitaper(epochs.get_data(picks=picks), epochs.info['sfreq'], freqs, n_cycles=7.0, zero_mean=True, time_bandwidth=4.0, use_fft=True, decim=1, output='power', n_jobs=None)"
   ]
  },
  {
   "cell_type": "code",
   "execution_count": 58,
   "metadata": {},
   "outputs": [],
   "source": [
    "bandpower = np.mean(tfr,axis=-1)"
   ]
  },
  {
   "cell_type": "code",
   "execution_count": 71,
   "metadata": {},
   "outputs": [
    {
     "name": "stderr",
     "output_type": "stream",
     "text": [
      "[Parallel(n_jobs=1)]: Using backend SequentialBackend with 1 concurrent workers.\n",
      "[Parallel(n_jobs=1)]: Done   1 out of   1 | elapsed:    0.7s remaining:    0.0s\n",
      "[Parallel(n_jobs=1)]: Done   2 out of   2 | elapsed:    1.6s remaining:    0.0s\n",
      "[Parallel(n_jobs=1)]: Done   3 out of   3 | elapsed:    2.7s remaining:    0.0s\n",
      "[Parallel(n_jobs=1)]: Done   4 out of   4 | elapsed:    3.8s remaining:    0.0s\n"
     ]
    },
    {
     "name": "stdout",
     "output_type": "stream",
     "text": [
      "Not setting metadata\n"
     ]
    },
    {
     "name": "stderr",
     "output_type": "stream",
     "text": [
      "[Parallel(n_jobs=1)]: Done  11 out of  11 | elapsed:   10.1s finished\n"
     ]
    }
   ],
   "source": [
    "\n",
    "tfr = mne.time_frequency.tfr_multitaper(epochs, freqs, n_cycles=freqs, time_bandwidth=4.0, use_fft=True, return_itc=False, decim=1, n_jobs=None, picks=None, average=False)\n"
   ]
  },
  {
   "cell_type": "code",
   "execution_count": 76,
   "metadata": {},
   "outputs": [
    {
     "name": "stderr",
     "output_type": "stream",
     "text": [
      "C:\\Users\\haiou\\AppData\\Local\\Temp\\ipykernel_18408\\3667231500.py:1: RuntimeWarning: tmax is not in time interval. tmax is set to <class 'mne.time_frequency.tfr.EpochsTFR'>.tmax (6.998 sec)\n",
      "  tfr.crop(2,7)\n"
     ]
    }
   ],
   "source": [
    "tfr.crop(2,7)\n",
    "bandpower = np.mean(tfr.data,axis=-1)"
   ]
  },
  {
   "attachments": {},
   "cell_type": "markdown",
   "metadata": {},
   "source": [
    "##### Compute Matrix"
   ]
  },
  {
   "cell_type": "code",
   "execution_count": 20,
   "metadata": {},
   "outputs": [
    {
     "name": "stdout",
     "output_type": "stream",
     "text": [
      "(58, 2211)\n",
      "(58,)\n"
     ]
    }
   ],
   "source": [
    "x = np.squeeze(bandpower)\n",
    "X = x.reshape(x.shape[0], x.shape[1]*x.shape[2])\n",
    "print(X.shape)\n",
    "y = epochs.events[:,2].copy()\n",
    "print(y.shape)"
   ]
  },
  {
   "cell_type": "code",
   "execution_count": 21,
   "metadata": {},
   "outputs": [
    {
     "name": "stdout",
     "output_type": "stream",
     "text": [
      "(11, 201)\n"
     ]
    }
   ],
   "source": [
    "inputs = X\n",
    "labels = y    \n",
    "# Compute the number of features and number of samples\n",
    "n_samples = len(labels)\n",
    "n_features = inputs.shape[1]\n",
    "\n",
    "# Compute the number of classes\n",
    "classes = np.unique(labels)\n",
    "n_classes = len(classes)\n",
    "\n",
    "# Compute feature mean\n",
    "feature_mean = np.nanmean(inputs, axis=0)\n",
    "\n",
    "# Compute mean and std for features class-wise\n",
    "class_means = np.zeros((n_classes, n_features))\n",
    "class_var = np.zeros((n_classes, n_features))\n",
    "\n",
    "for i,c in enumerate(classes):\n",
    "    class_means[i] = np.nanmean(inputs[labels == c], axis=0)\n",
    "    class_var[i] = np.nanvar(inputs[labels == c], axis=0)\n",
    "    \n",
    "f_scores = np.zeros((n_features,))\n",
    "new_mean = class_means-feature_mean\n",
    "\n",
    "for n in range(n_features):\n",
    "    f_scores[n] = np.sum(np.square(new_mean[:,n]))/np.sum(class_var[:,n])\n",
    "f_scores = f_scores.reshape(x.shape[1],x.shape[2])\n",
    "print(f_scores.shape)"
   ]
  },
  {
   "cell_type": "code",
   "execution_count": 23,
   "metadata": {},
   "outputs": [
    {
     "data": {
      "image/png": "[encoded data removed]",
      "text/plain": [
       "<Figure size 640x480 with 2 Axes>"
      ]
     },
     "metadata": {},
     "output_type": "display_data"
    }
   ],
   "source": [
    "sns.heatmap(f_scores,cmap = \"viridis\",xticklabels=freqs, yticklabels=picks)\n",
    "plt.show()"
   ]
  },
  {
   "cell_type": "code",
   "execution_count": 44,
   "metadata": {},
   "outputs": [
    {
     "ename": "AttributeError",
     "evalue": "'list' object has no attribute 'split'",
     "output_type": "error",
     "traceback": [
      "\u001b[1;31m---------------------------------------------------------------------------\u001b[0m",
      "\u001b[1;31mAttributeError\u001b[0m                            Traceback (most recent call last)",
      "Cell \u001b[1;32mIn[44], line 3\u001b[0m\n\u001b[0;32m      1\u001b[0m subject_IDS \u001b[39m=\u001b[39m np\u001b[39m.\u001b[39marange(\u001b[39m1\u001b[39m,\u001b[39m21\u001b[39m)\n\u001b[0;32m      2\u001b[0m \u001b[39mfor\u001b[39;00m idx \u001b[39min\u001b[39;00m subject_IDS:\n\u001b[1;32m----> 3\u001b[0m     EEG_dict_RAW,EEG_dict_corrected,EEG_dict_corrected_CAR,EEG_filtered,EVENTS_dict \u001b[39m=\u001b[39m get_subject(idx,mode\u001b[39m=\u001b[39;49m\u001b[39m'\u001b[39;49m\u001b[39meye_blink\u001b[39;49m\u001b[39m'\u001b[39;49m)\n\u001b[0;32m      4\u001b[0m     conditions \u001b[39m=\u001b[39m \u001b[39mlist\u001b[39m(EEG_dict_corrected\u001b[39m.\u001b[39mkeys())\n\u001b[0;32m      5\u001b[0m     MIPOST \u001b[39m=\u001b[39m [x \u001b[39mfor\u001b[39;00m x \u001b[39min\u001b[39;00m conditions \u001b[39mif\u001b[39;00m \u001b[39m'\u001b[39m\u001b[39mMIpost\u001b[39m\u001b[39m'\u001b[39m \u001b[39min\u001b[39;00m x][\u001b[39m0\u001b[39m]\n",
      "File \u001b[1;32mc:\\Users\\haiou\\Documents\\TNE\\Python\\helpers.py:473\u001b[0m, in \u001b[0;36mget_subject\u001b[1;34m(folder_idx, mode, filters, baseline)\u001b[0m\n\u001b[0;32m    470\u001b[0m     path \u001b[39m=\u001b[39m \u001b[39m'\u001b[39m\u001b[39mData/Group_Realistic_Arm_Tactile/S\u001b[39m\u001b[39m'\u001b[39m\u001b[39m+\u001b[39m\u001b[39mstr\u001b[39m(folder_idx)\n\u001b[0;32m    471\u001b[0m \u001b[39mprint\u001b[39m(\u001b[39m\"\u001b[39m\u001b[39mProcessing: \u001b[39m\u001b[39m\"\u001b[39m \u001b[39m+\u001b[39m path)\n\u001b[1;32m--> 473\u001b[0m EEG_dict_RAW,EEG_dict_corrected,EEG_dict_corrected_CAR,EVENTS_dict \u001b[39m=\u001b[39m read_file(path,\u001b[39m'\u001b[39;49m\u001b[39mrawBP\u001b[39;49m\u001b[39m'\u001b[39;49m,mode);\n\u001b[0;32m    475\u001b[0m EEG_filtered \u001b[39m=\u001b[39m {}\n\u001b[0;32m    477\u001b[0m \u001b[39mif\u001b[39;00m filters \u001b[39m!=\u001b[39m \u001b[39mNone\u001b[39;00m:\n",
      "File \u001b[1;32mc:\\Users\\haiou\\Documents\\TNE\\Python\\helpers.py:288\u001b[0m, in \u001b[0;36mread_file\u001b[1;34m(path, filtering, mode)\u001b[0m\n\u001b[0;32m    285\u001b[0m \u001b[39mfor\u001b[39;00m condition \u001b[39min\u001b[39;00m \u001b[39mlist\u001b[39m(EEG_dict\u001b[39m.\u001b[39mkeys()):\n\u001b[0;32m    286\u001b[0m     ICA_dict[condition] \u001b[39m=\u001b[39m mne\u001b[39m.\u001b[39mpreprocessing\u001b[39m.\u001b[39mread_ica(path\u001b[39m+\u001b[39m\u001b[39m'\u001b[39m\u001b[39m/ICA_data/\u001b[39m\u001b[39m'\u001b[39m\u001b[39m+\u001b[39mcondition\u001b[39m+\u001b[39m\u001b[39m'\u001b[39m\u001b[39m_ica\u001b[39m\u001b[39m'\u001b[39m)\n\u001b[1;32m--> 288\u001b[0m EEG_dict_corrected \u001b[39m=\u001b[39m apply_ica(EEG_dict,ICA_dict,mode)\n\u001b[0;32m    290\u001b[0m EEG_dict_corrected_CAR \u001b[39m=\u001b[39m copy\u001b[39m.\u001b[39mdeepcopy(EEG_dict_corrected)\n\u001b[0;32m    291\u001b[0m EEG_dict_corrected_CAR \u001b[39m=\u001b[39m reject_off_center(EEG_dict_corrected_CAR)\n",
      "File \u001b[1;32mc:\\Users\\haiou\\Documents\\TNE\\Python\\helpers.py:409\u001b[0m, in \u001b[0;36mapply_ica\u001b[1;34m(EEG_dict, ICA_dict, mode)\u001b[0m\n\u001b[0;32m    407\u001b[0m EEG_dict_corrected \u001b[39m=\u001b[39m copy\u001b[39m.\u001b[39mdeepcopy(EEG_dict\u001b[39m.\u001b[39mcopy())\n\u001b[0;32m    408\u001b[0m \u001b[39mfor\u001b[39;00m condition \u001b[39min\u001b[39;00m EEG_keys:\n\u001b[1;32m--> 409\u001b[0m     bad_comp \u001b[39m=\u001b[39m ica_recap[ica_recap[\u001b[39m'\u001b[39;49m\u001b[39mcondition\u001b[39;49m\u001b[39m'\u001b[39;49m] \u001b[39m==\u001b[39;49m condition][\u001b[39m'\u001b[39;49m\u001b[39meye_blink\u001b[39;49m\u001b[39m'\u001b[39;49m]\u001b[39m.\u001b[39;49mcopy()\u001b[39m.\u001b[39;49mvalues\u001b[39m.\u001b[39;49msqueeze()\u001b[39m.\u001b[39;49mtolist()\u001b[39m.\u001b[39;49msplit(\u001b[39m'\u001b[39m\u001b[39m,\u001b[39m\u001b[39m'\u001b[39m)\n\u001b[0;32m    410\u001b[0m     \u001b[39mif\u001b[39;00m mode \u001b[39m==\u001b[39m \u001b[39m'\u001b[39m\u001b[39mall\u001b[39m\u001b[39m'\u001b[39m:\n\u001b[0;32m    411\u001b[0m         bad_comp \u001b[39m=\u001b[39m bad_comp \u001b[39m+\u001b[39m ica_recap[ica_recap[\u001b[39m'\u001b[39m\u001b[39mcondition\u001b[39m\u001b[39m'\u001b[39m] \u001b[39m==\u001b[39m condition][\u001b[39m'\u001b[39m\u001b[39mother\u001b[39m\u001b[39m'\u001b[39m]\u001b[39m.\u001b[39mcopy()\u001b[39m.\u001b[39mvalues\u001b[39m.\u001b[39msqueeze()\u001b[39m.\u001b[39mtolist()\u001b[39m.\u001b[39msplit(\u001b[39m'\u001b[39m\u001b[39m,\u001b[39m\u001b[39m'\u001b[39m)\n",
      "\u001b[1;31mAttributeError\u001b[0m: 'list' object has no attribute 'split'"
     ]
    }
   ],
   "source": [
    "%%capture\n",
    "subject_IDS = np.arange(1,21)\n",
    "for idx in subject_IDS:\n",
    "    EEG_dict_RAW,EEG_dict_corrected,EEG_dict_corrected_CAR,EEG_filtered,EVENTS_dict = get_subject(idx,mode='eye_blink')\n",
    "    conditions = list(EEG_dict_corrected.keys())\n",
    "    MIPOST = [x for x in conditions if 'MIpost' in x][0]\n",
    "    MIPRE = [x for x in conditions if 'MIpre' in x][0]\n",
    "    fisher_analysis(EEG_dict_corrected_CAR,EVENTS_dict)"
   ]
  }
 ],
 "metadata": {
  "kernelspec": {
   "display_name": "env_TNE",
   "language": "python",
   "name": "python3"
  },
  "language_info": {
   "codemirror_mode": {
    "name": "ipython",
    "version": 3
   },
   "file_extension": ".py",
   "mimetype": "text/x-python",
   "name": "python",
   "nbconvert_exporter": "python",
   "pygments_lexer": "ipython3",
   "version": "3.9.2"
  },
  "orig_nbformat": 4
 },
 "nbformat": 4,
 "nbformat_minor": 2
}
